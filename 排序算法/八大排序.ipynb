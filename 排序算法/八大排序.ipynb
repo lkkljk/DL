{
 "cells": [
  {
   "cell_type": "markdown",
   "metadata": {},
   "source": [
    "冒泡排序复杂度为 n^2"
   ]
  },
  {
   "cell_type": "code",
   "execution_count": 3,
   "metadata": {},
   "outputs": [],
   "source": [
    "\n",
    "lists=[49,38,65,97,76,13,27,49,55,4]"
   ]
  },
  {
   "cell_type": "code",
   "execution_count": 1,
   "metadata": {},
   "outputs": [],
   "source": [
    "def BubbleSort(list):\n",
    "    count = len(list)\n",
    "    for i in range(count):\n",
    "        for j in range(i+1, count):\n",
    "            if list[i] > list[j]:\n",
    "                list[i], list[j] = list[j], list[i]\n",
    "    return list"
   ]
  },
  {
   "cell_type": "code",
   "execution_count": 2,
   "metadata": {},
   "outputs": [],
   "source": [
    "# 插入排序，复杂度也是n^2\n",
    "\n",
    "def InsertSort(list):\n",
    "    count = len(list)\n",
    "    for i in range(1, count):\n",
    "        j = i - 1\n",
    "        key = list[i]\n",
    "        while j >= 0:\n",
    "            if key < list[j]:\n",
    "                list[j+1] = list[j]\n",
    "                list[j] = key\n",
    "            j = j - 1\n",
    "    return list"
   ]
  },
  {
   "cell_type": "code",
   "execution_count": 4,
   "metadata": {},
   "outputs": [
    {
     "data": {
      "text/plain": [
       "[4, 13, 27, 38, 49, 49, 55, 65, 76, 97]"
      ]
     },
     "execution_count": 4,
     "metadata": {},
     "output_type": "execute_result"
    }
   ],
   "source": [
    "BubbleSort(lists)"
   ]
  },
  {
   "cell_type": "code",
   "execution_count": 6,
   "metadata": {},
   "outputs": [
    {
     "data": {
      "text/plain": [
       "[4, 13, 27, 38, 49, 49, 55, 65, 76, 97]"
      ]
     },
     "execution_count": 6,
     "metadata": {},
     "output_type": "execute_result"
    }
   ],
   "source": [
    "InsertSort(lists)"
   ]
  },
  {
   "cell_type": "code",
   "execution_count": 7,
   "metadata": {},
   "outputs": [
    {
     "data": {
      "text/plain": [
       "[4, 13, 27, 38, 49, 49, 55, 65, 76, 97]"
      ]
     },
     "execution_count": 7,
     "metadata": {},
     "output_type": "execute_result"
    }
   ],
   "source": [
    "#选择排序   复杂度也是 n^2  因为在寻找list最小值时也要遍历寻找\n",
    "# 遍历每一个位置，将列表剩余值中的最小值移动到当前i位置。\n",
    "\n",
    "def SelectionSort(list):\n",
    "    count = len(list)\n",
    "    for i in range(count):     \n",
    "        list[i] = min(list[i:])\n",
    "    return list\n",
    "\n",
    "SelectionSort(lists)"
   ]
  },
  {
   "cell_type": "code",
   "execution_count": null,
   "metadata": {},
   "outputs": [],
   "source": []
  }
 ],
 "metadata": {
  "kernelspec": {
   "display_name": "Python 3",
   "language": "python",
   "name": "python3"
  },
  "language_info": {
   "codemirror_mode": {
    "name": "ipython",
    "version": 3
   },
   "file_extension": ".py",
   "mimetype": "text/x-python",
   "name": "python",
   "nbconvert_exporter": "python",
   "pygments_lexer": "ipython3",
   "version": "3.6.8"
  }
 },
 "nbformat": 4,
 "nbformat_minor": 4
}
