{
 "cells": [
  {
   "cell_type": "markdown",
   "metadata": {},
   "source": [
    "冒泡排序复杂度为 n^2"
   ]
  },
  {
   "cell_type": "code",
   "execution_count": 2,
   "metadata": {},
   "outputs": [],
   "source": [
    "\n",
    "lists=[49,38,65,97,76,13,27,49,55,4]"
   ]
  },
  {
   "cell_type": "code",
   "execution_count": 1,
   "metadata": {},
   "outputs": [],
   "source": [
    "def BubbleSort(list):\n",
    "    count = len(list)\n",
    "    for i in range(count):\n",
    "        for j in range(i+1, count):\n",
    "            if list[i] > list[j]:\n",
    "                list[i], list[j] = list[j], list[i]\n",
    "    return list"
   ]
  },
  {
   "cell_type": "code",
   "execution_count": 2,
   "metadata": {},
   "outputs": [],
   "source": [
    "# 插入排序，复杂度也是n^2\n",
    "\n",
    "def InsertSort(list):\n",
    "    count = len(list)\n",
    "    for i in range(1, count):\n",
    "        j = i - 1\n",
    "        key = list[i]\n",
    "        while j >= 0:\n",
    "            if key < list[j]:\n",
    "                list[j+1] = list[j]\n",
    "                list[j] = key\n",
    "            j = j - 1\n",
    "    return list"
   ]
  },
  {
   "cell_type": "code",
   "execution_count": 4,
   "metadata": {},
   "outputs": [
    {
     "data": {
      "text/plain": [
       "[4, 13, 27, 38, 49, 49, 55, 65, 76, 97]"
      ]
     },
     "execution_count": 4,
     "metadata": {},
     "output_type": "execute_result"
    }
   ],
   "source": [
    "BubbleSort(lists)"
   ]
  },
  {
   "cell_type": "code",
   "execution_count": 6,
   "metadata": {},
   "outputs": [
    {
     "data": {
      "text/plain": [
       "[4, 13, 27, 38, 49, 49, 55, 65, 76, 97]"
      ]
     },
     "execution_count": 6,
     "metadata": {},
     "output_type": "execute_result"
    }
   ],
   "source": [
    "InsertSort(lists)"
   ]
  },
  {
   "cell_type": "code",
   "execution_count": 7,
   "metadata": {},
   "outputs": [
    {
     "data": {
      "text/plain": [
       "[4, 13, 27, 38, 49, 49, 55, 65, 76, 97]"
      ]
     },
     "execution_count": 7,
     "metadata": {},
     "output_type": "execute_result"
    }
   ],
   "source": [
    "#选择排序   复杂度也是 n^2  因为在寻找list最小值时也要遍历寻找\n",
    "# 遍历每一个位置，将列表剩余值中的最小值移动到当前i位置。\n",
    "\n",
    "#从待排序的数据元素中选出最小（或最大）的一个元素，存放在序列的起始位置，直到全部待排序的数据元素排完。\n",
    "\n",
    "def SelectionSort(list):\n",
    "    count = len(list)\n",
    "    for i in range(count):     \n",
    "        list[i] = min(list[i:])\n",
    "    return list\n",
    "\n",
    "SelectionSort(lists)"
   ]
  },
  {
   "cell_type": "code",
   "execution_count": 3,
   "metadata": {},
   "outputs": [
    {
     "data": {
      "text/plain": [
       "[4, 13, 27, 38, 49, 49, 55, 65, 76, 97]"
      ]
     },
     "execution_count": 3,
     "metadata": {},
     "output_type": "execute_result"
    }
   ],
   "source": [
    "# 希尔排序， 本质是插入排序， 但是为了节省每次都去做比较的时间，所以先选取一个跨度较大的间隔进行比较交换；\n",
    "# 经过第一轮交换之后， 序列已经比较有序， 这时就需要较小的间隔去做排序，越往下需要的间隔就越小；\n",
    "#这是一个不稳定的排序，复杂度最高是n方， 最低是nlog2n\n",
    "\n",
    "\n",
    "def ShellSort(list):\n",
    "    \n",
    "    count = len(list)\n",
    "    h = 1\n",
    "    while h < count/3:\n",
    "        h = h*3 + 1\n",
    "    while h >= 1:\n",
    "        for i in range(h, count):\n",
    "            j = i\n",
    "            while j >= h and list[j] < list[j-h]:\n",
    "                list[j], list[j-h] = list[j-h], list[j]\n",
    "                j -= h\n",
    "        h = h//3\n",
    "    return list\n",
    "\n",
    "ShellSort(lists)"
   ]
  },
  {
   "cell_type": "code",
   "execution_count": 18,
   "metadata": {},
   "outputs": [
    {
     "data": {
      "text/plain": [
       "[4, 13, 27, 38, 49, 49, 55, 65, 76, 97]"
      ]
     },
     "execution_count": 18,
     "metadata": {},
     "output_type": "execute_result"
    }
   ],
   "source": [
    "# 归并排序， 本质是分治思想，首先需要把所有的序列都分成最小块， 可以看作是很多歌有序的小序列， 然后再依次合并\n",
    "#合并的过程中需要两个序列各一个指针， 互相进行比较， 比较完的数放入新序列，两个指针依次向后移动；\n",
    "\n",
    "#归并排序需要新空间， 空间复杂度高， 不适用于大数量\n",
    "\n",
    "def MergeSort(lists):\n",
    "    count = len(lists)\n",
    "    \n",
    "    #判断参数是否正确\n",
    "    if count < 1:\n",
    "        return []\n",
    "    #递归分解到长度为1的时候\n",
    "    if count == 1:\n",
    "        return lists\n",
    "    #获取中间位的索引值\n",
    "    middleIndex = (count >> 1)\n",
    "    sortedLeft = MergeSort(lists[:middleIndex])\n",
    "    sortedRight = MergeSort(lists[middleIndex:])\n",
    "    \n",
    "    return MergeCore(sortedLeft, sortedRight)\n",
    "\n",
    "def MergeCore(leftList, rightList):\n",
    "    leftIndex = 0\n",
    "    rightIndex = 0\n",
    "    leftLen = len(leftList)\n",
    "    rightLen = len(rightList)\n",
    "    retlist = []\n",
    "    \n",
    "    #左右列表挨个比较元素， 小的放入新列表\n",
    "    while leftIndex < leftLen and rightIndex < rightLen:\n",
    "        if leftList[leftIndex] < rightList[rightIndex]:\n",
    "            retlist.append(leftList[leftIndex])\n",
    "            leftIndex += 1\n",
    "        else:\n",
    "            retlist.append(rightList[rightIndex])\n",
    "            rightIndex += 1\n",
    "    \n",
    "    # 此时一个序列已经空了， 将剩余的元素依次放入新列表\n",
    "    if leftIndex < leftLen:\n",
    "        while leftIndex < leftLen:\n",
    "            retlist.append(leftList[leftIndex])\n",
    "            leftIndex += 1\n",
    "    if rightIndex < rightLen:\n",
    "        while rightIndex < rightLen:\n",
    "            retlist.append(rightList[rightIndex])\n",
    "            rightIndex += 1\n",
    "    return retlist\n",
    "\n",
    "MergeSort(lists)\n",
    "\n"
   ]
  },
  {
   "cell_type": "code",
   "execution_count": 5,
   "metadata": {},
   "outputs": [
    {
     "data": {
      "text/plain": [
       "2"
      ]
     },
     "execution_count": 5,
     "metadata": {},
     "output_type": "execute_result"
    }
   ],
   "source": [
    "4 >> 1"
   ]
  },
  {
   "cell_type": "code",
   "execution_count": 6,
   "metadata": {},
   "outputs": [
    {
     "data": {
      "text/plain": [
       "2"
      ]
     },
     "execution_count": 6,
     "metadata": {},
     "output_type": "execute_result"
    }
   ],
   "source": [
    "5 >> 1"
   ]
  },
  {
   "cell_type": "code",
   "execution_count": 12,
   "metadata": {},
   "outputs": [
    {
     "data": {
      "text/plain": [
       "1"
      ]
     },
     "execution_count": 12,
     "metadata": {},
     "output_type": "execute_result"
    }
   ],
   "source": [
    "2 >> 1"
   ]
  },
  {
   "cell_type": "code",
   "execution_count": null,
   "metadata": {},
   "outputs": [],
   "source": []
  }
 ],
 "metadata": {
  "kernelspec": {
   "display_name": "Python 3",
   "language": "python",
   "name": "python3"
  },
  "language_info": {
   "codemirror_mode": {
    "name": "ipython",
    "version": 3
   },
   "file_extension": ".py",
   "mimetype": "text/x-python",
   "name": "python",
   "nbconvert_exporter": "python",
   "pygments_lexer": "ipython3",
   "version": "3.6.8"
  }
 },
 "nbformat": 4,
 "nbformat_minor": 4
}
