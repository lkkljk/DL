{
 "cells": [
  {
   "cell_type": "code",
   "execution_count": 1,
   "metadata": {},
   "outputs": [
    {
     "name": "stdout",
     "output_type": "stream",
     "text": [
      "sys.version_info(major=3, minor=6, micro=8, releaselevel='final', serial=0)\n",
      "matplotlib 3.1.0\n",
      "numpy 1.16.4\n",
      "sklearn 0.21.2\n",
      "pandas 0.24.2\n",
      "tensorflow 2.0.0-alpha0\n",
      "tensorflow.python.keras.api._v2.keras 2.2.4-tf\n"
     ]
    }
   ],
   "source": [
    "import matplotlib as mpl\n",
    "import matplotlib.pyplot as plt\n",
    "%matplotlib inline\n",
    "import numpy as np\n",
    "import sklearn\n",
    "import os\n",
    "import sys\n",
    "import pandas as pd\n",
    "import time\n",
    "import tensorflow as tf\n",
    "from tensorflow import keras\n",
    "\n",
    "print(sys.version_info)\n",
    "for module in mpl,np, sklearn,pd,tf,keras:\n",
    "    print(module.__name__,module.__version__)"
   ]
  },
  {
   "cell_type": "code",
   "execution_count": 2,
   "metadata": {},
   "outputs": [
    {
     "name": "stdout",
     "output_type": "stream",
     "text": [
      ".. _california_housing_dataset:\n",
      "\n",
      "California Housing dataset\n",
      "--------------------------\n",
      "\n",
      "**Data Set Characteristics:**\n",
      "\n",
      "    :Number of Instances: 20640\n",
      "\n",
      "    :Number of Attributes: 8 numeric, predictive attributes and the target\n",
      "\n",
      "    :Attribute Information:\n",
      "        - MedInc        median income in block\n",
      "        - HouseAge      median house age in block\n",
      "        - AveRooms      average number of rooms\n",
      "        - AveBedrms     average number of bedrooms\n",
      "        - Population    block population\n",
      "        - AveOccup      average house occupancy\n",
      "        - Latitude      house block latitude\n",
      "        - Longitude     house block longitude\n",
      "\n",
      "    :Missing Attribute Values: None\n",
      "\n",
      "This dataset was obtained from the StatLib repository.\n",
      "http://lib.stat.cmu.edu/datasets/\n",
      "\n",
      "The target variable is the median house value for California districts.\n",
      "\n",
      "This dataset was derived from the 1990 U.S. census, using one row per census\n",
      "block group. A block group is the smallest geographical unit for which the U.S.\n",
      "Census Bureau publishes sample data (a block group typically has a population\n",
      "of 600 to 3,000 people).\n",
      "\n",
      "It can be downloaded/loaded using the\n",
      ":func:`sklearn.datasets.fetch_california_housing` function.\n",
      "\n",
      ".. topic:: References\n",
      "\n",
      "    - Pace, R. Kelley and Ronald Barry, Sparse Spatial Autoregressions,\n",
      "      Statistics and Probability Letters, 33 (1997) 291-297\n",
      "\n",
      "(20640, 8)\n",
      "(20640,)\n"
     ]
    }
   ],
   "source": [
    "from sklearn.datasets import fetch_california_housing\n",
    "\n",
    "housing = fetch_california_housing()\n",
    "print(housing.DESCR)\n",
    "print(housing.data.shape)\n",
    "print(housing.target.shape)"
   ]
  },
  {
   "cell_type": "code",
   "execution_count": 3,
   "metadata": {},
   "outputs": [
    {
     "name": "stdout",
     "output_type": "stream",
     "text": [
      "(11610, 8) (11610,)\n",
      "(3870, 8) (3870,)\n",
      "(5160, 8) (5160,)\n"
     ]
    }
   ],
   "source": [
    "from sklearn.model_selection import train_test_split\n",
    "\n",
    "x_train_all, x_test, y_train_all, y_test = train_test_split(\n",
    "    housing.data, housing.target, random_state = 1    #,test_size = 0.25   default, 3:1\n",
    ")\n",
    "\n",
    "x_train, x_valid, y_train, y_valid = train_test_split(\n",
    "    x_train_all, y_train_all, random_state = 2)\n",
    "\n",
    "print(x_train.shape, y_train.shape)\n",
    "print(x_valid.shape, y_valid.shape)\n",
    "print(x_test.shape, y_test.shape)"
   ]
  },
  {
   "cell_type": "code",
   "execution_count": 4,
   "metadata": {},
   "outputs": [],
   "source": [
    "from sklearn.preprocessing import StandardScaler\n",
    "\n",
    "scaler = StandardScaler()\n",
    "x_train_scaled = scaler.fit_transform(x_train)\n",
    "x_valid_scaled = scaler.transform(x_valid)\n",
    "x_test_scaled = scaler.transform(x_test)"
   ]
  },
  {
   "cell_type": "code",
   "execution_count": 7,
   "metadata": {},
   "outputs": [
    {
     "name": "stdout",
     "output_type": "stream",
     "text": [
      "Model: \"wide_deep_model_2\"\n",
      "_________________________________________________________________\n",
      "Layer (type)                 Output Shape              Param #   \n",
      "=================================================================\n",
      "dense_6 (Dense)              multiple                  270       \n",
      "_________________________________________________________________\n",
      "dense_7 (Dense)              multiple                  930       \n",
      "_________________________________________________________________\n",
      "dense_8 (Dense)              multiple                  39        \n",
      "=================================================================\n",
      "Total params: 1,239\n",
      "Trainable params: 1,239\n",
      "Non-trainable params: 0\n",
      "_________________________________________________________________\n"
     ]
    }
   ],
   "source": [
    "# 子类api\n",
    "\n",
    "class WideDeepModel(keras.models.Model):\n",
    "    def __init__(self):\n",
    "        super(WideDeepModel, self).__init__()\n",
    "        #定义模型层次\n",
    "        self.hidden1_layer = keras.layers.Dense(30, activation='relu')\n",
    "        self.hidden2_layer = keras.layers.Dense(30, activation='relu')\n",
    "        self.output_layer = keras.layers.Dense(1)\n",
    "        \n",
    "    def call(self, input):\n",
    "        #完成模型的正向计算\n",
    "        hidden1 = self.hidden1_layer(input)\n",
    "        hidden2 = self.hidden2_layer(hidden1)\n",
    "        concat = keras.layers.concatenate([input, hidden2])\n",
    "        output = self.output_layer(concat)\n",
    "        return output\n",
    "\n",
    "# 使用模型：先创建model 对象\n",
    "model = WideDeepModel()\n",
    "# 调用build函数来指定输入的shape是什么\n",
    "model.build(input_shape=(None, 8))\n",
    "\n",
    "\n",
    "\n",
    "model.summary()\n",
    "model.compile(loss='mean_squared_error', optimizer='sgd')\n",
    "callbacks = [keras.callbacks.EarlyStopping(patience=5, min_delta=1e-3)]\n"
   ]
  },
  {
   "cell_type": "code",
   "execution_count": 8,
   "metadata": {
    "scrolled": true
   },
   "outputs": [
    {
     "name": "stdout",
     "output_type": "stream",
     "text": [
      "Train on 11610 samples, validate on 3870 samples\n",
      "Epoch 1/100\n",
      "11610/11610 [==============================] - 2s 194us/sample - loss: 1.7976 - val_loss: 0.8222\n",
      "Epoch 2/100\n",
      "11610/11610 [==============================] - 2s 145us/sample - loss: 0.7977 - val_loss: 0.7510\n",
      "Epoch 3/100\n",
      "11610/11610 [==============================] - 2s 140us/sample - loss: 0.7261 - val_loss: 0.7013\n",
      "Epoch 4/100\n",
      "11610/11610 [==============================] - 2s 146us/sample - loss: 0.6808 - val_loss: 0.6631\n",
      "Epoch 5/100\n",
      "11610/11610 [==============================] - 2s 140us/sample - loss: 0.6434 - val_loss: 0.6294\n",
      "Epoch 6/100\n",
      "11610/11610 [==============================] - 2s 144us/sample - loss: 0.6130 - val_loss: 0.6027\n",
      "Epoch 7/100\n",
      "11610/11610 [==============================] - 2s 141us/sample - loss: 0.5884 - val_loss: 0.5789\n",
      "Epoch 8/100\n",
      "11610/11610 [==============================] - 2s 140us/sample - loss: 0.5672 - val_loss: 0.5601\n",
      "Epoch 9/100\n",
      "11610/11610 [==============================] - 2s 157us/sample - loss: 0.5500 - val_loss: 0.5432\n",
      "Epoch 10/100\n",
      "11610/11610 [==============================] - 2s 154us/sample - loss: 0.5349 - val_loss: 0.5298\n",
      "Epoch 11/100\n",
      "11610/11610 [==============================] - 2s 163us/sample - loss: 0.5232 - val_loss: 0.5181\n",
      "Epoch 12/100\n",
      "11610/11610 [==============================] - 2s 156us/sample - loss: 0.5132 - val_loss: 0.5094\n",
      "Epoch 13/100\n",
      "11610/11610 [==============================] - 2s 153us/sample - loss: 0.5046 - val_loss: 0.5012\n",
      "Epoch 14/100\n",
      "11610/11610 [==============================] - 2s 144us/sample - loss: 0.4977 - val_loss: 0.4956\n",
      "Epoch 15/100\n",
      "11610/11610 [==============================] - 2s 148us/sample - loss: 0.4926 - val_loss: 0.4891\n",
      "Epoch 16/100\n",
      "11610/11610 [==============================] - 2s 145us/sample - loss: 0.4866 - val_loss: 0.4847\n",
      "Epoch 17/100\n",
      "11610/11610 [==============================] - 2s 144us/sample - loss: 0.4826 - val_loss: 0.4803\n",
      "Epoch 18/100\n",
      "11610/11610 [==============================] - 2s 147us/sample - loss: 0.4779 - val_loss: 0.4756\n",
      "Epoch 19/100\n",
      "11610/11610 [==============================] - 2s 150us/sample - loss: 0.4741 - val_loss: 0.4719\n",
      "Epoch 20/100\n",
      "11610/11610 [==============================] - 2s 161us/sample - loss: 0.4711 - val_loss: 0.4689\n",
      "Epoch 21/100\n",
      "11610/11610 [==============================] - 2s 147us/sample - loss: 0.4677 - val_loss: 0.4661\n",
      "Epoch 22/100\n",
      "11610/11610 [==============================] - 2s 155us/sample - loss: 0.4645 - val_loss: 0.4624\n",
      "Epoch 23/100\n",
      "11610/11610 [==============================] - 2s 155us/sample - loss: 0.4621 - val_loss: 0.4605\n",
      "Epoch 24/100\n",
      "11610/11610 [==============================] - 2s 143us/sample - loss: 0.4589 - val_loss: 0.4578\n",
      "Epoch 25/100\n",
      "11610/11610 [==============================] - 2s 145us/sample - loss: 0.4563 - val_loss: 0.4557\n",
      "Epoch 26/100\n",
      "11610/11610 [==============================] - 2s 140us/sample - loss: 0.4543 - val_loss: 0.4531\n",
      "Epoch 27/100\n",
      "11610/11610 [==============================] - 2s 147us/sample - loss: 0.4518 - val_loss: 0.4508\n",
      "Epoch 28/100\n",
      "11610/11610 [==============================] - 2s 144us/sample - loss: 0.4490 - val_loss: 0.4490\n",
      "Epoch 29/100\n",
      "11610/11610 [==============================] - 2s 149us/sample - loss: 0.4471 - val_loss: 0.4470\n",
      "Epoch 30/100\n",
      "11610/11610 [==============================] - 2s 144us/sample - loss: 0.4453 - val_loss: 0.4462\n",
      "Epoch 31/100\n",
      "11610/11610 [==============================] - 2s 140us/sample - loss: 0.4434 - val_loss: 0.4433\n",
      "Epoch 32/100\n",
      "11610/11610 [==============================] - 2s 141us/sample - loss: 0.4412 - val_loss: 0.4410\n",
      "Epoch 33/100\n",
      "11610/11610 [==============================] - 2s 141us/sample - loss: 0.4401 - val_loss: 0.4397\n",
      "Epoch 34/100\n",
      "11610/11610 [==============================] - 2s 145us/sample - loss: 0.4376 - val_loss: 0.4396\n",
      "Epoch 35/100\n",
      "11610/11610 [==============================] - 2s 145us/sample - loss: 0.4363 - val_loss: 0.4367\n",
      "Epoch 36/100\n",
      "11610/11610 [==============================] - 2s 142us/sample - loss: 0.4349 - val_loss: 0.4352\n",
      "Epoch 37/100\n",
      "11610/11610 [==============================] - 2s 149us/sample - loss: 0.4328 - val_loss: 0.4336\n",
      "Epoch 38/100\n",
      "11610/11610 [==============================] - 2s 140us/sample - loss: 0.4315 - val_loss: 0.4322\n",
      "Epoch 39/100\n",
      "11610/11610 [==============================] - 2s 150us/sample - loss: 0.4297 - val_loss: 0.4315\n",
      "Epoch 40/100\n",
      "11610/11610 [==============================] - 2s 141us/sample - loss: 0.4297 - val_loss: 0.4292\n",
      "Epoch 41/100\n",
      "11610/11610 [==============================] - 2s 140us/sample - loss: 0.4270 - val_loss: 0.4280\n",
      "Epoch 42/100\n",
      "11610/11610 [==============================] - 2s 143us/sample - loss: 0.4258 - val_loss: 0.4263\n",
      "Epoch 43/100\n",
      "11610/11610 [==============================] - 2s 143us/sample - loss: 0.4238 - val_loss: 0.4257\n",
      "Epoch 44/100\n",
      "11610/11610 [==============================] - 2s 138us/sample - loss: 0.4231 - val_loss: 0.4253\n",
      "Epoch 45/100\n",
      "11610/11610 [==============================] - 2s 139us/sample - loss: 0.4233 - val_loss: 0.4228\n",
      "Epoch 46/100\n",
      "11610/11610 [==============================] - 2s 142us/sample - loss: 0.4202 - val_loss: 0.4209\n",
      "Epoch 47/100\n",
      "11610/11610 [==============================] - 2s 142us/sample - loss: 0.4192 - val_loss: 0.4200\n",
      "Epoch 48/100\n",
      "11610/11610 [==============================] - 2s 145us/sample - loss: 0.4176 - val_loss: 0.4190\n",
      "Epoch 49/100\n",
      "11610/11610 [==============================] - 2s 151us/sample - loss: 0.4170 - val_loss: 0.4176\n",
      "Epoch 50/100\n",
      "11610/11610 [==============================] - 2s 144us/sample - loss: 0.4151 - val_loss: 0.4167\n",
      "Epoch 51/100\n",
      "11610/11610 [==============================] - 2s 142us/sample - loss: 0.4147 - val_loss: 0.4154\n",
      "Epoch 52/100\n",
      "11610/11610 [==============================] - 2s 141us/sample - loss: 0.4131 - val_loss: 0.4147\n",
      "Epoch 53/100\n",
      "11610/11610 [==============================] - 2s 144us/sample - loss: 0.4117 - val_loss: 0.4133\n",
      "Epoch 54/100\n",
      "11610/11610 [==============================] - 2s 140us/sample - loss: 0.4116 - val_loss: 0.4122\n",
      "Epoch 55/100\n",
      "11610/11610 [==============================] - 2s 138us/sample - loss: 0.4095 - val_loss: 0.4124\n",
      "Epoch 56/100\n",
      "11610/11610 [==============================] - 2s 138us/sample - loss: 0.4083 - val_loss: 0.4099\n",
      "Epoch 57/100\n",
      "11610/11610 [==============================] - 2s 141us/sample - loss: 0.4076 - val_loss: 0.4100\n",
      "Epoch 58/100\n",
      "11610/11610 [==============================] - 2s 147us/sample - loss: 0.4079 - val_loss: 0.4082\n",
      "Epoch 59/100\n",
      "11610/11610 [==============================] - 2s 142us/sample - loss: 0.4050 - val_loss: 0.4072\n",
      "Epoch 60/100\n",
      "11610/11610 [==============================] - 2s 144us/sample - loss: 0.4044 - val_loss: 0.4064\n",
      "Epoch 61/100\n",
      "11610/11610 [==============================] - 2s 142us/sample - loss: 0.4031 - val_loss: 0.4051\n",
      "Epoch 62/100\n",
      "11610/11610 [==============================] - 2s 140us/sample - loss: 0.4027 - val_loss: 0.4044\n",
      "Epoch 63/100\n",
      "11610/11610 [==============================] - 2s 142us/sample - loss: 0.4015 - val_loss: 0.4035\n",
      "Epoch 64/100\n",
      "11610/11610 [==============================] - 2s 148us/sample - loss: 0.4009 - val_loss: 0.4021\n",
      "Epoch 65/100\n",
      "11610/11610 [==============================] - 2s 156us/sample - loss: 0.3994 - val_loss: 0.4019\n",
      "Epoch 66/100\n",
      "11610/11610 [==============================] - 2s 155us/sample - loss: 0.3985 - val_loss: 0.4003\n",
      "Epoch 67/100\n",
      "11610/11610 [==============================] - 2s 148us/sample - loss: 0.3981 - val_loss: 0.4007\n",
      "Epoch 68/100\n",
      "11610/11610 [==============================] - 2s 157us/sample - loss: 0.3970 - val_loss: 0.3986\n",
      "Epoch 69/100\n",
      "11610/11610 [==============================] - 2s 147us/sample - loss: 0.3955 - val_loss: 0.3980\n",
      "Epoch 70/100\n",
      "11610/11610 [==============================] - 2s 149us/sample - loss: 0.3944 - val_loss: 0.3986\n",
      "Epoch 71/100\n",
      "11610/11610 [==============================] - 2s 147us/sample - loss: 0.3950 - val_loss: 0.3962\n",
      "Epoch 72/100\n",
      "11610/11610 [==============================] - 2s 151us/sample - loss: 0.3926 - val_loss: 0.3954\n",
      "Epoch 73/100\n",
      "11610/11610 [==============================] - 2s 146us/sample - loss: 0.3922 - val_loss: 0.3940\n",
      "Epoch 74/100\n",
      "11610/11610 [==============================] - 2s 149us/sample - loss: 0.3911 - val_loss: 0.3939\n",
      "Epoch 75/100\n"
     ]
    },
    {
     "name": "stdout",
     "output_type": "stream",
     "text": [
      "11610/11610 [==============================] - 2s 144us/sample - loss: 0.3911 - val_loss: 0.3932\n",
      "Epoch 76/100\n",
      "11610/11610 [==============================] - 2s 144us/sample - loss: 0.3900 - val_loss: 0.3918\n",
      "Epoch 77/100\n",
      "11610/11610 [==============================] - 2s 157us/sample - loss: 0.3883 - val_loss: 0.3905\n",
      "Epoch 78/100\n",
      "11610/11610 [==============================] - 2s 145us/sample - loss: 0.3874 - val_loss: 0.3915\n",
      "Epoch 79/100\n",
      "11610/11610 [==============================] - 2s 145us/sample - loss: 0.3877 - val_loss: 0.3900\n",
      "Epoch 80/100\n",
      "11610/11610 [==============================] - 2s 150us/sample - loss: 0.3856 - val_loss: 0.3895\n",
      "Epoch 81/100\n",
      "11610/11610 [==============================] - 2s 149us/sample - loss: 0.3854 - val_loss: 0.3884\n",
      "Epoch 82/100\n",
      "11610/11610 [==============================] - 2s 147us/sample - loss: 0.3849 - val_loss: 0.3872\n",
      "Epoch 83/100\n",
      "11610/11610 [==============================] - 2s 148us/sample - loss: 0.3839 - val_loss: 0.3860\n",
      "Epoch 84/100\n",
      "11610/11610 [==============================] - 2s 150us/sample - loss: 0.3829 - val_loss: 0.3858\n",
      "Epoch 85/100\n",
      "11610/11610 [==============================] - 2s 146us/sample - loss: 0.3822 - val_loss: 0.3853\n",
      "Epoch 86/100\n",
      "11610/11610 [==============================] - 2s 153us/sample - loss: 0.3812 - val_loss: 0.3845\n",
      "Epoch 87/100\n",
      "11610/11610 [==============================] - 2s 153us/sample - loss: 0.3801 - val_loss: 0.3841\n",
      "Epoch 88/100\n",
      "11610/11610 [==============================] - 2s 145us/sample - loss: 0.3796 - val_loss: 0.3835\n",
      "Epoch 89/100\n",
      "11610/11610 [==============================] - 2s 144us/sample - loss: 0.3791 - val_loss: 0.3829\n",
      "Epoch 90/100\n",
      "11610/11610 [==============================] - 2s 145us/sample - loss: 0.3785 - val_loss: 0.3814\n",
      "Epoch 91/100\n",
      "11610/11610 [==============================] - 2s 143us/sample - loss: 0.3775 - val_loss: 0.3809\n",
      "Epoch 92/100\n",
      "11610/11610 [==============================] - 2s 147us/sample - loss: 0.3776 - val_loss: 0.3798\n",
      "Epoch 93/100\n",
      "11610/11610 [==============================] - 2s 145us/sample - loss: 0.3758 - val_loss: 0.3797\n",
      "Epoch 94/100\n",
      "11610/11610 [==============================] - 2s 148us/sample - loss: 0.3751 - val_loss: 0.3781\n",
      "Epoch 95/100\n",
      "11610/11610 [==============================] - 2s 154us/sample - loss: 0.3752 - val_loss: 0.3785\n",
      "Epoch 96/100\n",
      "11610/11610 [==============================] - 2s 155us/sample - loss: 0.3740 - val_loss: 0.3779\n",
      "Epoch 97/100\n",
      "11610/11610 [==============================] - 2s 146us/sample - loss: 0.3730 - val_loss: 0.3761\n",
      "Epoch 98/100\n",
      "11610/11610 [==============================] - 2s 148us/sample - loss: 0.3721 - val_loss: 0.3756\n",
      "Epoch 99/100\n",
      "11610/11610 [==============================] - 2s 144us/sample - loss: 0.3732 - val_loss: 0.3752\n",
      "Epoch 100/100\n",
      "11610/11610 [==============================] - 2s 147us/sample - loss: 0.3710 - val_loss: 0.3740\n"
     ]
    }
   ],
   "source": [
    "history = model.fit(x_train_scaled, y_train,\n",
    "                   validation_data = (x_valid_scaled, y_valid),\n",
    "                   epochs = 100,\n",
    "                   callbacks = callbacks)"
   ]
  },
  {
   "cell_type": "code",
   "execution_count": 9,
   "metadata": {},
   "outputs": [
    {
     "data": {
      "image/png": "[encoded data removed]",
      "text/plain": [
       "<Figure size 576x360 with 1 Axes>"
      ]
     },
     "metadata": {
      "needs_background": "light"
     },
     "output_type": "display_data"
    }
   ],
   "source": [
    "def plot_learnig_curves(history):\n",
    "    pd.DataFrame(history.history).plot(figsize=(8,5))\n",
    "    plt.grid(True)\n",
    "    plt.gca().set_ylim(0,1)\n",
    "    plt.show()\n",
    "plot_learnig_curves(history)"
   ]
  },
  {
   "cell_type": "code",
   "execution_count": 10,
   "metadata": {},
   "outputs": [
    {
     "name": "stdout",
     "output_type": "stream",
     "text": [
      "5160/5160 [==============================] - 0s 85us/sample - loss: 0.3982\n"
     ]
    },
    {
     "data": {
      "text/plain": [
       "0.3981797516114952"
      ]
     },
     "execution_count": 10,
     "metadata": {},
     "output_type": "execute_result"
    }
   ],
   "source": [
    "model.evaluate(x_test_scaled, y_test)"
   ]
  },
  {
   "cell_type": "code",
   "execution_count": null,
   "metadata": {},
   "outputs": [],
   "source": []
  }
 ],
 "metadata": {
  "kernelspec": {
   "display_name": "Python 3",
   "language": "python",
   "name": "python3"
  },
  "language_info": {
   "codemirror_mode": {
    "name": "ipython",
    "version": 3
   },
   "file_extension": ".py",
   "mimetype": "text/x-python",
   "name": "python",
   "nbconvert_exporter": "python",
   "pygments_lexer": "ipython3",
   "version": "3.6.8"
  }
 },
 "nbformat": 4,
 "nbformat_minor": 2
}
