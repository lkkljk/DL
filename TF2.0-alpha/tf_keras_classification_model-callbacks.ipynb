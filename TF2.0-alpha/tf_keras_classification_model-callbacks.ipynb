{
 "cells": [
  {
   "cell_type": "code",
   "execution_count": 1,
   "metadata": {},
   "outputs": [
    {
     "name": "stdout",
     "output_type": "stream",
     "text": [
      "sys.version_info(major=3, minor=6, micro=8, releaselevel='final', serial=0)\n",
      "matplotlib 3.1.0\n",
      "numpy 1.16.4\n",
      "pandas 0.24.2\n",
      "sklearn 0.21.2\n",
      "tensorflow 2.0.0-alpha0\n",
      "tensorflow.python.keras.api._v2.keras 2.2.4-tf\n"
     ]
    }
   ],
   "source": [
    "import matplotlib as mpl\n",
    "import matplotlib.pyplot as plt\n",
    "%matplotlib inline\n",
    "import numpy as np\n",
    "import sklearn\n",
    "import pandas as pd\n",
    "import os\n",
    "import sys\n",
    "import time\n",
    "import tensorflow as tf\n",
    "from tensorflow import keras\n",
    "\n",
    "print(sys.version_info)\n",
    "for module in mpl,np,pd,sklearn,tf,keras:\n",
    "    print(module.__name__, module.__version__)"
   ]
  },
  {
   "cell_type": "code",
   "execution_count": 2,
   "metadata": {},
   "outputs": [
    {
     "name": "stdout",
     "output_type": "stream",
     "text": [
      "(5000, 28, 28) (5000,)\n",
      "(55000, 28, 28) (55000,)\n",
      "(10000, 28, 28) (10000,)\n"
     ]
    }
   ],
   "source": [
    "fashion_mnist = keras.datasets.fashion_mnist\n",
    "(x_train_all,y_train_all),(x_test, y_test) = fashion_mnist.load_data()\n",
    "x_valid, x_train = x_train_all[:5000], x_train_all[5000:] #前五千张做验证集，后五万五千张做训练集\n",
    "y_valid, y_train = y_train_all[:5000], y_train_all[5000:]\n",
    "\n",
    "print(x_valid.shape, y_valid.shape)\n",
    "print(x_train.shape, y_train.shape)\n",
    "print(x_test.shape, y_test.shape)"
   ]
  },
  {
   "cell_type": "code",
   "execution_count": 3,
   "metadata": {},
   "outputs": [],
   "source": [
    "from sklearn.preprocessing import StandardScaler\n",
    "\n",
    "scaler = StandardScaler()\n",
    "\n",
    "x_train_scaled = scaler.fit_transform(\n",
    "    x_train.astype(np.float32).reshape(-1,1)).reshape(-1,28,28) #先变一列，再变55000列个28*28矩阵\n",
    "\n",
    "x_valid_scaled = scaler.transform(\n",
    "    x_valid.astype(np.float32).reshape(-1,1)).reshape(-1,28,28)\n",
    "x_test_scaled = scaler.transform(\n",
    "    x_test.astype(np.float32).reshape(-1,1)).reshape(-1,28,28)"
   ]
  },
  {
   "cell_type": "code",
   "execution_count": 4,
   "metadata": {},
   "outputs": [],
   "source": [
    "# tf.keras.models.Sequential()\n",
    "\n",
    "model = keras.models.Sequential()\n",
    "model.add(keras.layers.Flatten(input_shape=[28,28]))\n",
    "model.add(keras.layers.Dense(300,activation = 'relu'))\n",
    "model.add(keras.layers.Dense(100,activation='relu'))\n",
    "model.add(keras.layers.Dense(10,activation='softmax'))\n",
    "\n",
    "#relu: y = max(0,x)\n",
    "#softmax: 将向量变成概率分布\n",
    "\n",
    "#这里用sparse的原因是y已经one hot过了，是个稀疏矩阵，如果只是一个index的话就不用sparse\n",
    "model.compile(loss='sparse_categorical_crossentropy', \n",
    "              optimizer = 'sgd',\n",
    "              metrics=['accuracy'])\n"
   ]
  },
  {
   "cell_type": "code",
   "execution_count": 5,
   "metadata": {
    "scrolled": false
   },
   "outputs": [
    {
     "name": "stdout",
     "output_type": "stream",
     "text": [
      "Train on 55000 samples, validate on 5000 samples\n",
      "Epoch 1/10\n",
      "55000/55000 [==============================] - 8s 148us/sample - loss: 0.9350 - accuracy: 0.6994 - val_loss: 0.6158 - val_accuracy: 0.7924\n",
      "Epoch 2/10\n",
      "55000/55000 [==============================] - 8s 138us/sample - loss: 0.5766 - accuracy: 0.7985 - val_loss: 0.5198 - val_accuracy: 0.8226\n",
      "Epoch 3/10\n",
      "55000/55000 [==============================] - 8s 138us/sample - loss: 0.5094 - accuracy: 0.8202 - val_loss: 0.4780 - val_accuracy: 0.8366\n",
      "Epoch 4/10\n",
      "55000/55000 [==============================] - 8s 142us/sample - loss: 0.4741 - accuracy: 0.8320 - val_loss: 0.4529 - val_accuracy: 0.8420\n",
      "Epoch 5/10\n",
      "55000/55000 [==============================] - 8s 139us/sample - loss: 0.4509 - accuracy: 0.8402 - val_loss: 0.4353 - val_accuracy: 0.8502\n",
      "Epoch 6/10\n",
      "55000/55000 [==============================] - 8s 139us/sample - loss: 0.4338 - accuracy: 0.8451 - val_loss: 0.4228 - val_accuracy: 0.8556\n",
      "Epoch 7/10\n",
      "55000/55000 [==============================] - 8s 138us/sample - loss: 0.4197 - accuracy: 0.8509 - val_loss: 0.4120 - val_accuracy: 0.8584\n",
      "Epoch 8/10\n",
      "55000/55000 [==============================] - 7s 136us/sample - loss: 0.4085 - accuracy: 0.8550 - val_loss: 0.4029 - val_accuracy: 0.8630\n",
      "Epoch 9/10\n",
      "55000/55000 [==============================] - 8s 137us/sample - loss: 0.3983 - accuracy: 0.8583 - val_loss: 0.3946 - val_accuracy: 0.8634\n",
      "Epoch 10/10\n",
      "55000/55000 [==============================] - 7s 136us/sample - loss: 0.3895 - accuracy: 0.8612 - val_loss: 0.3918 - val_accuracy: 0.8614\n"
     ]
    }
   ],
   "source": [
    "#tensorboard earlystopping, modelcheckpoint\n",
    "\n",
    "logdir = 'callbacks'\n",
    "if not os.path.exists(logdir):\n",
    "    os.mkdir(logdir)\n",
    "output_model_file = os.path.join(logdir,\n",
    "                                'fashion_mnist_model.h5')\n",
    "\n",
    "callbacks = [\n",
    "    keras.callbacks.TensorBoard(logdir),\n",
    "    keras.callbacks.ModelCheckpoint(output_model_file,\n",
    "                                   save_best_only = True),\n",
    "    keras.callbacks.EarlyStopping(patience = 5, min_delta = 1e-3)\n",
    "]\n",
    "\n",
    "history = model.fit(x_train_scaled, y_train, epochs=10, \n",
    "                    validation_data=(x_valid_scaled,y_valid),\n",
    "                    callbacks = callbacks)"
   ]
  },
  {
   "cell_type": "code",
   "execution_count": null,
   "metadata": {},
   "outputs": [],
   "source": []
  },
  {
   "cell_type": "code",
   "execution_count": 6,
   "metadata": {},
   "outputs": [
    {
     "data": {
      "image/png": "[encoded data removed]",
      "text/plain": [
       "<Figure size 576x360 with 1 Axes>"
      ]
     },
     "metadata": {
      "needs_background": "light"
     },
     "output_type": "display_data"
    }
   ],
   "source": [
    "def plot_learning_curves(history):\n",
    "    pd.DataFrame(history.history).plot(figsize=(8,5))\n",
    "    plt.grid(True)\n",
    "    plt.gca().set_ylim(0,1)\n",
    "    plt.show()\n",
    "    \n",
    "plot_learning_curves(history)"
   ]
  },
  {
   "cell_type": "code",
   "execution_count": 7,
   "metadata": {},
   "outputs": [
    {
     "name": "stdout",
     "output_type": "stream",
     "text": [
      "10000/10000 [==============================] - 1s 99us/sample - loss: 0.4310 - accuracy: 0.8463\n"
     ]
    },
    {
     "data": {
      "text/plain": [
       "[0.4310361330509186, 0.8463]"
      ]
     },
     "execution_count": 7,
     "metadata": {},
     "output_type": "execute_result"
    }
   ],
   "source": [
    "model.evaluate(x_test_scaled, y_test)"
   ]
  },
  {
   "cell_type": "code",
   "execution_count": null,
   "metadata": {},
   "outputs": [],
   "source": []
  }
 ],
 "metadata": {
  "kernelspec": {
   "display_name": "Python 3",
   "language": "python",
   "name": "python3"
  },
  "language_info": {
   "codemirror_mode": {
    "name": "ipython",
    "version": 3
   },
   "file_extension": ".py",
   "mimetype": "text/x-python",
   "name": "python",
   "nbconvert_exporter": "python",
   "pygments_lexer": "ipython3",
   "version": "3.6.8"
  }
 },
 "nbformat": 4,
 "nbformat_minor": 2
}
