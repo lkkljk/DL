{
 "cells": [
  {
   "cell_type": "markdown",
   "metadata": {},
   "source": [
    "实际中， 可能会遇到多任务， 比如同时预测房价和一年后的房价，就有两个预测量"
   ]
  },
  {
   "cell_type": "code",
   "execution_count": 1,
   "metadata": {},
   "outputs": [
    {
     "name": "stdout",
     "output_type": "stream",
     "text": [
      "sys.version_info(major=3, minor=6, micro=8, releaselevel='final', serial=0)\n",
      "matplotlib 3.1.0\n",
      "numpy 1.16.4\n",
      "sklearn 0.21.2\n",
      "pandas 0.24.2\n",
      "tensorflow 2.0.0-alpha0\n",
      "tensorflow.python.keras.api._v2.keras 2.2.4-tf\n"
     ]
    }
   ],
   "source": [
    "import matplotlib as mpl\n",
    "import matplotlib.pyplot as plt\n",
    "%matplotlib inline\n",
    "import numpy as np\n",
    "import sklearn\n",
    "import os\n",
    "import sys\n",
    "import pandas as pd\n",
    "import time\n",
    "import tensorflow as tf\n",
    "from tensorflow import keras\n",
    "\n",
    "print(sys.version_info)\n",
    "for module in mpl,np, sklearn,pd,tf,keras:\n",
    "    print(module.__name__,module.__version__)"
   ]
  },
  {
   "cell_type": "code",
   "execution_count": 2,
   "metadata": {},
   "outputs": [
    {
     "name": "stdout",
     "output_type": "stream",
     "text": [
      ".. _california_housing_dataset:\n",
      "\n",
      "California Housing dataset\n",
      "--------------------------\n",
      "\n",
      "**Data Set Characteristics:**\n",
      "\n",
      "    :Number of Instances: 20640\n",
      "\n",
      "    :Number of Attributes: 8 numeric, predictive attributes and the target\n",
      "\n",
      "    :Attribute Information:\n",
      "        - MedInc        median income in block\n",
      "        - HouseAge      median house age in block\n",
      "        - AveRooms      average number of rooms\n",
      "        - AveBedrms     average number of bedrooms\n",
      "        - Population    block population\n",
      "        - AveOccup      average house occupancy\n",
      "        - Latitude      house block latitude\n",
      "        - Longitude     house block longitude\n",
      "\n",
      "    :Missing Attribute Values: None\n",
      "\n",
      "This dataset was obtained from the StatLib repository.\n",
      "http://lib.stat.cmu.edu/datasets/\n",
      "\n",
      "The target variable is the median house value for California districts.\n",
      "\n",
      "This dataset was derived from the 1990 U.S. census, using one row per census\n",
      "block group. A block group is the smallest geographical unit for which the U.S.\n",
      "Census Bureau publishes sample data (a block group typically has a population\n",
      "of 600 to 3,000 people).\n",
      "\n",
      "It can be downloaded/loaded using the\n",
      ":func:`sklearn.datasets.fetch_california_housing` function.\n",
      "\n",
      ".. topic:: References\n",
      "\n",
      "    - Pace, R. Kelley and Ronald Barry, Sparse Spatial Autoregressions,\n",
      "      Statistics and Probability Letters, 33 (1997) 291-297\n",
      "\n",
      "(20640, 8)\n",
      "(20640,)\n"
     ]
    }
   ],
   "source": [
    "from sklearn.datasets import fetch_california_housing\n",
    "\n",
    "housing = fetch_california_housing()\n",
    "print(housing.DESCR)\n",
    "print(housing.data.shape)\n",
    "print(housing.target.shape)"
   ]
  },
  {
   "cell_type": "code",
   "execution_count": 3,
   "metadata": {},
   "outputs": [
    {
     "name": "stdout",
     "output_type": "stream",
     "text": [
      "(11610, 8) (11610,)\n",
      "(3870, 8) (3870,)\n",
      "(5160, 8) (5160,)\n"
     ]
    }
   ],
   "source": [
    "from sklearn.model_selection import train_test_split\n",
    "\n",
    "x_train_all, x_test, y_train_all, y_test = train_test_split(\n",
    "    housing.data, housing.target, random_state = 1    #,test_size = 0.25   default, 3:1\n",
    ")\n",
    "\n",
    "x_train, x_valid, y_train, y_valid = train_test_split(\n",
    "    x_train_all, y_train_all, random_state = 2)\n",
    "\n",
    "print(x_train.shape, y_train.shape)\n",
    "print(x_valid.shape, y_valid.shape)\n",
    "print(x_test.shape, y_test.shape)"
   ]
  },
  {
   "cell_type": "code",
   "execution_count": 4,
   "metadata": {},
   "outputs": [],
   "source": [
    "from sklearn.preprocessing import StandardScaler\n",
    "\n",
    "scaler = StandardScaler()\n",
    "x_train_scaled = scaler.fit_transform(x_train)\n",
    "x_valid_scaled = scaler.transform(x_valid)\n",
    "x_test_scaled = scaler.transform(x_test)"
   ]
  },
  {
   "cell_type": "code",
   "execution_count": 5,
   "metadata": {},
   "outputs": [
    {
     "name": "stdout",
     "output_type": "stream",
     "text": [
      "Model: \"model\"\n",
      "__________________________________________________________________________________________________\n",
      "Layer (type)                    Output Shape         Param #     Connected to                     \n",
      "==================================================================================================\n",
      "input_2 (InputLayer)            [(None, 6)]          0                                            \n",
      "__________________________________________________________________________________________________\n",
      "dense (Dense)                   (None, 30)           210         input_2[0][0]                    \n",
      "__________________________________________________________________________________________________\n",
      "input_1 (InputLayer)            [(None, 5)]          0                                            \n",
      "__________________________________________________________________________________________________\n",
      "dense_1 (Dense)                 (None, 30)           930         dense[0][0]                      \n",
      "__________________________________________________________________________________________________\n",
      "concatenate (Concatenate)       (None, 35)           0           input_1[0][0]                    \n",
      "                                                                 dense_1[0][0]                    \n",
      "__________________________________________________________________________________________________\n",
      "dense_2 (Dense)                 (None, 1)            36          concatenate[0][0]                \n",
      "__________________________________________________________________________________________________\n",
      "dense_3 (Dense)                 (None, 1)            31          dense_1[0][0]                    \n",
      "==================================================================================================\n",
      "Total params: 1,207\n",
      "Trainable params: 1,207\n",
      "Non-trainable params: 0\n",
      "__________________________________________________________________________________________________\n"
     ]
    }
   ],
   "source": [
    "# 多输入：wide部分和deep部分输入不同（实际中一般都是不同的）\n",
    "input_wide = keras.layers.Input(shape=[5])  #去前五个feature\n",
    "input_deep = keras.layers.Input(shape=[6])   #取后六个feature\n",
    "hidden1 = keras.layers.Dense(30, activation='relu')(input_deep)\n",
    "hidden2 = keras.layers.Dense(30, activation='relu')(hidden1)\n",
    "concat = keras.layers.concatenate([input_wide, hidden2])\n",
    "output = keras.layers.Dense(1)(concat)\n",
    "output2 = keras.layers.Dense(1)(hidden2)\n",
    "\n",
    "# 固化model （其实就是指定 input  和 output）\n",
    "model = keras.models.Model(inputs = [input_wide, input_deep],\n",
    "                           outputs = [output, output2])\n",
    "\n",
    "\n",
    "\n",
    "model.summary()\n",
    "model.compile(loss='mean_squared_error', optimizer='sgd')\n",
    "callbacks = [keras.callbacks.EarlyStopping(patience=5, min_delta=1e-3)]\n"
   ]
  },
  {
   "cell_type": "code",
   "execution_count": 6,
   "metadata": {
    "scrolled": false
   },
   "outputs": [
    {
     "name": "stdout",
     "output_type": "stream",
     "text": [
      "Train on 11610 samples, validate on 3870 samples\n",
      "Epoch 1/100\n",
      "11610/11610 [==============================] - 3s 283us/sample - loss: 5.3178 - dense_2_loss: 2.6583 - dense_3_loss: 2.6595 - val_loss: 2.3301 - val_dense_2_loss: 1.0117 - val_dense_3_loss: 1.3183\n",
      "Epoch 2/100\n",
      "11610/11610 [==============================] - 3s 226us/sample - loss: 2.1062 - dense_2_loss: 0.8491 - dense_3_loss: 1.2571 - val_loss: 1.8984 - val_dense_2_loss: 0.7221 - val_dense_3_loss: 1.1763\n",
      "Epoch 3/100\n",
      "11610/11610 [==============================] - 3s 221us/sample - loss: 1.8070 - dense_2_loss: 0.6749 - dense_3_loss: 1.1321 - val_loss: 1.7366 - val_dense_2_loss: 0.6500 - val_dense_3_loss: 1.0867\n",
      "Epoch 4/100\n",
      "11610/11610 [==============================] - 2s 214us/sample - loss: 1.6633 - dense_2_loss: 0.6194 - dense_3_loss: 1.0440 - val_loss: 1.6139 - val_dense_2_loss: 0.6114 - val_dense_3_loss: 1.0025\n",
      "Epoch 5/100\n",
      "11610/11610 [==============================] - 2s 212us/sample - loss: 1.5451 - dense_2_loss: 0.5867 - dense_3_loss: 0.9585 - val_loss: 1.5058 - val_dense_2_loss: 0.5861 - val_dense_3_loss: 0.9197\n",
      "Epoch 6/100\n",
      "11610/11610 [==============================] - 3s 223us/sample - loss: 1.4424 - dense_2_loss: 0.5638 - dense_3_loss: 0.8787 - val_loss: 1.4212 - val_dense_2_loss: 0.5681 - val_dense_3_loss: 0.8531\n",
      "Epoch 7/100\n",
      "11610/11610 [==============================] - 2s 205us/sample - loss: 1.3648 - dense_2_loss: 0.5474 - dense_3_loss: 0.8174 - val_loss: 1.3577 - val_dense_2_loss: 0.5541 - val_dense_3_loss: 0.8036\n",
      "Epoch 8/100\n",
      "11610/11610 [==============================] - 2s 212us/sample - loss: 1.3085 - dense_2_loss: 0.5360 - dense_3_loss: 0.7725 - val_loss: 1.3064 - val_dense_2_loss: 0.5420 - val_dense_3_loss: 0.7644\n",
      "Epoch 9/100\n",
      "11610/11610 [==============================] - 3s 218us/sample - loss: 1.2655 - dense_2_loss: 0.5251 - dense_3_loss: 0.7403 - val_loss: 1.2697 - val_dense_2_loss: 0.5324 - val_dense_3_loss: 0.7373\n",
      "Epoch 10/100\n",
      "11610/11610 [==============================] - 2s 214us/sample - loss: 1.2358 - dense_2_loss: 0.5180 - dense_3_loss: 0.7178 - val_loss: 1.2430 - val_dense_2_loss: 0.5240 - val_dense_3_loss: 0.7190\n",
      "Epoch 11/100\n",
      "11610/11610 [==============================] - 2s 210us/sample - loss: 1.2105 - dense_2_loss: 0.5107 - dense_3_loss: 0.6998 - val_loss: 1.2202 - val_dense_2_loss: 0.5165 - val_dense_3_loss: 0.7037\n",
      "Epoch 12/100\n",
      "11610/11610 [==============================] - 2s 209us/sample - loss: 1.1918 - dense_2_loss: 0.5038 - dense_3_loss: 0.6881 - val_loss: 1.2032 - val_dense_2_loss: 0.5110 - val_dense_3_loss: 0.6922\n",
      "Epoch 13/100\n",
      "11610/11610 [==============================] - 2s 206us/sample - loss: 1.1789 - dense_2_loss: 0.5001 - dense_3_loss: 0.6788 - val_loss: 1.1878 - val_dense_2_loss: 0.5049 - val_dense_3_loss: 0.6829\n",
      "Epoch 14/100\n",
      "11610/11610 [==============================] - 2s 209us/sample - loss: 1.1639 - dense_2_loss: 0.4949 - dense_3_loss: 0.6690 - val_loss: 1.1738 - val_dense_2_loss: 0.4998 - val_dense_3_loss: 0.6740\n",
      "Epoch 15/100\n",
      "11610/11610 [==============================] - 2s 211us/sample - loss: 1.1532 - dense_2_loss: 0.4913 - dense_3_loss: 0.6618 - val_loss: 1.1621 - val_dense_2_loss: 0.4953 - val_dense_3_loss: 0.6668\n",
      "Epoch 16/100\n",
      "11610/11610 [==============================] - 2s 212us/sample - loss: 1.1421 - dense_2_loss: 0.4863 - dense_3_loss: 0.6557 - val_loss: 1.1535 - val_dense_2_loss: 0.4925 - val_dense_3_loss: 0.6610\n",
      "Epoch 17/100\n",
      "11610/11610 [==============================] - 2s 205us/sample - loss: 1.1340 - dense_2_loss: 0.4842 - dense_3_loss: 0.6498 - val_loss: 1.1443 - val_dense_2_loss: 0.4882 - val_dense_3_loss: 0.6561\n",
      "Epoch 18/100\n",
      "11610/11610 [==============================] - 2s 207us/sample - loss: 1.1239 - dense_2_loss: 0.4796 - dense_3_loss: 0.6443 - val_loss: 1.1336 - val_dense_2_loss: 0.4842 - val_dense_3_loss: 0.6494\n",
      "Epoch 19/100\n",
      "11610/11610 [==============================] - 2s 205us/sample - loss: 1.1147 - dense_2_loss: 0.4758 - dense_3_loss: 0.6389 - val_loss: 1.1256 - val_dense_2_loss: 0.4814 - val_dense_3_loss: 0.6442\n",
      "Epoch 20/100\n",
      "11610/11610 [==============================] - 2s 205us/sample - loss: 1.1080 - dense_2_loss: 0.4738 - dense_3_loss: 0.6342 - val_loss: 1.1178 - val_dense_2_loss: 0.4781 - val_dense_3_loss: 0.6397\n",
      "Epoch 21/100\n",
      "11610/11610 [==============================] - 2s 204us/sample - loss: 1.0993 - dense_2_loss: 0.4706 - dense_3_loss: 0.6288 - val_loss: 1.1116 - val_dense_2_loss: 0.4759 - val_dense_3_loss: 0.6357\n",
      "Epoch 22/100\n",
      "11610/11610 [==============================] - 2s 211us/sample - loss: 1.0938 - dense_2_loss: 0.4686 - dense_3_loss: 0.6251 - val_loss: 1.1027 - val_dense_2_loss: 0.4732 - val_dense_3_loss: 0.6295\n",
      "Epoch 23/100\n",
      "11610/11610 [==============================] - 2s 206us/sample - loss: 1.0867 - dense_2_loss: 0.4661 - dense_3_loss: 0.6206 - val_loss: 1.0945 - val_dense_2_loss: 0.4700 - val_dense_3_loss: 0.6245\n",
      "Epoch 24/100\n",
      "11610/11610 [==============================] - 2s 206us/sample - loss: 1.0788 - dense_2_loss: 0.4634 - dense_3_loss: 0.6154 - val_loss: 1.0884 - val_dense_2_loss: 0.4675 - val_dense_3_loss: 0.6209\n",
      "Epoch 25/100\n",
      "11610/11610 [==============================] - 2s 206us/sample - loss: 1.0727 - dense_2_loss: 0.4621 - dense_3_loss: 0.6105 - val_loss: 1.0796 - val_dense_2_loss: 0.4642 - val_dense_3_loss: 0.6154\n",
      "Epoch 26/100\n",
      "11610/11610 [==============================] - 2s 207us/sample - loss: 1.0665 - dense_2_loss: 0.4600 - dense_3_loss: 0.6064 - val_loss: 1.0739 - val_dense_2_loss: 0.4624 - val_dense_3_loss: 0.6115\n",
      "Epoch 27/100\n",
      "11610/11610 [==============================] - 2s 207us/sample - loss: 1.0596 - dense_2_loss: 0.4574 - dense_3_loss: 0.6023 - val_loss: 1.0671 - val_dense_2_loss: 0.4611 - val_dense_3_loss: 0.6060\n",
      "Epoch 28/100\n",
      "11610/11610 [==============================] - 2s 204us/sample - loss: 1.0549 - dense_2_loss: 0.4564 - dense_3_loss: 0.5985 - val_loss: 1.0602 - val_dense_2_loss: 0.4586 - val_dense_3_loss: 0.6016\n",
      "Epoch 29/100\n",
      "11610/11610 [==============================] - 2s 213us/sample - loss: 1.0456 - dense_2_loss: 0.4531 - dense_3_loss: 0.5925 - val_loss: 1.0550 - val_dense_2_loss: 0.4565 - val_dense_3_loss: 0.5984\n",
      "Epoch 30/100\n",
      "11610/11610 [==============================] - 2s 205us/sample - loss: 1.0399 - dense_2_loss: 0.4517 - dense_3_loss: 0.5882 - val_loss: 1.0481 - val_dense_2_loss: 0.4544 - val_dense_3_loss: 0.5937\n",
      "Epoch 31/100\n",
      "11610/11610 [==============================] - 2s 205us/sample - loss: 1.0331 - dense_2_loss: 0.4492 - dense_3_loss: 0.5839 - val_loss: 1.0396 - val_dense_2_loss: 0.4512 - val_dense_3_loss: 0.5884\n",
      "Epoch 32/100\n",
      "11610/11610 [==============================] - 2s 210us/sample - loss: 1.0282 - dense_2_loss: 0.4476 - dense_3_loss: 0.5805 - val_loss: 1.0366 - val_dense_2_loss: 0.4507 - val_dense_3_loss: 0.5860\n",
      "Epoch 33/100\n",
      "11610/11610 [==============================] - 2s 204us/sample - loss: 1.0239 - dense_2_loss: 0.4467 - dense_3_loss: 0.5773 - val_loss: 1.0276 - val_dense_2_loss: 0.4481 - val_dense_3_loss: 0.5794\n",
      "Epoch 34/100\n",
      "11610/11610 [==============================] - 2s 205us/sample - loss: 1.0161 - dense_2_loss: 0.4440 - dense_3_loss: 0.5721 - val_loss: 1.0235 - val_dense_2_loss: 0.4471 - val_dense_3_loss: 0.5763\n",
      "Epoch 35/100\n",
      "11610/11610 [==============================] - 2s 209us/sample - loss: 1.0101 - dense_2_loss: 0.4414 - dense_3_loss: 0.5687 - val_loss: 1.0164 - val_dense_2_loss: 0.4438 - val_dense_3_loss: 0.5726\n",
      "Epoch 36/100\n",
      "11610/11610 [==============================] - 2s 209us/sample - loss: 1.0044 - dense_2_loss: 0.4401 - dense_3_loss: 0.5644 - val_loss: 1.0113 - val_dense_2_loss: 0.4422 - val_dense_3_loss: 0.5691\n",
      "Epoch 37/100\n",
      "11610/11610 [==============================] - 2s 207us/sample - loss: 0.9973 - dense_2_loss: 0.4374 - dense_3_loss: 0.5599 - val_loss: 1.0036 - val_dense_2_loss: 0.4399 - val_dense_3_loss: 0.5637\n",
      "Epoch 38/100\n",
      "11610/11610 [==============================] - 2s 209us/sample - loss: 0.9929 - dense_2_loss: 0.4359 - dense_3_loss: 0.5569 - val_loss: 0.9983 - val_dense_2_loss: 0.4379 - val_dense_3_loss: 0.5603\n",
      "Epoch 39/100\n",
      "11610/11610 [==============================] - 2s 206us/sample - loss: 0.9876 - dense_2_loss: 0.4343 - dense_3_loss: 0.5533 - val_loss: 0.9933 - val_dense_2_loss: 0.4364 - val_dense_3_loss: 0.5569\n"
     ]
    },
    {
     "name": "stdout",
     "output_type": "stream",
     "text": [
      "Epoch 40/100\n",
      "11610/11610 [==============================] - 2s 201us/sample - loss: 0.9821 - dense_2_loss: 0.4326 - dense_3_loss: 0.5495 - val_loss: 0.9879 - val_dense_2_loss: 0.4339 - val_dense_3_loss: 0.5540\n",
      "Epoch 41/100\n",
      "11610/11610 [==============================] - 2s 202us/sample - loss: 0.9774 - dense_2_loss: 0.4316 - dense_3_loss: 0.5458 - val_loss: 0.9814 - val_dense_2_loss: 0.4321 - val_dense_3_loss: 0.5493\n",
      "Epoch 42/100\n",
      "11610/11610 [==============================] - 2s 210us/sample - loss: 0.9712 - dense_2_loss: 0.4290 - dense_3_loss: 0.5422 - val_loss: 0.9776 - val_dense_2_loss: 0.4301 - val_dense_3_loss: 0.5475\n",
      "Epoch 43/100\n",
      "11610/11610 [==============================] - 2s 206us/sample - loss: 0.9661 - dense_2_loss: 0.4272 - dense_3_loss: 0.5389 - val_loss: 0.9718 - val_dense_2_loss: 0.4284 - val_dense_3_loss: 0.5434\n",
      "Epoch 44/100\n",
      "11610/11610 [==============================] - 2s 202us/sample - loss: 0.9610 - dense_2_loss: 0.4255 - dense_3_loss: 0.5355 - val_loss: 0.9671 - val_dense_2_loss: 0.4270 - val_dense_3_loss: 0.5401\n",
      "Epoch 45/100\n",
      "11610/11610 [==============================] - 2s 202us/sample - loss: 0.9545 - dense_2_loss: 0.4229 - dense_3_loss: 0.5316 - val_loss: 0.9608 - val_dense_2_loss: 0.4259 - val_dense_3_loss: 0.5350\n",
      "Epoch 46/100\n",
      "11610/11610 [==============================] - 2s 202us/sample - loss: 0.9520 - dense_2_loss: 0.4233 - dense_3_loss: 0.5287 - val_loss: 0.9542 - val_dense_2_loss: 0.4225 - val_dense_3_loss: 0.5317\n",
      "Epoch 47/100\n",
      "11610/11610 [==============================] - 2s 202us/sample - loss: 0.9471 - dense_2_loss: 0.4210 - dense_3_loss: 0.5261 - val_loss: 0.9512 - val_dense_2_loss: 0.4215 - val_dense_3_loss: 0.5296\n",
      "Epoch 48/100\n",
      "11610/11610 [==============================] - 2s 205us/sample - loss: 0.9428 - dense_2_loss: 0.4199 - dense_3_loss: 0.5229 - val_loss: 0.9446 - val_dense_2_loss: 0.4186 - val_dense_3_loss: 0.5260\n",
      "Epoch 49/100\n",
      "11610/11610 [==============================] - 3s 223us/sample - loss: 0.9352 - dense_2_loss: 0.4162 - dense_3_loss: 0.5190 - val_loss: 0.9389 - val_dense_2_loss: 0.4174 - val_dense_3_loss: 0.5215\n",
      "Epoch 50/100\n",
      "11610/11610 [==============================] - 2s 206us/sample - loss: 0.9307 - dense_2_loss: 0.4153 - dense_3_loss: 0.5154 - val_loss: 0.9330 - val_dense_2_loss: 0.4147 - val_dense_3_loss: 0.5183\n",
      "Epoch 51/100\n",
      "11610/11610 [==============================] - 2s 202us/sample - loss: 0.9267 - dense_2_loss: 0.4139 - dense_3_loss: 0.5128 - val_loss: 0.9324 - val_dense_2_loss: 0.4149 - val_dense_3_loss: 0.5174\n",
      "Epoch 52/100\n",
      "11610/11610 [==============================] - 2s 205us/sample - loss: 0.9201 - dense_2_loss: 0.4115 - dense_3_loss: 0.5086 - val_loss: 0.9280 - val_dense_2_loss: 0.4127 - val_dense_3_loss: 0.5153\n",
      "Epoch 53/100\n",
      "11610/11610 [==============================] - 2s 205us/sample - loss: 0.9164 - dense_2_loss: 0.4099 - dense_3_loss: 0.5065 - val_loss: 0.9180 - val_dense_2_loss: 0.4095 - val_dense_3_loss: 0.5085\n",
      "Epoch 54/100\n",
      "11610/11610 [==============================] - 2s 203us/sample - loss: 0.9112 - dense_2_loss: 0.4082 - dense_3_loss: 0.5030 - val_loss: 0.9145 - val_dense_2_loss: 0.4081 - val_dense_3_loss: 0.5064\n",
      "Epoch 55/100\n",
      "11610/11610 [==============================] - 2s 206us/sample - loss: 0.9059 - dense_2_loss: 0.4062 - dense_3_loss: 0.4997 - val_loss: 0.9087 - val_dense_2_loss: 0.4057 - val_dense_3_loss: 0.5030\n",
      "Epoch 56/100\n",
      "11610/11610 [==============================] - 2s 211us/sample - loss: 0.9022 - dense_2_loss: 0.4053 - dense_3_loss: 0.4969 - val_loss: 0.9092 - val_dense_2_loss: 0.4062 - val_dense_3_loss: 0.5030\n",
      "Epoch 57/100\n",
      "11610/11610 [==============================] - 2s 209us/sample - loss: 0.8971 - dense_2_loss: 0.4031 - dense_3_loss: 0.4940 - val_loss: 0.8982 - val_dense_2_loss: 0.4022 - val_dense_3_loss: 0.4960\n",
      "Epoch 58/100\n",
      "11610/11610 [==============================] - 2s 210us/sample - loss: 0.8927 - dense_2_loss: 0.4017 - dense_3_loss: 0.4910 - val_loss: 0.8937 - val_dense_2_loss: 0.4004 - val_dense_3_loss: 0.4933\n",
      "Epoch 59/100\n",
      "11610/11610 [==============================] - 2s 204us/sample - loss: 0.8879 - dense_2_loss: 0.4000 - dense_3_loss: 0.4879 - val_loss: 0.8889 - val_dense_2_loss: 0.3985 - val_dense_3_loss: 0.4904\n",
      "Epoch 60/100\n",
      "11610/11610 [==============================] - 2s 203us/sample - loss: 0.8829 - dense_2_loss: 0.3976 - dense_3_loss: 0.4853 - val_loss: 0.8843 - val_dense_2_loss: 0.3966 - val_dense_3_loss: 0.4876\n",
      "Epoch 61/100\n",
      "11610/11610 [==============================] - 2s 203us/sample - loss: 0.8813 - dense_2_loss: 0.3981 - dense_3_loss: 0.4832 - val_loss: 0.8825 - val_dense_2_loss: 0.3966 - val_dense_3_loss: 0.4859\n",
      "Epoch 62/100\n",
      "11610/11610 [==============================] - 2s 215us/sample - loss: 0.8737 - dense_2_loss: 0.3942 - dense_3_loss: 0.4794 - val_loss: 0.8751 - val_dense_2_loss: 0.3931 - val_dense_3_loss: 0.4819\n",
      "Epoch 63/100\n",
      "11610/11610 [==============================] - 2s 204us/sample - loss: 0.8751 - dense_2_loss: 0.3939 - dense_3_loss: 0.4811 - val_loss: 0.8724 - val_dense_2_loss: 0.3923 - val_dense_3_loss: 0.4801\n",
      "Epoch 64/100\n",
      "11610/11610 [==============================] - 2s 210us/sample - loss: 0.8676 - dense_2_loss: 0.3925 - dense_3_loss: 0.4751 - val_loss: 0.8684 - val_dense_2_loss: 0.3905 - val_dense_3_loss: 0.4779\n",
      "Epoch 65/100\n",
      "11610/11610 [==============================] - 2s 203us/sample - loss: 0.8632 - dense_2_loss: 0.3904 - dense_3_loss: 0.4728 - val_loss: 0.8617 - val_dense_2_loss: 0.3881 - val_dense_3_loss: 0.4736\n",
      "Epoch 66/100\n",
      "11610/11610 [==============================] - 2s 204us/sample - loss: 0.8571 - dense_2_loss: 0.3881 - dense_3_loss: 0.4690 - val_loss: 0.8572 - val_dense_2_loss: 0.3861 - val_dense_3_loss: 0.4712\n",
      "Epoch 67/100\n",
      "11610/11610 [==============================] - 2s 204us/sample - loss: 0.8530 - dense_2_loss: 0.3866 - dense_3_loss: 0.4664 - val_loss: 0.8516 - val_dense_2_loss: 0.3840 - val_dense_3_loss: 0.4676\n",
      "Epoch 68/100\n",
      "11610/11610 [==============================] - 2s 204us/sample - loss: 0.8489 - dense_2_loss: 0.3849 - dense_3_loss: 0.4640 - val_loss: 0.8505 - val_dense_2_loss: 0.3832 - val_dense_3_loss: 0.4673\n",
      "Epoch 69/100\n",
      "11610/11610 [==============================] - 2s 215us/sample - loss: 0.8469 - dense_2_loss: 0.3834 - dense_3_loss: 0.4635 - val_loss: 0.8460 - val_dense_2_loss: 0.3816 - val_dense_3_loss: 0.4644\n",
      "Epoch 70/100\n",
      "11610/11610 [==============================] - 2s 208us/sample - loss: 0.8426 - dense_2_loss: 0.3830 - dense_3_loss: 0.4596 - val_loss: 0.8399 - val_dense_2_loss: 0.3794 - val_dense_3_loss: 0.4606\n",
      "Epoch 71/100\n",
      "11610/11610 [==============================] - 2s 204us/sample - loss: 0.8357 - dense_2_loss: 0.3795 - dense_3_loss: 0.4562 - val_loss: 0.8378 - val_dense_2_loss: 0.3785 - val_dense_3_loss: 0.4592\n",
      "Epoch 72/100\n",
      "11610/11610 [==============================] - 2s 204us/sample - loss: 0.8317 - dense_2_loss: 0.3777 - dense_3_loss: 0.4540 - val_loss: 0.8357 - val_dense_2_loss: 0.3781 - val_dense_3_loss: 0.4576\n",
      "Epoch 73/100\n",
      "11610/11610 [==============================] - 2s 204us/sample - loss: 0.8279 - dense_2_loss: 0.3763 - dense_3_loss: 0.4516 - val_loss: 0.8329 - val_dense_2_loss: 0.3764 - val_dense_3_loss: 0.4565\n",
      "Epoch 74/100\n",
      "11610/11610 [==============================] - 2s 206us/sample - loss: 0.8242 - dense_2_loss: 0.3745 - dense_3_loss: 0.4497 - val_loss: 0.8236 - val_dense_2_loss: 0.3728 - val_dense_3_loss: 0.4508\n",
      "Epoch 75/100\n",
      "11610/11610 [==============================] - 2s 209us/sample - loss: 0.8206 - dense_2_loss: 0.3733 - dense_3_loss: 0.4472 - val_loss: 0.8193 - val_dense_2_loss: 0.3713 - val_dense_3_loss: 0.4480\n",
      "Epoch 76/100\n",
      "11610/11610 [==============================] - 2s 208us/sample - loss: 0.8188 - dense_2_loss: 0.3733 - dense_3_loss: 0.4455 - val_loss: 0.8190 - val_dense_2_loss: 0.3704 - val_dense_3_loss: 0.4486\n",
      "Epoch 77/100\n",
      "11610/11610 [==============================] - 2s 205us/sample - loss: 0.8228 - dense_2_loss: 0.3738 - dense_3_loss: 0.4490 - val_loss: 0.8131 - val_dense_2_loss: 0.3686 - val_dense_3_loss: 0.4445\n",
      "Epoch 78/100\n",
      "11610/11610 [==============================] - 2s 203us/sample - loss: 0.8116 - dense_2_loss: 0.3699 - dense_3_loss: 0.4417 - val_loss: 0.8118 - val_dense_2_loss: 0.3673 - val_dense_3_loss: 0.4445\n",
      "Epoch 79/100\n"
     ]
    },
    {
     "name": "stdout",
     "output_type": "stream",
     "text": [
      "11610/11610 [==============================] - 2s 205us/sample - loss: 0.8099 - dense_2_loss: 0.3694 - dense_3_loss: 0.4405 - val_loss: 0.8053 - val_dense_2_loss: 0.3653 - val_dense_3_loss: 0.4400\n",
      "Epoch 80/100\n",
      "11610/11610 [==============================] - 3s 217us/sample - loss: 0.8049 - dense_2_loss: 0.3674 - dense_3_loss: 0.4374 - val_loss: 0.8034 - val_dense_2_loss: 0.3643 - val_dense_3_loss: 0.4391\n",
      "Epoch 81/100\n",
      "11610/11610 [==============================] - 2s 212us/sample - loss: 0.8017 - dense_2_loss: 0.3663 - dense_3_loss: 0.4355 - val_loss: 0.7986 - val_dense_2_loss: 0.3624 - val_dense_3_loss: 0.4362\n",
      "Epoch 82/100\n",
      "11610/11610 [==============================] - 2s 213us/sample - loss: 0.7985 - dense_2_loss: 0.3648 - dense_3_loss: 0.4337 - val_loss: 0.7972 - val_dense_2_loss: 0.3620 - val_dense_3_loss: 0.4352\n",
      "Epoch 83/100\n",
      "11610/11610 [==============================] - 2s 202us/sample - loss: 0.8035 - dense_2_loss: 0.3665 - dense_3_loss: 0.4370 - val_loss: 0.7930 - val_dense_2_loss: 0.3601 - val_dense_3_loss: 0.4329\n",
      "Epoch 84/100\n",
      "11610/11610 [==============================] - 2s 205us/sample - loss: 0.7983 - dense_2_loss: 0.3647 - dense_3_loss: 0.4336 - val_loss: 0.7921 - val_dense_2_loss: 0.3597 - val_dense_3_loss: 0.4324\n",
      "Epoch 85/100\n",
      "11610/11610 [==============================] - 2s 203us/sample - loss: 0.7901 - dense_2_loss: 0.3604 - dense_3_loss: 0.4297 - val_loss: 0.7888 - val_dense_2_loss: 0.3584 - val_dense_3_loss: 0.4304\n",
      "Epoch 86/100\n",
      "11610/11610 [==============================] - 2s 202us/sample - loss: 0.7911 - dense_2_loss: 0.3630 - dense_3_loss: 0.4281 - val_loss: 0.7880 - val_dense_2_loss: 0.3579 - val_dense_3_loss: 0.4301\n",
      "Epoch 87/100\n",
      "11610/11610 [==============================] - 2s 209us/sample - loss: 0.7815 - dense_2_loss: 0.3579 - dense_3_loss: 0.4235 - val_loss: 0.7814 - val_dense_2_loss: 0.3556 - val_dense_3_loss: 0.4258\n",
      "Epoch 88/100\n",
      "11610/11610 [==============================] - 3s 223us/sample - loss: 0.7792 - dense_2_loss: 0.3570 - dense_3_loss: 0.4222 - val_loss: 0.7764 - val_dense_2_loss: 0.3535 - val_dense_3_loss: 0.4229\n",
      "Epoch 89/100\n",
      "11610/11610 [==============================] - 3s 240us/sample - loss: 0.7772 - dense_2_loss: 0.3566 - dense_3_loss: 0.4206 - val_loss: 0.7737 - val_dense_2_loss: 0.3521 - val_dense_3_loss: 0.4216\n",
      "Epoch 90/100\n",
      "11610/11610 [==============================] - 3s 228us/sample - loss: 0.7745 - dense_2_loss: 0.3556 - dense_3_loss: 0.4189 - val_loss: 0.7710 - val_dense_2_loss: 0.3512 - val_dense_3_loss: 0.4198\n",
      "Epoch 91/100\n",
      "11610/11610 [==============================] - 3s 241us/sample - loss: 0.7717 - dense_2_loss: 0.3542 - dense_3_loss: 0.4175 - val_loss: 0.7697 - val_dense_2_loss: 0.3508 - val_dense_3_loss: 0.4189\n",
      "Epoch 92/100\n",
      "11610/11610 [==============================] - 3s 219us/sample - loss: 0.7674 - dense_2_loss: 0.3525 - dense_3_loss: 0.4149 - val_loss: 0.7658 - val_dense_2_loss: 0.3485 - val_dense_3_loss: 0.4173\n",
      "Epoch 93/100\n",
      "11610/11610 [==============================] - 3s 222us/sample - loss: 0.7648 - dense_2_loss: 0.3515 - dense_3_loss: 0.4134 - val_loss: 0.7636 - val_dense_2_loss: 0.3475 - val_dense_3_loss: 0.4162\n",
      "Epoch 94/100\n",
      "11610/11610 [==============================] - 2s 214us/sample - loss: 0.7676 - dense_2_loss: 0.3529 - dense_3_loss: 0.4147 - val_loss: 0.7621 - val_dense_2_loss: 0.3474 - val_dense_3_loss: 0.4147\n",
      "Epoch 95/100\n",
      "11610/11610 [==============================] - 3s 223us/sample - loss: 0.7594 - dense_2_loss: 0.3494 - dense_3_loss: 0.4100 - val_loss: 0.7551 - val_dense_2_loss: 0.3443 - val_dense_3_loss: 0.4108\n",
      "Epoch 96/100\n",
      "11610/11610 [==============================] - 2s 213us/sample - loss: 0.7563 - dense_2_loss: 0.3471 - dense_3_loss: 0.4092 - val_loss: 0.7580 - val_dense_2_loss: 0.3454 - val_dense_3_loss: 0.4126\n",
      "Epoch 97/100\n",
      "11610/11610 [==============================] - 2s 204us/sample - loss: 0.7542 - dense_2_loss: 0.3467 - dense_3_loss: 0.4076 - val_loss: 0.7508 - val_dense_2_loss: 0.3419 - val_dense_3_loss: 0.4089\n",
      "Epoch 98/100\n",
      "11610/11610 [==============================] - 2s 211us/sample - loss: 0.7574 - dense_2_loss: 0.3477 - dense_3_loss: 0.4097 - val_loss: 0.7508 - val_dense_2_loss: 0.3415 - val_dense_3_loss: 0.4092\n",
      "Epoch 99/100\n",
      "11610/11610 [==============================] - 3s 217us/sample - loss: 0.7498 - dense_2_loss: 0.3443 - dense_3_loss: 0.4055 - val_loss: 0.7478 - val_dense_2_loss: 0.3408 - val_dense_3_loss: 0.4070\n",
      "Epoch 100/100\n",
      "11610/11610 [==============================] - 2s 212us/sample - loss: 0.7475 - dense_2_loss: 0.3439 - dense_3_loss: 0.4036 - val_loss: 0.7419 - val_dense_2_loss: 0.3385 - val_dense_3_loss: 0.4034\n"
     ]
    }
   ],
   "source": [
    "#wide takes first 5 features, deep takes last 6 features\n",
    "x_train_scaled_wide = x_train_scaled[:, :5]\n",
    "x_train_scaled_deep = x_train_scaled[:, 2:]\n",
    "x_valid_scaled_wide = x_valid_scaled[:, :5]\n",
    "x_valid_scaled_deep = x_valid_scaled[:, 2:]\n",
    "x_test_scaled_wide = x_test_scaled[:, :5]\n",
    "x_test_scaled_deep = x_test_scaled[:, 2:]\n",
    "\n",
    "history = model.fit([x_train_scaled_wide, x_train_scaled_deep],\n",
    "                    [y_train, y_train],\n",
    "                   validation_data = ([x_valid_scaled_wide, x_valid_scaled_deep],\n",
    "                                      [y_valid, y_valid]),\n",
    "                   epochs = 100,\n",
    "                   callbacks = callbacks)"
   ]
  },
  {
   "cell_type": "code",
   "execution_count": 9,
   "metadata": {},
   "outputs": [
    {
     "data": {
      "image/png": "[encoded data removed]",
      "text/plain": [
       "<Figure size 576x360 with 1 Axes>"
      ]
     },
     "metadata": {
      "needs_background": "light"
     },
     "output_type": "display_data"
    }
   ],
   "source": [
    "def plot_learnig_curves(history):\n",
    "    pd.DataFrame(history.history).plot(figsize=(8,5))\n",
    "    plt.grid(True)\n",
    "    plt.gca().set_ylim(0,3)\n",
    "    plt.show()\n",
    "plot_learnig_curves(history)"
   ]
  },
  {
   "cell_type": "code",
   "execution_count": 10,
   "metadata": {},
   "outputs": [
    {
     "name": "stdout",
     "output_type": "stream",
     "text": [
      "5160/5160 [==============================] - 1s 123us/sample - loss: 0.7916 - dense_2_loss: 0.3705 - dense_3_loss: 0.4211\n"
     ]
    },
    {
     "data": {
      "text/plain": [
       "[0.7915958683620128, 0.37048763, 0.42110813]"
      ]
     },
     "execution_count": 10,
     "metadata": {},
     "output_type": "execute_result"
    }
   ],
   "source": [
    "model.evaluate([x_test_scaled_wide, x_test_scaled_deep], [y_test, y_test])"
   ]
  },
  {
   "cell_type": "markdown",
   "metadata": {},
   "source": [
    "loss 是后两个的和"
   ]
  },
  {
   "cell_type": "code",
   "execution_count": null,
   "metadata": {},
   "outputs": [],
   "source": []
  }
 ],
 "metadata": {
  "kernelspec": {
   "display_name": "Python 3",
   "language": "python",
   "name": "python3"
  },
  "language_info": {
   "codemirror_mode": {
    "name": "ipython",
    "version": 3
   },
   "file_extension": ".py",
   "mimetype": "text/x-python",
   "name": "python",
   "nbconvert_exporter": "python",
   "pygments_lexer": "ipython3",
   "version": "3.7.3"
  }
 },
 "nbformat": 4,
 "nbformat_minor": 2
}
