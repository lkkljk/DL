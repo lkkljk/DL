{
 "cells": [
  {
   "cell_type": "code",
   "execution_count": 11,
   "metadata": {},
   "outputs": [
    {
     "name": "stdout",
     "output_type": "stream",
     "text": [
      "sys.version_info(major=3, minor=6, micro=8, releaselevel='final', serial=0)\n",
      "matplotlib 3.1.0\n",
      "numpy 1.16.4\n",
      "sklearn 0.21.2\n",
      "pandas 0.24.2\n",
      "tensorflow 2.0.0-alpha0\n",
      "tensorflow.python.keras.api._v2.keras 2.2.4-tf\n"
     ]
    }
   ],
   "source": [
    "import matplotlib as mpl\n",
    "import matplotlib.pyplot as plt\n",
    "%matplotlib inline\n",
    "import numpy as np\n",
    "import sklearn\n",
    "import os\n",
    "import sys\n",
    "import pandas as pd\n",
    "import time\n",
    "import tensorflow as tf\n",
    "from tensorflow import keras\n",
    "\n",
    "print(sys.version_info)\n",
    "for module in mpl,np, sklearn,pd,tf,keras:\n",
    "    print(module.__name__,module.__version__)"
   ]
  },
  {
   "cell_type": "code",
   "execution_count": 12,
   "metadata": {},
   "outputs": [
    {
     "name": "stdout",
     "output_type": "stream",
     "text": [
      ".. _california_housing_dataset:\n",
      "\n",
      "California Housing dataset\n",
      "--------------------------\n",
      "\n",
      "**Data Set Characteristics:**\n",
      "\n",
      "    :Number of Instances: 20640\n",
      "\n",
      "    :Number of Attributes: 8 numeric, predictive attributes and the target\n",
      "\n",
      "    :Attribute Information:\n",
      "        - MedInc        median income in block\n",
      "        - HouseAge      median house age in block\n",
      "        - AveRooms      average number of rooms\n",
      "        - AveBedrms     average number of bedrooms\n",
      "        - Population    block population\n",
      "        - AveOccup      average house occupancy\n",
      "        - Latitude      house block latitude\n",
      "        - Longitude     house block longitude\n",
      "\n",
      "    :Missing Attribute Values: None\n",
      "\n",
      "This dataset was obtained from the StatLib repository.\n",
      "http://lib.stat.cmu.edu/datasets/\n",
      "\n",
      "The target variable is the median house value for California districts.\n",
      "\n",
      "This dataset was derived from the 1990 U.S. census, using one row per census\n",
      "block group. A block group is the smallest geographical unit for which the U.S.\n",
      "Census Bureau publishes sample data (a block group typically has a population\n",
      "of 600 to 3,000 people).\n",
      "\n",
      "It can be downloaded/loaded using the\n",
      ":func:`sklearn.datasets.fetch_california_housing` function.\n",
      "\n",
      ".. topic:: References\n",
      "\n",
      "    - Pace, R. Kelley and Ronald Barry, Sparse Spatial Autoregressions,\n",
      "      Statistics and Probability Letters, 33 (1997) 291-297\n",
      "\n",
      "(20640, 8)\n",
      "(20640,)\n"
     ]
    }
   ],
   "source": [
    "from sklearn.datasets import fetch_california_housing\n",
    "\n",
    "housing = fetch_california_housing()\n",
    "print(housing.DESCR)\n",
    "print(housing.data.shape)\n",
    "print(housing.target.shape)"
   ]
  },
  {
   "cell_type": "code",
   "execution_count": 13,
   "metadata": {},
   "outputs": [
    {
     "name": "stdout",
     "output_type": "stream",
     "text": [
      "(11610, 8) (11610,)\n",
      "(3870, 8) (3870,)\n",
      "(5160, 8) (5160,)\n"
     ]
    }
   ],
   "source": [
    "from sklearn.model_selection import train_test_split\n",
    "\n",
    "x_train_all, x_test, y_train_all, y_test = train_test_split(\n",
    "    housing.data, housing.target, random_state = 1    #,test_size = 0.25   default, 3:1\n",
    ")\n",
    "\n",
    "x_train, x_valid, y_train, y_valid = train_test_split(\n",
    "    x_train_all, y_train_all, random_state = 2)\n",
    "\n",
    "print(x_train.shape, y_train.shape)\n",
    "print(x_valid.shape, y_valid.shape)\n",
    "print(x_test.shape, y_test.shape)"
   ]
  },
  {
   "cell_type": "code",
   "execution_count": 14,
   "metadata": {},
   "outputs": [],
   "source": [
    "from sklearn.preprocessing import StandardScaler\n",
    "\n",
    "scaler = StandardScaler()\n",
    "x_train_scaled = scaler.fit_transform(x_train)\n",
    "x_valid_scaled = scaler.transform(x_valid)\n",
    "x_test_scaled = scaler.transform(x_test)"
   ]
  },
  {
   "cell_type": "code",
   "execution_count": 15,
   "metadata": {},
   "outputs": [
    {
     "name": "stdout",
     "output_type": "stream",
     "text": [
      "Model: \"model_1\"\n",
      "__________________________________________________________________________________________________\n",
      "Layer (type)                    Output Shape         Param #     Connected to                     \n",
      "==================================================================================================\n",
      "input_8 (InputLayer)            [(None, 6)]          0                                            \n",
      "__________________________________________________________________________________________________\n",
      "dense_9 (Dense)                 (None, 30)           210         input_8[0][0]                    \n",
      "__________________________________________________________________________________________________\n",
      "input_7 (InputLayer)            [(None, 5)]          0                                            \n",
      "__________________________________________________________________________________________________\n",
      "dense_10 (Dense)                (None, 30)           930         dense_9[0][0]                    \n",
      "__________________________________________________________________________________________________\n",
      "concatenate_3 (Concatenate)     (None, 35)           0           input_7[0][0]                    \n",
      "                                                                 dense_10[0][0]                   \n",
      "__________________________________________________________________________________________________\n",
      "dense_11 (Dense)                (None, 1)            36          concatenate_3[0][0]              \n",
      "==================================================================================================\n",
      "Total params: 1,176\n",
      "Trainable params: 1,176\n",
      "Non-trainable params: 0\n",
      "__________________________________________________________________________________________________\n"
     ]
    }
   ],
   "source": [
    "# 多输入：wide部分和deep部分输入不同（实际中一般都是不同的）\n",
    "input_wide = keras.layers.Input(shape=[5])  #去前五个feature\n",
    "input_deep = keras.layers.Input(shape=[6])   #取后六个feature\n",
    "hidden1 = keras.layers.Dense(30, activation='relu')(input_deep)\n",
    "hidden2 = keras.layers.Dense(30, activation='relu')(hidden1)\n",
    "concat = keras.layers.concatenate([input_wide, hidden2])\n",
    "output = keras.layers.Dense(1)(concat)\n",
    "\n",
    "# 固化model （其实就是指定 input  和 output）\n",
    "model = keras.models.Model(inputs = [input_wide, input_deep],\n",
    "                           outputs = [output])\n",
    "\n",
    "\n",
    "\n",
    "model.summary()\n",
    "model.compile(loss='mean_squared_error', optimizer='sgd')\n",
    "callbacks = [keras.callbacks.EarlyStopping(patience=5, min_delta=1e-3)]\n"
   ]
  },
  {
   "cell_type": "code",
   "execution_count": 17,
   "metadata": {
    "scrolled": false
   },
   "outputs": [
    {
     "name": "stdout",
     "output_type": "stream",
     "text": [
      "Train on 11610 samples, validate on 3870 samples\n",
      "Epoch 1/100\n",
      "11610/11610 [==============================] - 2s 214us/sample - loss: 2.2511 - val_loss: 0.8823\n",
      "Epoch 2/100\n",
      "11610/11610 [==============================] - 2s 154us/sample - loss: 0.7859 - val_loss: 0.6982\n",
      "Epoch 3/100\n",
      "11610/11610 [==============================] - 2s 156us/sample - loss: 0.6709 - val_loss: 0.6392\n",
      "Epoch 4/100\n",
      "11610/11610 [==============================] - 2s 160us/sample - loss: 0.6221 - val_loss: 0.6064\n",
      "Epoch 5/100\n",
      "11610/11610 [==============================] - 2s 159us/sample - loss: 0.5917 - val_loss: 0.5821\n",
      "Epoch 6/100\n",
      "11610/11610 [==============================] - 2s 159us/sample - loss: 0.5692 - val_loss: 0.5618\n",
      "Epoch 7/100\n",
      "11610/11610 [==============================] - 2s 157us/sample - loss: 0.5516 - val_loss: 0.5459\n",
      "Epoch 8/100\n",
      "11610/11610 [==============================] - 2s 152us/sample - loss: 0.5374 - val_loss: 0.5332\n",
      "Epoch 9/100\n",
      "11610/11610 [==============================] - 2s 155us/sample - loss: 0.5260 - val_loss: 0.5228\n",
      "Epoch 10/100\n",
      "11610/11610 [==============================] - 2s 154us/sample - loss: 0.5163 - val_loss: 0.5135\n",
      "Epoch 11/100\n",
      "11610/11610 [==============================] - 2s 157us/sample - loss: 0.5082 - val_loss: 0.5059\n",
      "Epoch 12/100\n",
      "11610/11610 [==============================] - 2s 154us/sample - loss: 0.5015 - val_loss: 0.4997\n",
      "Epoch 13/100\n",
      "11610/11610 [==============================] - 2s 161us/sample - loss: 0.4960 - val_loss: 0.4946\n",
      "Epoch 14/100\n",
      "11610/11610 [==============================] - 2s 157us/sample - loss: 0.4912 - val_loss: 0.4902\n",
      "Epoch 15/100\n",
      "11610/11610 [==============================] - 2s 158us/sample - loss: 0.4869 - val_loss: 0.4864\n",
      "Epoch 16/100\n",
      "11610/11610 [==============================] - 2s 156us/sample - loss: 0.4832 - val_loss: 0.4830\n",
      "Epoch 17/100\n",
      "11610/11610 [==============================] - 2s 157us/sample - loss: 0.4801 - val_loss: 0.4798\n",
      "Epoch 18/100\n",
      "11610/11610 [==============================] - 2s 156us/sample - loss: 0.4771 - val_loss: 0.4772\n",
      "Epoch 19/100\n",
      "11610/11610 [==============================] - 2s 161us/sample - loss: 0.4745 - val_loss: 0.4743\n",
      "Epoch 20/100\n",
      "11610/11610 [==============================] - 2s 156us/sample - loss: 0.4720 - val_loss: 0.4722\n",
      "Epoch 21/100\n",
      "11610/11610 [==============================] - 2s 154us/sample - loss: 0.4698 - val_loss: 0.4701\n",
      "Epoch 22/100\n",
      "11610/11610 [==============================] - 2s 166us/sample - loss: 0.4674 - val_loss: 0.4681\n",
      "Epoch 23/100\n",
      "11610/11610 [==============================] - 2s 154us/sample - loss: 0.4660 - val_loss: 0.4663\n",
      "Epoch 24/100\n",
      "11610/11610 [==============================] - 2s 155us/sample - loss: 0.4642 - val_loss: 0.4648\n",
      "Epoch 25/100\n",
      "11610/11610 [==============================] - 2s 159us/sample - loss: 0.4623 - val_loss: 0.4632\n",
      "Epoch 26/100\n",
      "11610/11610 [==============================] - 2s 155us/sample - loss: 0.4610 - val_loss: 0.4614\n",
      "Epoch 27/100\n",
      "11610/11610 [==============================] - 2s 153us/sample - loss: 0.4595 - val_loss: 0.4605\n",
      "Epoch 28/100\n",
      "11610/11610 [==============================] - 2s 153us/sample - loss: 0.4581 - val_loss: 0.4592\n",
      "Epoch 29/100\n",
      "11610/11610 [==============================] - 2s 152us/sample - loss: 0.4570 - val_loss: 0.4575\n",
      "Epoch 30/100\n",
      "11610/11610 [==============================] - 2s 153us/sample - loss: 0.4556 - val_loss: 0.4561\n",
      "Epoch 31/100\n",
      "11610/11610 [==============================] - 2s 163us/sample - loss: 0.4545 - val_loss: 0.4550\n",
      "Epoch 32/100\n",
      "11610/11610 [==============================] - 2s 153us/sample - loss: 0.4533 - val_loss: 0.4537\n",
      "Epoch 33/100\n",
      "11610/11610 [==============================] - 2s 154us/sample - loss: 0.4521 - val_loss: 0.4526\n",
      "Epoch 34/100\n",
      "11610/11610 [==============================] - 2s 153us/sample - loss: 0.4507 - val_loss: 0.4513\n",
      "Epoch 35/100\n",
      "11610/11610 [==============================] - 2s 156us/sample - loss: 0.4499 - val_loss: 0.4500\n",
      "Epoch 36/100\n",
      "11610/11610 [==============================] - 2s 156us/sample - loss: 0.4490 - val_loss: 0.4489\n",
      "Epoch 37/100\n",
      "11610/11610 [==============================] - 2s 157us/sample - loss: 0.4479 - val_loss: 0.4476\n",
      "Epoch 38/100\n",
      "11610/11610 [==============================] - 2s 154us/sample - loss: 0.4469 - val_loss: 0.4468\n",
      "Epoch 39/100\n",
      "11610/11610 [==============================] - 2s 149us/sample - loss: 0.4458 - val_loss: 0.4459\n",
      "Epoch 40/100\n",
      "11610/11610 [==============================] - 2s 165us/sample - loss: 0.4448 - val_loss: 0.4449\n",
      "Epoch 41/100\n",
      "11610/11610 [==============================] - 2s 156us/sample - loss: 0.4441 - val_loss: 0.4437\n",
      "Epoch 42/100\n",
      "11610/11610 [==============================] - 2s 156us/sample - loss: 0.4431 - val_loss: 0.4430\n",
      "Epoch 43/100\n",
      "11610/11610 [==============================] - 2s 155us/sample - loss: 0.4420 - val_loss: 0.4416\n",
      "Epoch 44/100\n",
      "11610/11610 [==============================] - 2s 155us/sample - loss: 0.4411 - val_loss: 0.4408\n",
      "Epoch 45/100\n",
      "11610/11610 [==============================] - 2s 158us/sample - loss: 0.4402 - val_loss: 0.4398\n",
      "Epoch 46/100\n",
      "11610/11610 [==============================] - 2s 154us/sample - loss: 0.4394 - val_loss: 0.4385\n",
      "Epoch 47/100\n",
      "11610/11610 [==============================] - 2s 155us/sample - loss: 0.4385 - val_loss: 0.4379\n",
      "Epoch 48/100\n",
      "11610/11610 [==============================] - 2s 157us/sample - loss: 0.4374 - val_loss: 0.4372\n",
      "Epoch 49/100\n",
      "11610/11610 [==============================] - 2s 163us/sample - loss: 0.4366 - val_loss: 0.4358\n",
      "Epoch 50/100\n",
      "11610/11610 [==============================] - 2s 155us/sample - loss: 0.4357 - val_loss: 0.4353\n",
      "Epoch 51/100\n",
      "11610/11610 [==============================] - 2s 152us/sample - loss: 0.4349 - val_loss: 0.4344\n",
      "Epoch 52/100\n",
      "11610/11610 [==============================] - 2s 155us/sample - loss: 0.4341 - val_loss: 0.4335\n",
      "Epoch 53/100\n",
      "11610/11610 [==============================] - 2s 154us/sample - loss: 0.4332 - val_loss: 0.4323\n",
      "Epoch 54/100\n",
      "11610/11610 [==============================] - 2s 159us/sample - loss: 0.4323 - val_loss: 0.4310\n",
      "Epoch 55/100\n",
      "11610/11610 [==============================] - 2s 160us/sample - loss: 0.4314 - val_loss: 0.4309\n",
      "Epoch 56/100\n",
      "11610/11610 [==============================] - 2s 166us/sample - loss: 0.4305 - val_loss: 0.4297\n",
      "Epoch 57/100\n",
      "11610/11610 [==============================] - 2s 153us/sample - loss: 0.4298 - val_loss: 0.4289\n",
      "Epoch 58/100\n",
      "11610/11610 [==============================] - 2s 150us/sample - loss: 0.4290 - val_loss: 0.4275\n",
      "Epoch 59/100\n",
      "11610/11610 [==============================] - 2s 147us/sample - loss: 0.4280 - val_loss: 0.4266\n",
      "Epoch 60/100\n",
      "11610/11610 [==============================] - 2s 154us/sample - loss: 0.4272 - val_loss: 0.4261\n",
      "Epoch 61/100\n",
      "11610/11610 [==============================] - 2s 157us/sample - loss: 0.4264 - val_loss: 0.4247\n",
      "Epoch 62/100\n",
      "11610/11610 [==============================] - 2s 149us/sample - loss: 0.4255 - val_loss: 0.4245\n",
      "Epoch 63/100\n",
      "11610/11610 [==============================] - 2s 146us/sample - loss: 0.4246 - val_loss: 0.4233\n",
      "Epoch 64/100\n",
      "11610/11610 [==============================] - 2s 148us/sample - loss: 0.4239 - val_loss: 0.4225\n",
      "Epoch 65/100\n",
      "11610/11610 [==============================] - 2s 146us/sample - loss: 0.4231 - val_loss: 0.4216\n",
      "Epoch 66/100\n",
      "11610/11610 [==============================] - 2s 152us/sample - loss: 0.4221 - val_loss: 0.4216\n",
      "Epoch 67/100\n",
      "11610/11610 [==============================] - 2s 155us/sample - loss: 0.4215 - val_loss: 0.4194\n",
      "Epoch 68/100\n",
      "11610/11610 [==============================] - 2s 148us/sample - loss: 0.4205 - val_loss: 0.4190\n",
      "Epoch 69/100\n",
      "11610/11610 [==============================] - 2s 145us/sample - loss: 0.4198 - val_loss: 0.4176\n",
      "Epoch 70/100\n",
      "11610/11610 [==============================] - 2s 146us/sample - loss: 0.4188 - val_loss: 0.4171\n",
      "Epoch 71/100\n",
      "11610/11610 [==============================] - 2s 146us/sample - loss: 0.4180 - val_loss: 0.4165\n",
      "Epoch 72/100\n",
      "11610/11610 [==============================] - 2s 145us/sample - loss: 0.4173 - val_loss: 0.4150\n",
      "Epoch 73/100\n",
      "11610/11610 [==============================] - 2s 147us/sample - loss: 0.4166 - val_loss: 0.4141\n",
      "Epoch 74/100\n",
      "11610/11610 [==============================] - 2s 150us/sample - loss: 0.4157 - val_loss: 0.4131\n",
      "Epoch 75/100\n"
     ]
    },
    {
     "name": "stdout",
     "output_type": "stream",
     "text": [
      "11610/11610 [==============================] - 2s 144us/sample - loss: 0.4148 - val_loss: 0.4122\n",
      "Epoch 76/100\n",
      "11610/11610 [==============================] - 2s 152us/sample - loss: 0.4140 - val_loss: 0.4112\n",
      "Epoch 77/100\n",
      "11610/11610 [==============================] - 2s 143us/sample - loss: 0.4133 - val_loss: 0.4109\n",
      "Epoch 78/100\n",
      "11610/11610 [==============================] - 2s 150us/sample - loss: 0.4126 - val_loss: 0.4103\n",
      "Epoch 79/100\n",
      "11610/11610 [==============================] - 2s 147us/sample - loss: 0.4116 - val_loss: 0.4092\n",
      "Epoch 80/100\n",
      "11610/11610 [==============================] - 2s 142us/sample - loss: 0.4108 - val_loss: 0.4084\n",
      "Epoch 81/100\n",
      "11610/11610 [==============================] - 2s 141us/sample - loss: 0.4102 - val_loss: 0.4083\n",
      "Epoch 82/100\n",
      "11610/11610 [==============================] - 2s 143us/sample - loss: 0.4092 - val_loss: 0.4072\n",
      "Epoch 83/100\n",
      "11610/11610 [==============================] - 2s 156us/sample - loss: 0.4087 - val_loss: 0.4055\n",
      "Epoch 84/100\n",
      "11610/11610 [==============================] - 2s 152us/sample - loss: 0.4078 - val_loss: 0.4044\n",
      "Epoch 85/100\n",
      "11610/11610 [==============================] - 2s 154us/sample - loss: 0.4068 - val_loss: 0.4039\n",
      "Epoch 86/100\n",
      "11610/11610 [==============================] - 2s 145us/sample - loss: 0.4063 - val_loss: 0.4030\n",
      "Epoch 87/100\n",
      "11610/11610 [==============================] - 2s 145us/sample - loss: 0.4057 - val_loss: 0.4026\n",
      "Epoch 88/100\n",
      "11610/11610 [==============================] - 2s 147us/sample - loss: 0.4049 - val_loss: 0.4013\n",
      "Epoch 89/100\n",
      "11610/11610 [==============================] - 2s 144us/sample - loss: 0.4040 - val_loss: 0.4005\n",
      "Epoch 90/100\n",
      "11610/11610 [==============================] - 2s 147us/sample - loss: 0.4034 - val_loss: 0.3997\n",
      "Epoch 91/100\n",
      "11610/11610 [==============================] - 2s 146us/sample - loss: 0.4024 - val_loss: 0.3992\n",
      "Epoch 92/100\n",
      "11610/11610 [==============================] - 2s 144us/sample - loss: 0.4016 - val_loss: 0.3981\n",
      "Epoch 93/100\n",
      "11610/11610 [==============================] - 2s 148us/sample - loss: 0.4009 - val_loss: 0.3983\n",
      "Epoch 94/100\n",
      "11610/11610 [==============================] - 2s 151us/sample - loss: 0.4004 - val_loss: 0.3971\n",
      "Epoch 95/100\n",
      "11610/11610 [==============================] - 2s 150us/sample - loss: 0.3993 - val_loss: 0.3974\n",
      "Epoch 96/100\n",
      "11610/11610 [==============================] - 2s 147us/sample - loss: 0.3988 - val_loss: 0.3954\n",
      "Epoch 97/100\n",
      "11610/11610 [==============================] - 2s 148us/sample - loss: 0.3982 - val_loss: 0.3944\n",
      "Epoch 98/100\n",
      "11610/11610 [==============================] - 2s 147us/sample - loss: 0.3974 - val_loss: 0.3943\n",
      "Epoch 99/100\n",
      "11610/11610 [==============================] - 2s 151us/sample - loss: 0.3966 - val_loss: 0.3930\n",
      "Epoch 100/100\n",
      "11610/11610 [==============================] - 2s 146us/sample - loss: 0.3960 - val_loss: 0.3922\n"
     ]
    }
   ],
   "source": [
    "#wide takes first 5 features, deep takes last 6 features\n",
    "x_train_scaled_wide = x_train_scaled[:, :5]\n",
    "x_train_scaled_deep = x_train_scaled[:, 2:]\n",
    "x_valid_scaled_wide = x_valid_scaled[:, :5]\n",
    "x_valid_scaled_deep = x_valid_scaled[:, 2:]\n",
    "x_test_scaled_wide = x_test_scaled[:, :5]\n",
    "x_test_scaled_deep = x_test_scaled[:, 2:]\n",
    "\n",
    "history = model.fit([x_train_scaled_wide, x_train_scaled_deep],\n",
    "                    y_train,\n",
    "                   validation_data = ([x_valid_scaled_wide, x_valid_scaled_deep],\n",
    "                                      y_valid),\n",
    "                   epochs = 100,\n",
    "                   callbacks = callbacks)"
   ]
  },
  {
   "cell_type": "code",
   "execution_count": 18,
   "metadata": {},
   "outputs": [
    {
     "data": {
      "image/png": "[encoded data removed]",
      "text/plain": [
       "<Figure size 576x360 with 1 Axes>"
      ]
     },
     "metadata": {
      "needs_background": "light"
     },
     "output_type": "display_data"
    }
   ],
   "source": [
    "def plot_learnig_curves(history):\n",
    "    pd.DataFrame(history.history).plot(figsize=(8,5))\n",
    "    plt.grid(True)\n",
    "    plt.gca().set_ylim(0,1)\n",
    "    plt.show()\n",
    "plot_learnig_curves(history)"
   ]
  },
  {
   "cell_type": "code",
   "execution_count": 19,
   "metadata": {},
   "outputs": [
    {
     "name": "stdout",
     "output_type": "stream",
     "text": [
      "5160/5160 [==============================] - 0s 88us/sample - loss: 0.4253\n"
     ]
    },
    {
     "data": {
      "text/plain": [
       "0.4253440456334935"
      ]
     },
     "execution_count": 19,
     "metadata": {},
     "output_type": "execute_result"
    }
   ],
   "source": [
    "model.evaluate([x_test_scaled_wide, x_test_scaled_deep], y_test)"
   ]
  },
  {
   "cell_type": "code",
   "execution_count": null,
   "metadata": {},
   "outputs": [],
   "source": []
  }
 ],
 "metadata": {
  "kernelspec": {
   "display_name": "Python 3",
   "language": "python",
   "name": "python3"
  },
  "language_info": {
   "codemirror_mode": {
    "name": "ipython",
    "version": 3
   },
   "file_extension": ".py",
   "mimetype": "text/x-python",
   "name": "python",
   "nbconvert_exporter": "python",
   "pygments_lexer": "ipython3",
   "version": "3.6.8"
  }
 },
 "nbformat": 4,
 "nbformat_minor": 2
}
