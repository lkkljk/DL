{
 "cells": [
  {
   "cell_type": "code",
   "execution_count": 2,
   "metadata": {},
   "outputs": [
    {
     "name": "stdout",
     "output_type": "stream",
     "text": [
      "sys.version_info(major=3, minor=6, micro=8, releaselevel='final', serial=0)\n",
      "matplotlib 3.1.0\n",
      "numpy 1.16.4\n",
      "sklearn 0.21.2\n",
      "pandas 0.24.2\n",
      "tensorflow 2.0.0-alpha0\n",
      "tensorflow.python.keras.api._v2.keras 2.2.4-tf\n"
     ]
    }
   ],
   "source": [
    "import matplotlib as mpl\n",
    "import matplotlib.pyplot as plt\n",
    "%matplotlib inline\n",
    "import numpy as np\n",
    "import sklearn\n",
    "import os\n",
    "import sys\n",
    "import pandas as pd\n",
    "import time\n",
    "import tensorflow as tf\n",
    "from tensorflow import keras\n",
    "\n",
    "print(sys.version_info)\n",
    "for module in mpl,np, sklearn,pd,tf,keras:\n",
    "    print(module.__name__,module.__version__)"
   ]
  },
  {
   "cell_type": "code",
   "execution_count": 3,
   "metadata": {},
   "outputs": [
    {
     "name": "stdout",
     "output_type": "stream",
     "text": [
      ".. _california_housing_dataset:\n",
      "\n",
      "California Housing dataset\n",
      "--------------------------\n",
      "\n",
      "**Data Set Characteristics:**\n",
      "\n",
      "    :Number of Instances: 20640\n",
      "\n",
      "    :Number of Attributes: 8 numeric, predictive attributes and the target\n",
      "\n",
      "    :Attribute Information:\n",
      "        - MedInc        median income in block\n",
      "        - HouseAge      median house age in block\n",
      "        - AveRooms      average number of rooms\n",
      "        - AveBedrms     average number of bedrooms\n",
      "        - Population    block population\n",
      "        - AveOccup      average house occupancy\n",
      "        - Latitude      house block latitude\n",
      "        - Longitude     house block longitude\n",
      "\n",
      "    :Missing Attribute Values: None\n",
      "\n",
      "This dataset was obtained from the StatLib repository.\n",
      "http://lib.stat.cmu.edu/datasets/\n",
      "\n",
      "The target variable is the median house value for California districts.\n",
      "\n",
      "This dataset was derived from the 1990 U.S. census, using one row per census\n",
      "block group. A block group is the smallest geographical unit for which the U.S.\n",
      "Census Bureau publishes sample data (a block group typically has a population\n",
      "of 600 to 3,000 people).\n",
      "\n",
      "It can be downloaded/loaded using the\n",
      ":func:`sklearn.datasets.fetch_california_housing` function.\n",
      "\n",
      ".. topic:: References\n",
      "\n",
      "    - Pace, R. Kelley and Ronald Barry, Sparse Spatial Autoregressions,\n",
      "      Statistics and Probability Letters, 33 (1997) 291-297\n",
      "\n",
      "(20640, 8)\n",
      "(20640,)\n"
     ]
    }
   ],
   "source": [
    "from sklearn.datasets import fetch_california_housing\n",
    "\n",
    "housing = fetch_california_housing()\n",
    "print(housing.DESCR)\n",
    "print(housing.data.shape)\n",
    "print(housing.target.shape)"
   ]
  },
  {
   "cell_type": "code",
   "execution_count": 4,
   "metadata": {},
   "outputs": [
    {
     "name": "stdout",
     "output_type": "stream",
     "text": [
      "(11610, 8) (11610,)\n",
      "(3870, 8) (3870,)\n",
      "(5160, 8) (5160,)\n"
     ]
    }
   ],
   "source": [
    "from sklearn.model_selection import train_test_split\n",
    "\n",
    "x_train_all, x_test, y_train_all, y_test = train_test_split(\n",
    "    housing.data, housing.target, random_state = 1    #,test_size = 0.25   default, 3:1\n",
    ")\n",
    "\n",
    "x_train, x_valid, y_train, y_valid = train_test_split(\n",
    "    x_train_all, y_train_all, random_state = 2)\n",
    "\n",
    "print(x_train.shape, y_train.shape)\n",
    "print(x_valid.shape, y_valid.shape)\n",
    "print(x_test.shape, y_test.shape)"
   ]
  },
  {
   "cell_type": "code",
   "execution_count": 5,
   "metadata": {},
   "outputs": [],
   "source": [
    "from sklearn.preprocessing import StandardScaler\n",
    "\n",
    "scaler = StandardScaler()\n",
    "x_train_scaled = scaler.fit_transform(x_train)\n",
    "x_valid_scaled = scaler.transform(x_valid)\n",
    "x_test_scaled = scaler.transform(x_test)"
   ]
  },
  {
   "cell_type": "code",
   "execution_count": 6,
   "metadata": {},
   "outputs": [
    {
     "name": "stdout",
     "output_type": "stream",
     "text": [
      "Model: \"model\"\n",
      "__________________________________________________________________________________________________\n",
      "Layer (type)                    Output Shape         Param #     Connected to                     \n",
      "==================================================================================================\n",
      "input_1 (InputLayer)            [(None, 8)]          0                                            \n",
      "__________________________________________________________________________________________________\n",
      "dense (Dense)                   (None, 30)           270         input_1[0][0]                    \n",
      "__________________________________________________________________________________________________\n",
      "dense_1 (Dense)                 (None, 30)           930         dense[0][0]                      \n",
      "__________________________________________________________________________________________________\n",
      "concatenate (Concatenate)       (None, 38)           0           input_1[0][0]                    \n",
      "                                                                 dense_1[0][0]                    \n",
      "__________________________________________________________________________________________________\n",
      "dense_2 (Dense)                 (None, 1)            39          concatenate[0][0]                \n",
      "==================================================================================================\n",
      "Total params: 1,239\n",
      "Trainable params: 1,239\n",
      "Non-trainable params: 0\n",
      "__________________________________________________________________________________________________\n"
     ]
    }
   ],
   "source": [
    "# wide & deep 模型由两部分组成，所以不能由sequential方式来写，需要用 function api\n",
    "\n",
    "# deep model \n",
    "input = keras.layers.Input(shape=x_train.shape[1:])\n",
    "hidden1 = keras.layers.Dense(30, activation='relu')(input)\n",
    "hidden2 = keras.layers.Dense(30, activation='relu')(hidden1)\n",
    "\n",
    "# 合并两个部分， wide部分和output层直接相连\n",
    "concat = keras.layers.concatenate([input, hidden2])\n",
    "output = keras.layers.Dense(1)(concat)\n",
    "\n",
    "# Sequential 方法已经固化好了model， function api方法要在这里固化model\n",
    "model = keras.models.Model(inputs = [input],\n",
    "                           outputs = [output])\n",
    "\n",
    "model.summary()\n",
    "model.compile(loss='mean_squared_error', optimizer='sgd')\n",
    "callbacks = [keras.callbacks.EarlyStopping(patience=5, min_delta=1e-3)]\n"
   ]
  },
  {
   "cell_type": "code",
   "execution_count": 7,
   "metadata": {
    "scrolled": true
   },
   "outputs": [
    {
     "name": "stdout",
     "output_type": "stream",
     "text": [
      "Train on 11610 samples, validate on 3870 samples\n",
      "Epoch 1/100\n",
      "11610/11610 [==============================] - 2s 200us/sample - loss: 2.4845 - val_loss: 0.8642\n",
      "Epoch 2/100\n",
      "11610/11610 [==============================] - 2s 152us/sample - loss: 0.8203 - val_loss: 0.7339\n",
      "Epoch 3/100\n",
      "11610/11610 [==============================] - 2s 150us/sample - loss: 0.7105 - val_loss: 0.6815\n",
      "Epoch 4/100\n",
      "11610/11610 [==============================] - 2s 155us/sample - loss: 0.6640 - val_loss: 0.6426\n",
      "Epoch 5/100\n",
      "11610/11610 [==============================] - 2s 151us/sample - loss: 0.6288 - val_loss: 0.6140\n",
      "Epoch 6/100\n",
      "11610/11610 [==============================] - 2s 152us/sample - loss: 0.6033 - val_loss: 0.5905\n",
      "Epoch 7/100\n",
      "11610/11610 [==============================] - 2s 151us/sample - loss: 0.5816 - val_loss: 0.5721\n",
      "Epoch 8/100\n",
      "11610/11610 [==============================] - 2s 149us/sample - loss: 0.5649 - val_loss: 0.5578\n",
      "Epoch 9/100\n",
      "11610/11610 [==============================] - 2s 149us/sample - loss: 0.5513 - val_loss: 0.5458\n",
      "Epoch 10/100\n",
      "11610/11610 [==============================] - 2s 149us/sample - loss: 0.5407 - val_loss: 0.5365\n",
      "Epoch 11/100\n",
      "11610/11610 [==============================] - 2s 147us/sample - loss: 0.5314 - val_loss: 0.5286\n",
      "Epoch 12/100\n",
      "11610/11610 [==============================] - 2s 149us/sample - loss: 0.5244 - val_loss: 0.5215\n",
      "Epoch 13/100\n",
      "11610/11610 [==============================] - 2s 152us/sample - loss: 0.5174 - val_loss: 0.5143\n",
      "Epoch 14/100\n",
      "11610/11610 [==============================] - 2s 156us/sample - loss: 0.5112 - val_loss: 0.5094\n",
      "Epoch 15/100\n",
      "11610/11610 [==============================] - 2s 148us/sample - loss: 0.5061 - val_loss: 0.5042\n",
      "Epoch 16/100\n",
      "11610/11610 [==============================] - 2s 148us/sample - loss: 0.5011 - val_loss: 0.4999\n",
      "Epoch 17/100\n",
      "11610/11610 [==============================] - 2s 152us/sample - loss: 0.4972 - val_loss: 0.4950\n",
      "Epoch 18/100\n",
      "11610/11610 [==============================] - 2s 152us/sample - loss: 0.4932 - val_loss: 0.4909\n",
      "Epoch 19/100\n",
      "11610/11610 [==============================] - 2s 147us/sample - loss: 0.4894 - val_loss: 0.4875\n",
      "Epoch 20/100\n",
      "11610/11610 [==============================] - 2s 146us/sample - loss: 0.4853 - val_loss: 0.4836\n",
      "Epoch 21/100\n",
      "11610/11610 [==============================] - 2s 147us/sample - loss: 0.4828 - val_loss: 0.4804\n",
      "Epoch 22/100\n",
      "11610/11610 [==============================] - 2s 151us/sample - loss: 0.4790 - val_loss: 0.4771\n",
      "Epoch 23/100\n",
      "11610/11610 [==============================] - 2s 158us/sample - loss: 0.4762 - val_loss: 0.4743\n",
      "Epoch 24/100\n",
      "11610/11610 [==============================] - 2s 151us/sample - loss: 0.4731 - val_loss: 0.4713\n",
      "Epoch 25/100\n",
      "11610/11610 [==============================] - 2s 151us/sample - loss: 0.4707 - val_loss: 0.4686\n",
      "Epoch 26/100\n",
      "11610/11610 [==============================] - 2s 150us/sample - loss: 0.4679 - val_loss: 0.4663\n",
      "Epoch 27/100\n",
      "11610/11610 [==============================] - 2s 152us/sample - loss: 0.4651 - val_loss: 0.4645\n",
      "Epoch 28/100\n",
      "11610/11610 [==============================] - 2s 148us/sample - loss: 0.4632 - val_loss: 0.4611\n",
      "Epoch 29/100\n",
      "11610/11610 [==============================] - 2s 149us/sample - loss: 0.4606 - val_loss: 0.4592\n",
      "Epoch 30/100\n",
      "11610/11610 [==============================] - 2s 153us/sample - loss: 0.4583 - val_loss: 0.4565\n",
      "Epoch 31/100\n",
      "11610/11610 [==============================] - 2s 152us/sample - loss: 0.4559 - val_loss: 0.4549\n",
      "Epoch 32/100\n",
      "11610/11610 [==============================] - 2s 161us/sample - loss: 0.4536 - val_loss: 0.4523\n",
      "Epoch 33/100\n",
      "11610/11610 [==============================] - 2s 149us/sample - loss: 0.4516 - val_loss: 0.4508\n",
      "Epoch 34/100\n",
      "11610/11610 [==============================] - 2s 144us/sample - loss: 0.4492 - val_loss: 0.4489\n",
      "Epoch 35/100\n",
      "11610/11610 [==============================] - 2s 144us/sample - loss: 0.4476 - val_loss: 0.4461\n",
      "Epoch 36/100\n",
      "11610/11610 [==============================] - 2s 146us/sample - loss: 0.4461 - val_loss: 0.4448\n",
      "Epoch 37/100\n",
      "11610/11610 [==============================] - 2s 142us/sample - loss: 0.4440 - val_loss: 0.4430\n",
      "Epoch 38/100\n",
      "11610/11610 [==============================] - 2s 140us/sample - loss: 0.4427 - val_loss: 0.4412\n",
      "Epoch 39/100\n",
      "11610/11610 [==============================] - 2s 141us/sample - loss: 0.4406 - val_loss: 0.4394\n",
      "Epoch 40/100\n",
      "11610/11610 [==============================] - 2s 141us/sample - loss: 0.4387 - val_loss: 0.4379\n",
      "Epoch 41/100\n",
      "11610/11610 [==============================] - 2s 146us/sample - loss: 0.4376 - val_loss: 0.4361\n",
      "Epoch 42/100\n",
      "11610/11610 [==============================] - 2s 146us/sample - loss: 0.4357 - val_loss: 0.4345\n",
      "Epoch 43/100\n",
      "11610/11610 [==============================] - 2s 143us/sample - loss: 0.4344 - val_loss: 0.4335\n",
      "Epoch 44/100\n",
      "11610/11610 [==============================] - 2s 139us/sample - loss: 0.4327 - val_loss: 0.4326\n",
      "Epoch 45/100\n",
      "11610/11610 [==============================] - 2s 143us/sample - loss: 0.4313 - val_loss: 0.4307\n",
      "Epoch 46/100\n",
      "11610/11610 [==============================] - 2s 142us/sample - loss: 0.4299 - val_loss: 0.4285\n",
      "Epoch 47/100\n",
      "11610/11610 [==============================] - 2s 140us/sample - loss: 0.4286 - val_loss: 0.4287\n",
      "Epoch 48/100\n",
      "11610/11610 [==============================] - 2s 141us/sample - loss: 0.4274 - val_loss: 0.4261\n",
      "Epoch 49/100\n",
      "11610/11610 [==============================] - 2s 140us/sample - loss: 0.4262 - val_loss: 0.4252\n",
      "Epoch 50/100\n",
      "11610/11610 [==============================] - 2s 139us/sample - loss: 0.4247 - val_loss: 0.4237\n",
      "Epoch 51/100\n",
      "11610/11610 [==============================] - 2s 149us/sample - loss: 0.4236 - val_loss: 0.4231\n",
      "Epoch 52/100\n",
      "11610/11610 [==============================] - 2s 141us/sample - loss: 0.4227 - val_loss: 0.4219\n",
      "Epoch 53/100\n",
      "11610/11610 [==============================] - 2s 147us/sample - loss: 0.4215 - val_loss: 0.4210\n",
      "Epoch 54/100\n",
      "11610/11610 [==============================] - 2s 142us/sample - loss: 0.4200 - val_loss: 0.4192\n",
      "Epoch 55/100\n",
      "11610/11610 [==============================] - 2s 142us/sample - loss: 0.4190 - val_loss: 0.4182\n",
      "Epoch 56/100\n",
      "11610/11610 [==============================] - 2s 141us/sample - loss: 0.4183 - val_loss: 0.4175\n",
      "Epoch 57/100\n",
      "11610/11610 [==============================] - 2s 144us/sample - loss: 0.4169 - val_loss: 0.4162\n",
      "Epoch 58/100\n",
      "11610/11610 [==============================] - 2s 142us/sample - loss: 0.4157 - val_loss: 0.4152\n",
      "Epoch 59/100\n",
      "11610/11610 [==============================] - 2s 144us/sample - loss: 0.4146 - val_loss: 0.4144\n",
      "Epoch 60/100\n",
      "11610/11610 [==============================] - 2s 150us/sample - loss: 0.4136 - val_loss: 0.4136\n",
      "Epoch 61/100\n",
      "11610/11610 [==============================] - 2s 147us/sample - loss: 0.4128 - val_loss: 0.4124\n",
      "Epoch 62/100\n",
      "11610/11610 [==============================] - 2s 140us/sample - loss: 0.4118 - val_loss: 0.4108\n",
      "Epoch 63/100\n",
      "11610/11610 [==============================] - 2s 143us/sample - loss: 0.4106 - val_loss: 0.4105\n",
      "Epoch 64/100\n",
      "11610/11610 [==============================] - 2s 142us/sample - loss: 0.4094 - val_loss: 0.4089\n",
      "Epoch 65/100\n",
      "11610/11610 [==============================] - 2s 141us/sample - loss: 0.4085 - val_loss: 0.4088\n",
      "Epoch 66/100\n",
      "11610/11610 [==============================] - 2s 146us/sample - loss: 0.4072 - val_loss: 0.4076\n",
      "Epoch 67/100\n",
      "11610/11610 [==============================] - 2s 142us/sample - loss: 0.4067 - val_loss: 0.4067\n",
      "Epoch 68/100\n",
      "11610/11610 [==============================] - 2s 141us/sample - loss: 0.4053 - val_loss: 0.4052\n",
      "Epoch 69/100\n",
      "11610/11610 [==============================] - 2s 144us/sample - loss: 0.4044 - val_loss: 0.4040\n",
      "Epoch 70/100\n",
      "11610/11610 [==============================] - 2s 149us/sample - loss: 0.4037 - val_loss: 0.4032\n",
      "Epoch 71/100\n",
      "11610/11610 [==============================] - 2s 142us/sample - loss: 0.4024 - val_loss: 0.4023\n",
      "Epoch 72/100\n",
      "11610/11610 [==============================] - 2s 144us/sample - loss: 0.4016 - val_loss: 0.4018\n",
      "Epoch 73/100\n",
      "11610/11610 [==============================] - 2s 140us/sample - loss: 0.4006 - val_loss: 0.4004\n",
      "Epoch 74/100\n",
      "11610/11610 [==============================] - 2s 142us/sample - loss: 0.4000 - val_loss: 0.4000\n",
      "Epoch 75/100\n"
     ]
    },
    {
     "name": "stdout",
     "output_type": "stream",
     "text": [
      "11610/11610 [==============================] - 2s 140us/sample - loss: 0.3988 - val_loss: 0.3990\n",
      "Epoch 76/100\n",
      "11610/11610 [==============================] - 2s 140us/sample - loss: 0.3979 - val_loss: 0.3981\n",
      "Epoch 77/100\n",
      "11610/11610 [==============================] - 2s 141us/sample - loss: 0.3969 - val_loss: 0.3981\n",
      "Epoch 78/100\n",
      "11610/11610 [==============================] - 2s 145us/sample - loss: 0.3962 - val_loss: 0.3964\n",
      "Epoch 79/100\n",
      "11610/11610 [==============================] - 2s 139us/sample - loss: 0.3952 - val_loss: 0.3957\n",
      "Epoch 80/100\n",
      "11610/11610 [==============================] - 2s 148us/sample - loss: 0.3942 - val_loss: 0.3969\n",
      "Epoch 81/100\n",
      "11610/11610 [==============================] - 2s 139us/sample - loss: 0.3938 - val_loss: 0.3940\n",
      "Epoch 82/100\n",
      "11610/11610 [==============================] - 2s 140us/sample - loss: 0.3924 - val_loss: 0.3930\n",
      "Epoch 83/100\n",
      "11610/11610 [==============================] - 2s 138us/sample - loss: 0.3918 - val_loss: 0.3924\n",
      "Epoch 84/100\n",
      "11610/11610 [==============================] - 2s 142us/sample - loss: 0.3909 - val_loss: 0.3917\n",
      "Epoch 85/100\n",
      "11610/11610 [==============================] - 2s 140us/sample - loss: 0.3901 - val_loss: 0.3913\n",
      "Epoch 86/100\n",
      "11610/11610 [==============================] - 2s 139us/sample - loss: 0.3887 - val_loss: 0.3902\n",
      "Epoch 87/100\n",
      "11610/11610 [==============================] - 2s 142us/sample - loss: 0.3887 - val_loss: 0.3899\n",
      "Epoch 88/100\n",
      "11610/11610 [==============================] - 2s 138us/sample - loss: 0.3874 - val_loss: 0.3895\n",
      "Epoch 89/100\n",
      "11610/11610 [==============================] - 2s 140us/sample - loss: 0.3866 - val_loss: 0.3886\n",
      "Epoch 90/100\n",
      "11610/11610 [==============================] - 2s 149us/sample - loss: 0.3861 - val_loss: 0.3874\n",
      "Epoch 91/100\n",
      "11610/11610 [==============================] - 2s 143us/sample - loss: 0.3852 - val_loss: 0.3863\n",
      "Epoch 92/100\n",
      "11610/11610 [==============================] - 2s 142us/sample - loss: 0.3843 - val_loss: 0.3854\n",
      "Epoch 93/100\n",
      "11610/11610 [==============================] - 2s 143us/sample - loss: 0.3839 - val_loss: 0.3851\n",
      "Epoch 94/100\n",
      "11610/11610 [==============================] - 2s 143us/sample - loss: 0.3833 - val_loss: 0.3843\n",
      "Epoch 95/100\n",
      "11610/11610 [==============================] - 2s 139us/sample - loss: 0.3822 - val_loss: 0.3850\n",
      "Epoch 96/100\n",
      "11610/11610 [==============================] - 2s 139us/sample - loss: 0.3813 - val_loss: 0.3849\n",
      "Epoch 97/100\n",
      "11610/11610 [==============================] - 2s 142us/sample - loss: 0.3810 - val_loss: 0.3825\n",
      "Epoch 98/100\n",
      "11610/11610 [==============================] - 2s 138us/sample - loss: 0.3805 - val_loss: 0.3813\n",
      "Epoch 99/100\n",
      "11610/11610 [==============================] - 2s 145us/sample - loss: 0.3794 - val_loss: 0.3818\n",
      "Epoch 100/100\n",
      "11610/11610 [==============================] - 2s 143us/sample - loss: 0.3791 - val_loss: 0.3803\n"
     ]
    }
   ],
   "source": [
    "history = model.fit(x_train_scaled, y_train,\n",
    "                   validation_data = (x_valid_scaled, y_valid),\n",
    "                   epochs = 100,\n",
    "                   callbacks = callbacks)"
   ]
  },
  {
   "cell_type": "code",
   "execution_count": 8,
   "metadata": {},
   "outputs": [
    {
     "data": {
      "image/png": "[encoded data removed]",
      "text/plain": [
       "<Figure size 576x360 with 1 Axes>"
      ]
     },
     "metadata": {
      "needs_background": "light"
     },
     "output_type": "display_data"
    }
   ],
   "source": [
    "def plot_learnig_curves(history):\n",
    "    pd.DataFrame(history.history).plot(figsize=(8,5))\n",
    "    plt.grid(True)\n",
    "    plt.gca().set_ylim(0,1)\n",
    "    plt.show()\n",
    "plot_learnig_curves(history)"
   ]
  },
  {
   "cell_type": "code",
   "execution_count": 9,
   "metadata": {},
   "outputs": [
    {
     "name": "stdout",
     "output_type": "stream",
     "text": [
      "5160/5160 [==============================] - 0s 86us/sample - loss: 0.4032\n"
     ]
    },
    {
     "data": {
      "text/plain": [
       "0.40323724876078526"
      ]
     },
     "execution_count": 9,
     "metadata": {},
     "output_type": "execute_result"
    }
   ],
   "source": [
    "model.evaluate(x_test_scaled, y_test)"
   ]
  },
  {
   "cell_type": "code",
   "execution_count": null,
   "metadata": {},
   "outputs": [],
   "source": []
  }
 ],
 "metadata": {
  "kernelspec": {
   "display_name": "Python 3",
   "language": "python",
   "name": "python3"
  },
  "language_info": {
   "codemirror_mode": {
    "name": "ipython",
    "version": 3
   },
   "file_extension": ".py",
   "mimetype": "text/x-python",
   "name": "python",
   "nbconvert_exporter": "python",
   "pygments_lexer": "ipython3",
   "version": "3.6.8"
  }
 },
 "nbformat": 4,
 "nbformat_minor": 2
}
