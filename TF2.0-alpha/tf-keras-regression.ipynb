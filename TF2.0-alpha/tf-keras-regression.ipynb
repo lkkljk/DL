{
 "cells": [
  {
   "cell_type": "code",
   "execution_count": 3,
   "metadata": {},
   "outputs": [
    {
     "name": "stdout",
     "output_type": "stream",
     "text": [
      "sys.version_info(major=3, minor=6, micro=8, releaselevel='final', serial=0)\n",
      "matplotlib 3.1.0\n",
      "numpy 1.16.4\n",
      "sklearn 0.21.2\n",
      "pandas 0.24.2\n",
      "tensorflow 2.0.0-alpha0\n",
      "tensorflow.python.keras.api._v2.keras 2.2.4-tf\n"
     ]
    }
   ],
   "source": [
    "import matplotlib as mpl\n",
    "import matplotlib.pyplot as plt\n",
    "%matplotlib inline\n",
    "import numpy as np\n",
    "import sklearn\n",
    "import os\n",
    "import sys\n",
    "import pandas as pd\n",
    "import time\n",
    "import tensorflow as tf\n",
    "from tensorflow import keras\n",
    "\n",
    "print(sys.version_info)\n",
    "for module in mpl,np, sklearn,pd,tf,keras:\n",
    "    print(module.__name__,module.__version__)"
   ]
  },
  {
   "cell_type": "code",
   "execution_count": 4,
   "metadata": {},
   "outputs": [
    {
     "name": "stderr",
     "output_type": "stream",
     "text": [
      "Downloading Cal. housing from https://ndownloader.figshare.com/files/5976036 to C:\\Users\\ZSZ\\scikit_learn_data\n",
      "WARNING: Logging before flag parsing goes to stderr.\n",
      "I0612 18:19:09.253536  7968 california_housing.py:114] Downloading Cal. housing from https://ndownloader.figshare.com/files/5976036 to C:\\Users\\ZSZ\\scikit_learn_data\n"
     ]
    },
    {
     "name": "stdout",
     "output_type": "stream",
     "text": [
      ".. _california_housing_dataset:\n",
      "\n",
      "California Housing dataset\n",
      "--------------------------\n",
      "\n",
      "**Data Set Characteristics:**\n",
      "\n",
      "    :Number of Instances: 20640\n",
      "\n",
      "    :Number of Attributes: 8 numeric, predictive attributes and the target\n",
      "\n",
      "    :Attribute Information:\n",
      "        - MedInc        median income in block\n",
      "        - HouseAge      median house age in block\n",
      "        - AveRooms      average number of rooms\n",
      "        - AveBedrms     average number of bedrooms\n",
      "        - Population    block population\n",
      "        - AveOccup      average house occupancy\n",
      "        - Latitude      house block latitude\n",
      "        - Longitude     house block longitude\n",
      "\n",
      "    :Missing Attribute Values: None\n",
      "\n",
      "This dataset was obtained from the StatLib repository.\n",
      "http://lib.stat.cmu.edu/datasets/\n",
      "\n",
      "The target variable is the median house value for California districts.\n",
      "\n",
      "This dataset was derived from the 1990 U.S. census, using one row per census\n",
      "block group. A block group is the smallest geographical unit for which the U.S.\n",
      "Census Bureau publishes sample data (a block group typically has a population\n",
      "of 600 to 3,000 people).\n",
      "\n",
      "It can be downloaded/loaded using the\n",
      ":func:`sklearn.datasets.fetch_california_housing` function.\n",
      "\n",
      ".. topic:: References\n",
      "\n",
      "    - Pace, R. Kelley and Ronald Barry, Sparse Spatial Autoregressions,\n",
      "      Statistics and Probability Letters, 33 (1997) 291-297\n",
      "\n",
      "(20640, 8)\n",
      "(20640,)\n"
     ]
    }
   ],
   "source": [
    "from sklearn.datasets import fetch_california_housing\n",
    "\n",
    "housing = fetch_california_housing()\n",
    "print(housing.DESCR)\n",
    "print(housing.data.shape)\n",
    "print(housing.target.shape)"
   ]
  },
  {
   "cell_type": "code",
   "execution_count": 5,
   "metadata": {},
   "outputs": [
    {
     "name": "stdout",
     "output_type": "stream",
     "text": [
      "array([[ 8.32520000e+00,  4.10000000e+01,  6.98412698e+00,\n",
      "         1.02380952e+00,  3.22000000e+02,  2.55555556e+00,\n",
      "         3.78800000e+01, -1.22230000e+02],\n",
      "       [ 8.30140000e+00,  2.10000000e+01,  6.23813708e+00,\n",
      "         9.71880492e-01,  2.40100000e+03,  2.10984183e+00,\n",
      "         3.78600000e+01, -1.22220000e+02],\n",
      "       [ 7.25740000e+00,  5.20000000e+01,  8.28813559e+00,\n",
      "         1.07344633e+00,  4.96000000e+02,  2.80225989e+00,\n",
      "         3.78500000e+01, -1.22240000e+02],\n",
      "       [ 5.64310000e+00,  5.20000000e+01,  5.81735160e+00,\n",
      "         1.07305936e+00,  5.58000000e+02,  2.54794521e+00,\n",
      "         3.78500000e+01, -1.22250000e+02],\n",
      "       [ 3.84620000e+00,  5.20000000e+01,  6.28185328e+00,\n",
      "         1.08108108e+00,  5.65000000e+02,  2.18146718e+00,\n",
      "         3.78500000e+01, -1.22250000e+02]])\n",
      "array([4.526, 3.585, 3.521, 3.413, 3.422])\n"
     ]
    }
   ],
   "source": [
    "import pprint\n",
    "\n",
    "pprint.pprint(housing.data[0:5])\n",
    "pprint.pprint(housing.target[0:5])"
   ]
  },
  {
   "cell_type": "code",
   "execution_count": 6,
   "metadata": {},
   "outputs": [
    {
     "name": "stdout",
     "output_type": "stream",
     "text": [
      "(11610, 8) (11610,)\n",
      "(3870, 8) (3870,)\n",
      "(5160, 8) (5160,)\n"
     ]
    }
   ],
   "source": [
    "from sklearn.model_selection import train_test_split\n",
    "\n",
    "x_train_all, x_test, y_train_all, y_test = train_test_split(\n",
    "    housing.data, housing.target, random_state = 1    #,test_size = 0.25   default, 3:1\n",
    ")\n",
    "\n",
    "x_train, x_valid, y_train, y_valid = train_test_split(\n",
    "    x_train_all, y_train_all, random_state = 2)\n",
    "\n",
    "print(x_train.shape, y_train.shape)\n",
    "print(x_valid.shape, y_valid.shape)\n",
    "print(x_test.shape, y_test.shape)"
   ]
  },
  {
   "cell_type": "code",
   "execution_count": 7,
   "metadata": {},
   "outputs": [],
   "source": [
    "from sklearn.preprocessing import StandardScaler\n",
    "\n",
    "scaler = StandardScaler()\n",
    "x_train_scaled = scaler.fit_transform(x_train)\n",
    "x_valid_scaled = scaler.transform(x_valid)\n",
    "x_test_scaled = scaler.transform(x_test)"
   ]
  },
  {
   "cell_type": "code",
   "execution_count": 10,
   "metadata": {},
   "outputs": [
    {
     "name": "stdout",
     "output_type": "stream",
     "text": [
      "Model: \"sequential_1\"\n",
      "_________________________________________________________________\n",
      "Layer (type)                 Output Shape              Param #   \n",
      "=================================================================\n",
      "dense_3 (Dense)              (None, 30)                270       \n",
      "_________________________________________________________________\n",
      "dense_4 (Dense)              (None, 1)                 31        \n",
      "=================================================================\n",
      "Total params: 301\n",
      "Trainable params: 301\n",
      "Non-trainable params: 0\n",
      "_________________________________________________________________\n"
     ]
    }
   ],
   "source": [
    "model = keras.models.Sequential([\n",
    "    keras.layers.Dense(30, activation='relu',\n",
    "                      input_shape = x_train.shape[1:]),\n",
    "    keras.layers.Dense(1),\n",
    "])\n",
    "\n",
    "model.summary()\n",
    "model.compile(loss='mean_squared_error', optimizer='sgd')\n",
    "callbacks = [keras.callbacks.EarlyStopping(patience=5, min_delta=1e-3)]\n"
   ]
  },
  {
   "cell_type": "code",
   "execution_count": 11,
   "metadata": {
    "scrolled": false
   },
   "outputs": [
    {
     "name": "stdout",
     "output_type": "stream",
     "text": [
      "Train on 11610 samples, validate on 3870 samples\n",
      "Epoch 1/100\n",
      "11610/11610 [==============================] - 2s 207us/sample - loss: 1.8772 - val_loss: 0.8834\n",
      "Epoch 2/100\n",
      "11610/11610 [==============================] - 2s 140us/sample - loss: 0.8123 - val_loss: 0.7207\n",
      "Epoch 3/100\n",
      "11610/11610 [==============================] - 2s 138us/sample - loss: 0.7075 - val_loss: 0.6741\n",
      "Epoch 4/100\n",
      "11610/11610 [==============================] - 2s 138us/sample - loss: 0.6634 - val_loss: 0.6387\n",
      "Epoch 5/100\n",
      "11610/11610 [==============================] - 2s 136us/sample - loss: 0.6301 - val_loss: 0.6106\n",
      "Epoch 6/100\n",
      "11610/11610 [==============================] - 2s 141us/sample - loss: 0.6032 - val_loss: 0.5880\n",
      "Epoch 7/100\n",
      "11610/11610 [==============================] - 2s 137us/sample - loss: 0.5815 - val_loss: 0.5693\n",
      "Epoch 8/100\n",
      "11610/11610 [==============================] - 2s 138us/sample - loss: 0.5636 - val_loss: 0.5537\n",
      "Epoch 9/100\n",
      "11610/11610 [==============================] - 2s 144us/sample - loss: 0.5487 - val_loss: 0.5402\n",
      "Epoch 10/100\n",
      "11610/11610 [==============================] - 2s 139us/sample - loss: 0.5362 - val_loss: 0.5295\n",
      "Epoch 11/100\n",
      "11610/11610 [==============================] - 2s 148us/sample - loss: 0.5254 - val_loss: 0.5200\n",
      "Epoch 12/100\n",
      "11610/11610 [==============================] - 2s 136us/sample - loss: 0.5162 - val_loss: 0.5122\n",
      "Epoch 13/100\n",
      "11610/11610 [==============================] - 2s 136us/sample - loss: 0.5082 - val_loss: 0.5050\n",
      "Epoch 14/100\n",
      "11610/11610 [==============================] - 2s 138us/sample - loss: 0.5014 - val_loss: 0.4984\n",
      "Epoch 15/100\n",
      "11610/11610 [==============================] - 2s 137us/sample - loss: 0.4955 - val_loss: 0.4928\n",
      "Epoch 16/100\n",
      "11610/11610 [==============================] - 2s 135us/sample - loss: 0.4908 - val_loss: 0.4884\n",
      "Epoch 17/100\n",
      "11610/11610 [==============================] - 2s 136us/sample - loss: 0.4859 - val_loss: 0.4842\n",
      "Epoch 18/100\n",
      "11610/11610 [==============================] - 2s 144us/sample - loss: 0.4821 - val_loss: 0.4799\n",
      "Epoch 19/100\n",
      "11610/11610 [==============================] - 2s 143us/sample - loss: 0.4781 - val_loss: 0.4763\n",
      "Epoch 20/100\n",
      "11610/11610 [==============================] - 2s 143us/sample - loss: 0.4749 - val_loss: 0.4730\n",
      "Epoch 21/100\n",
      "11610/11610 [==============================] - 2s 149us/sample - loss: 0.4715 - val_loss: 0.4706\n",
      "Epoch 22/100\n",
      "11610/11610 [==============================] - 2s 139us/sample - loss: 0.4687 - val_loss: 0.4671\n",
      "Epoch 23/100\n",
      "11610/11610 [==============================] - 2s 143us/sample - loss: 0.4666 - val_loss: 0.4648\n",
      "Epoch 24/100\n",
      "11610/11610 [==============================] - 2s 135us/sample - loss: 0.4639 - val_loss: 0.4626\n",
      "Epoch 25/100\n",
      "11610/11610 [==============================] - 2s 140us/sample - loss: 0.4618 - val_loss: 0.4602\n",
      "Epoch 26/100\n",
      "11610/11610 [==============================] - 2s 148us/sample - loss: 0.4596 - val_loss: 0.4583\n",
      "Epoch 27/100\n",
      "11610/11610 [==============================] - 2s 143us/sample - loss: 0.4580 - val_loss: 0.4567\n",
      "Epoch 28/100\n",
      "11610/11610 [==============================] - 2s 142us/sample - loss: 0.4562 - val_loss: 0.4546\n",
      "Epoch 29/100\n",
      "11610/11610 [==============================] - 2s 142us/sample - loss: 0.4541 - val_loss: 0.4535\n",
      "Epoch 30/100\n",
      "11610/11610 [==============================] - 2s 144us/sample - loss: 0.4526 - val_loss: 0.4523\n",
      "Epoch 31/100\n",
      "11610/11610 [==============================] - 2s 143us/sample - loss: 0.4512 - val_loss: 0.4507\n",
      "Epoch 32/100\n",
      "11610/11610 [==============================] - 2s 137us/sample - loss: 0.4498 - val_loss: 0.4486\n",
      "Epoch 33/100\n",
      "11610/11610 [==============================] - 2s 141us/sample - loss: 0.4483 - val_loss: 0.4471\n",
      "Epoch 34/100\n",
      "11610/11610 [==============================] - 2s 135us/sample - loss: 0.4470 - val_loss: 0.4462\n",
      "Epoch 35/100\n",
      "11610/11610 [==============================] - 2s 136us/sample - loss: 0.4456 - val_loss: 0.4451\n",
      "Epoch 36/100\n",
      "11610/11610 [==============================] - 2s 143us/sample - loss: 0.4445 - val_loss: 0.4435\n",
      "Epoch 37/100\n",
      "11610/11610 [==============================] - 2s 138us/sample - loss: 0.4432 - val_loss: 0.4426\n",
      "Epoch 38/100\n",
      "11610/11610 [==============================] - 2s 136us/sample - loss: 0.4422 - val_loss: 0.4413\n",
      "Epoch 39/100\n",
      "11610/11610 [==============================] - 2s 141us/sample - loss: 0.4410 - val_loss: 0.4404\n",
      "Epoch 40/100\n",
      "11610/11610 [==============================] - 2s 154us/sample - loss: 0.4399 - val_loss: 0.4395\n",
      "Epoch 41/100\n",
      "11610/11610 [==============================] - 2s 139us/sample - loss: 0.4389 - val_loss: 0.4387\n",
      "Epoch 42/100\n",
      "11610/11610 [==============================] - 2s 138us/sample - loss: 0.4381 - val_loss: 0.4372\n",
      "Epoch 43/100\n",
      "11610/11610 [==============================] - 2s 141us/sample - loss: 0.4368 - val_loss: 0.4366\n",
      "Epoch 44/100\n",
      "11610/11610 [==============================] - 2s 146us/sample - loss: 0.4359 - val_loss: 0.4356\n",
      "Epoch 45/100\n",
      "11610/11610 [==============================] - 2s 145us/sample - loss: 0.4349 - val_loss: 0.4347\n",
      "Epoch 46/100\n",
      "11610/11610 [==============================] - 2s 137us/sample - loss: 0.4337 - val_loss: 0.4335\n",
      "Epoch 47/100\n",
      "11610/11610 [==============================] - 2s 137us/sample - loss: 0.4331 - val_loss: 0.4328\n",
      "Epoch 48/100\n",
      "11610/11610 [==============================] - 2s 139us/sample - loss: 0.4322 - val_loss: 0.4320\n",
      "Epoch 49/100\n",
      "11610/11610 [==============================] - 2s 140us/sample - loss: 0.4313 - val_loss: 0.4311\n",
      "Epoch 50/100\n",
      "11610/11610 [==============================] - 2s 146us/sample - loss: 0.4304 - val_loss: 0.4305\n",
      "Epoch 51/100\n",
      "11610/11610 [==============================] - 2s 137us/sample - loss: 0.4295 - val_loss: 0.4294\n",
      "Epoch 52/100\n",
      "11610/11610 [==============================] - 2s 136us/sample - loss: 0.4287 - val_loss: 0.4288\n",
      "Epoch 53/100\n",
      "11610/11610 [==============================] - 2s 139us/sample - loss: 0.4280 - val_loss: 0.4282\n",
      "Epoch 54/100\n",
      "11610/11610 [==============================] - 2s 143us/sample - loss: 0.4268 - val_loss: 0.4277\n",
      "Epoch 55/100\n",
      "11610/11610 [==============================] - 2s 137us/sample - loss: 0.4262 - val_loss: 0.4268\n",
      "Epoch 56/100\n",
      "11610/11610 [==============================] - 2s 139us/sample - loss: 0.4256 - val_loss: 0.4259\n",
      "Epoch 57/100\n",
      "11610/11610 [==============================] - 2s 140us/sample - loss: 0.4249 - val_loss: 0.4255\n",
      "Epoch 58/100\n",
      "11610/11610 [==============================] - 2s 136us/sample - loss: 0.4241 - val_loss: 0.4247\n",
      "Epoch 59/100\n",
      "11610/11610 [==============================] - 2s 139us/sample - loss: 0.4232 - val_loss: 0.4244\n",
      "Epoch 60/100\n",
      "11610/11610 [==============================] - 2s 148us/sample - loss: 0.4227 - val_loss: 0.4233\n",
      "Epoch 61/100\n",
      "11610/11610 [==============================] - 2s 137us/sample - loss: 0.4219 - val_loss: 0.4231\n",
      "Epoch 62/100\n",
      "11610/11610 [==============================] - 2s 138us/sample - loss: 0.4212 - val_loss: 0.4222\n",
      "Epoch 63/100\n",
      "11610/11610 [==============================] - 2s 138us/sample - loss: 0.4205 - val_loss: 0.4216\n",
      "Epoch 64/100\n",
      "11610/11610 [==============================] - 2s 136us/sample - loss: 0.4199 - val_loss: 0.4206\n",
      "Epoch 65/100\n",
      "11610/11610 [==============================] - 2s 137us/sample - loss: 0.4192 - val_loss: 0.4202\n",
      "Epoch 66/100\n",
      "11610/11610 [==============================] - 2s 137us/sample - loss: 0.4187 - val_loss: 0.4196\n",
      "Epoch 67/100\n",
      "11610/11610 [==============================] - 2s 139us/sample - loss: 0.4178 - val_loss: 0.4194\n",
      "Epoch 68/100\n",
      "11610/11610 [==============================] - 2s 137us/sample - loss: 0.4174 - val_loss: 0.4186\n",
      "Epoch 69/100\n",
      "11610/11610 [==============================] - 2s 142us/sample - loss: 0.4168 - val_loss: 0.4178\n",
      "Epoch 70/100\n",
      "11610/11610 [==============================] - 2s 156us/sample - loss: 0.4161 - val_loss: 0.4176\n",
      "Epoch 71/100\n",
      "11610/11610 [==============================] - 2s 137us/sample - loss: 0.4156 - val_loss: 0.4171\n",
      "Epoch 72/100\n",
      "11610/11610 [==============================] - 2s 144us/sample - loss: 0.4149 - val_loss: 0.4160\n",
      "Epoch 73/100\n",
      "11610/11610 [==============================] - 2s 137us/sample - loss: 0.4143 - val_loss: 0.4157\n",
      "Epoch 74/100\n",
      "11610/11610 [==============================] - 2s 137us/sample - loss: 0.4136 - val_loss: 0.4158\n",
      "Epoch 75/100\n"
     ]
    },
    {
     "name": "stdout",
     "output_type": "stream",
     "text": [
      "11610/11610 [==============================] - 2s 135us/sample - loss: 0.4134 - val_loss: 0.4149\n",
      "Epoch 76/100\n",
      "11610/11610 [==============================] - 2s 130us/sample - loss: 0.4126 - val_loss: 0.4143\n",
      "Epoch 77/100\n",
      "11610/11610 [==============================] - 2s 130us/sample - loss: 0.4121 - val_loss: 0.4132\n",
      "Epoch 78/100\n",
      "11610/11610 [==============================] - 1s 129us/sample - loss: 0.4113 - val_loss: 0.4133\n",
      "Epoch 79/100\n",
      "11610/11610 [==============================] - 1s 128us/sample - loss: 0.4112 - val_loss: 0.4126\n",
      "Epoch 80/100\n",
      "11610/11610 [==============================] - 2s 141us/sample - loss: 0.4105 - val_loss: 0.4120\n",
      "Epoch 81/100\n",
      "11610/11610 [==============================] - 2s 130us/sample - loss: 0.4101 - val_loss: 0.4117\n",
      "Epoch 82/100\n",
      "11610/11610 [==============================] - 1s 129us/sample - loss: 0.4094 - val_loss: 0.4111\n",
      "Epoch 83/100\n",
      "11610/11610 [==============================] - 1s 128us/sample - loss: 0.4089 - val_loss: 0.4107\n",
      "Epoch 84/100\n",
      "11610/11610 [==============================] - 1s 128us/sample - loss: 0.4083 - val_loss: 0.4103\n",
      "Epoch 85/100\n",
      "11610/11610 [==============================] - 1s 129us/sample - loss: 0.4081 - val_loss: 0.4098\n",
      "Epoch 86/100\n",
      "11610/11610 [==============================] - 1s 129us/sample - loss: 0.4073 - val_loss: 0.4091\n",
      "Epoch 87/100\n",
      "11610/11610 [==============================] - 1s 129us/sample - loss: 0.4071 - val_loss: 0.4091\n",
      "Epoch 88/100\n",
      "11610/11610 [==============================] - 1s 128us/sample - loss: 0.4063 - val_loss: 0.4083\n",
      "Epoch 89/100\n",
      "11610/11610 [==============================] - 2s 137us/sample - loss: 0.4061 - val_loss: 0.4077\n",
      "Epoch 90/100\n",
      "11610/11610 [==============================] - 2s 138us/sample - loss: 0.4056 - val_loss: 0.4073\n",
      "Epoch 91/100\n",
      "11610/11610 [==============================] - 2s 135us/sample - loss: 0.4049 - val_loss: 0.4068\n",
      "Epoch 92/100\n",
      "11610/11610 [==============================] - 1s 128us/sample - loss: 0.4045 - val_loss: 0.4070\n",
      "Epoch 93/100\n",
      "11610/11610 [==============================] - 1s 129us/sample - loss: 0.4040 - val_loss: 0.4065\n",
      "Epoch 94/100\n",
      "11610/11610 [==============================] - 1s 128us/sample - loss: 0.4034 - val_loss: 0.4058\n",
      "Epoch 95/100\n",
      "11610/11610 [==============================] - 2s 134us/sample - loss: 0.4031 - val_loss: 0.4050\n",
      "Epoch 96/100\n",
      "11610/11610 [==============================] - 2s 130us/sample - loss: 0.4024 - val_loss: 0.4050\n",
      "Epoch 97/100\n",
      "11610/11610 [==============================] - 2s 132us/sample - loss: 0.4020 - val_loss: 0.4048\n",
      "Epoch 98/100\n",
      "11610/11610 [==============================] - 1s 129us/sample - loss: 0.4013 - val_loss: 0.4036\n",
      "Epoch 99/100\n",
      "11610/11610 [==============================] - 2s 130us/sample - loss: 0.4011 - val_loss: 0.4033\n",
      "Epoch 100/100\n",
      "11610/11610 [==============================] - 1s 129us/sample - loss: 0.4006 - val_loss: 0.4030\n"
     ]
    }
   ],
   "source": [
    "history = model.fit(x_train_scaled, y_train,\n",
    "                   validation_data = (x_valid_scaled, y_valid),\n",
    "                   epochs = 100,\n",
    "                   callbacks = callbacks)"
   ]
  },
  {
   "cell_type": "code",
   "execution_count": 12,
   "metadata": {},
   "outputs": [
    {
     "data": {
      "image/png": "[encoded data removed]",
      "text/plain": [
       "<Figure size 576x360 with 1 Axes>"
      ]
     },
     "metadata": {
      "needs_background": "light"
     },
     "output_type": "display_data"
    }
   ],
   "source": [
    "def plot_learnig_curves(history):\n",
    "    pd.DataFrame(history.history).plot(figsize=(8,5))\n",
    "    plt.grid(True)\n",
    "    plt.gca().set_ylim(0,1)\n",
    "    plt.show()\n",
    "plot_learnig_curves(history)"
   ]
  },
  {
   "cell_type": "code",
   "execution_count": 13,
   "metadata": {},
   "outputs": [
    {
     "name": "stdout",
     "output_type": "stream",
     "text": [
      "5160/5160 [==============================] - 0s 78us/sample - loss: 0.4291\n"
     ]
    },
    {
     "data": {
      "text/plain": [
       "0.4291273984798165"
      ]
     },
     "execution_count": 13,
     "metadata": {},
     "output_type": "execute_result"
    }
   ],
   "source": [
    "model.evaluate(x_test_scaled, y_test)"
   ]
  },
  {
   "cell_type": "code",
   "execution_count": null,
   "metadata": {},
   "outputs": [],
   "source": []
  }
 ],
 "metadata": {
  "kernelspec": {
   "display_name": "Python 3",
   "language": "python",
   "name": "python3"
  },
  "language_info": {
   "codemirror_mode": {
    "name": "ipython",
    "version": 3
   },
   "file_extension": ".py",
   "mimetype": "text/x-python",
   "name": "python",
   "nbconvert_exporter": "python",
   "pygments_lexer": "ipython3",
   "version": "3.6.8"
  }
 },
 "nbformat": 4,
 "nbformat_minor": 2
}
