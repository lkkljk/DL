{
 "cells": [
  {
   "cell_type": "code",
   "execution_count": 1,
   "metadata": {},
   "outputs": [
    {
     "name": "stdout",
     "output_type": "stream",
     "text": [
      "sys.version_info(major=3, minor=6, micro=8, releaselevel='final', serial=0)\n",
      "matplotlib 3.1.0\n",
      "numpy 1.16.4\n",
      "pandas 0.24.2\n",
      "sklearn 0.21.2\n",
      "tensorflow 2.0.0-alpha0\n",
      "tensorflow.python.keras.api._v2.keras 2.2.4-tf\n"
     ]
    }
   ],
   "source": [
    "import matplotlib as mpl\n",
    "import matplotlib.pyplot as plt\n",
    "%matplotlib inline\n",
    "import numpy as np\n",
    "import sklearn\n",
    "import pandas as pd\n",
    "import os\n",
    "import sys\n",
    "import time\n",
    "import tensorflow as tf\n",
    "from tensorflow import keras\n",
    "\n",
    "print(sys.version_info)\n",
    "for module in mpl,np,pd,sklearn,tf,keras:\n",
    "    print(module.__name__, module.__version__)"
   ]
  },
  {
   "cell_type": "code",
   "execution_count": 2,
   "metadata": {},
   "outputs": [],
   "source": [
    "if 'session' in locals() and session is not None:\n",
    "    print('Close interactive session')\n",
    "    session.close()  "
   ]
  },
  {
   "cell_type": "code",
   "execution_count": 2,
   "metadata": {},
   "outputs": [
    {
     "name": "stdout",
     "output_type": "stream",
     "text": [
      "(5000, 28, 28) (5000,)\n",
      "(55000, 28, 28) (55000,)\n",
      "(10000, 28, 28) (10000,)\n"
     ]
    }
   ],
   "source": [
    "fashion_mnist = keras.datasets.fashion_mnist\n",
    "(x_train_all,y_train_all),(x_test, y_test) = fashion_mnist.load_data()\n",
    "x_valid, x_train = x_train_all[:5000], x_train_all[5000:] #前五千张做验证集，后五万五千张做训练集\n",
    "y_valid, y_train = y_train_all[:5000], y_train_all[5000:]\n",
    "\n",
    "print(x_valid.shape, y_valid.shape)\n",
    "print(x_train.shape, y_train.shape)\n",
    "print(x_test.shape, y_test.shape)"
   ]
  },
  {
   "cell_type": "code",
   "execution_count": 4,
   "metadata": {},
   "outputs": [
    {
     "name": "stdout",
     "output_type": "stream",
     "text": [
      "(55000, 28, 28)\n",
      "[[  0   0   0   0   0   0   0   0   0   0   0   0   0   0   0   0   0   0\n",
      "    0   1   0   0   0   0   0   0   0   0]\n",
      " [  0   0   0   0   0   0   0   0   0   0   0  44 127 182 185 161 120  55\n",
      "    0   0   0   0   0   0   0   0   0   0]\n",
      " [  0   0   0   0   0   0   0   0   0  42 198 251 255 251 249 247 255 252\n",
      "  214 100   0   0   0   0   0   0   0   0]\n",
      " [  0   0   0   0   0   0   2   0   0 233 252 237 239 234 237 235 237 237\n",
      "  254 227   0   0   0   0   1   0   0   0]\n",
      " [  0   0   0   0   0   2   0   0  16 210 225 215 175 217 216 193 196 226\n",
      "  221 209  50   0   0   2   0   0   0   0]\n",
      " [  0   0   0   0   2   0   0 199 229 232 230 245 204 219 253 245 207 194\n",
      "  223 231 236 235   0   0   3   0   0   0]\n",
      " [  0   0   0   0   1   0 137 235 204 209 201 209 234 190 234 218 215 238\n",
      "  239 204 189 224 154   0   0   0   0   0]\n",
      " [  0   0   0   0   0   0 194 201 200 209 202 193 205 194 183 218 231 197\n",
      "  172 181 193 205 199   0   0   0   0   0]\n",
      " [  0   0   0   0   0   3 212 203 188 189 196 198 198 201 196 217 179 167\n",
      "  183 217 197 202 219  30   0   0   0   0]\n",
      " [  0   0   0   0   0  34 225 200 194 190 188 192 196 192 170 202 190 201\n",
      "  195 200 201 209 227  50   0   0   0   0]\n",
      " [  0   0   0   0   0  68 225 210 211 198 192 196 204 196 181 212 197 195\n",
      "  192 206 220 210 229  93   0   0   0   0]\n",
      " [  0   0   0   0   0 111 223 227 253 209 196 204 211 206 183 216 206 210\n",
      "  203 215 244 224 227 150   0   0   0   0]\n",
      " [  0   0   0   0   0 139 225 224 255 202 206 212 209 211 190 213 202 207\n",
      "  206 222 255 230 220 190   0   0   0   0]\n",
      " [  0   0   0   0   0 180 226 224 255 199 204 207 214 214 190 216 206 203\n",
      "  205 219 243 224 214 234   0   0   0   0]\n",
      " [  0   0   0   0   0 225 223 228 254 209 206 208 213 210 191 215 207 204\n",
      "  208 211 249 226 214 255  38   0   0   0]\n",
      " [  0   0   0   0   0 250 232 240 239 211 203 209 205 211 197 215 208 208\n",
      "  214 213 239 231 219 255  81   0   0   0]\n",
      " [  0   0   0   0   0 248 236 247 240 203 200 208 206 214 193 213 212 208\n",
      "  212 211 243 242 225 254  66   0   0   0]\n",
      " [  0   0   0   0   0 247 230 252 226 199 211 202 211 213 182 213 212 206\n",
      "  202 219 207 247 222 237 104   0   0   0]\n",
      " [  0   0   0   0  10 244 219 250 205 199 209 202 209 211 189 214 206 210\n",
      "  200 212 154 240 208 219 140   0   0   0]\n",
      " [  0   0   0   0  21 255 222 238 184 210 192 206 209 210 189 213 211 209\n",
      "  192 228 155 226 238 241 166   0   0   0]\n",
      " [  0   0   0   0  37 245 226 241 150 197 189 204 209 210 183 213 213 201\n",
      "  184 215 146 216 236 225 154   0   0   0]\n",
      " [  0   0   0   0  58 239 227 255 158 193 195 204 209 213 180 207 217 199\n",
      "  194 211 158 219 236 216 151   0   0   0]\n",
      " [  0   0   0   0  68 233 226 243 139 200 193 205 210 208 180 205 212 203\n",
      "  196 216 157 179 255 216 155   0   0   0]\n",
      " [  0   0   0   0  81 225 224 211 138 219 185 201 213 207 197 226 212 200\n",
      "  190 215 183  90 255 211 147   0   0   0]\n",
      " [  0   0   0   0  91 210 230 158 114 205 187 208 209 206 193 210 211 204\n",
      "  195 204 181  23 255 213 158   0   0   0]\n",
      " [  0   0   0   0  87 205 232 109 164 255 214 224 222 210 197 214 225 222\n",
      "  211 220 217   0 234 216 169   0   0   0]\n",
      " [  0   0   0   0  92 213 232 146   5 134 151 162 170 183 182 164 166 178\n",
      "  162 156  98   0 240 225 210   0   0   0]\n",
      " [  0   0   0   0  43 164 206 141   0   0   0   0   0   0   0   0   0   0\n",
      "    0   0   0   0 127 125  76   0   0   0]]\n"
     ]
    }
   ],
   "source": [
    "print(x_train.shape)\n",
    "print(x_train[0])"
   ]
  },
  {
   "cell_type": "code",
   "execution_count": 13,
   "metadata": {},
   "outputs": [],
   "source": [
    "from sklearn.preprocessing import StandardScaler\n",
    "\n",
    "scaler = StandardScaler()\n",
    "\n",
    "x_train_scaled = scaler.fit_transform(\n",
    "    x_train.astype(np.float32).reshape(-1,1)).reshape(-1,28,28) #先变一列，再变55000列个28*28矩阵\n",
    "\n",
    "x_valid_scaled = scaler.transform(\n",
    "    x_valid.astype(np.float32).reshape(-1,1)).reshape(-1,28,28)\n",
    "x_test_scaled = scaler.transform(\n",
    "    x_test.astype(np.float32).reshape(-1,1)).reshape(-1,28,28)"
   ]
  },
  {
   "cell_type": "code",
   "execution_count": 12,
   "metadata": {},
   "outputs": [
    {
     "name": "stdout",
     "output_type": "stream",
     "text": [
      "(55000, 28, 28)\n",
      "[[-0.8105136  -0.8105136  -0.8105136  -0.8105136  -0.8105136  -0.8105136\n",
      "  -0.8105136  -0.8105136  -0.8105136  -0.8105136  -0.8105136  -0.8105136\n",
      "  -0.8105136  -0.8105136  -0.8105136  -0.8105136  -0.8105136  -0.8105136\n",
      "  -0.8105136  -0.7994012  -0.8105136  -0.8105136  -0.8105136  -0.8105136\n",
      "  -0.8105136  -0.8105136  -0.8105136  -0.8105136 ]\n",
      " [-0.8105136  -0.8105136  -0.8105136  -0.8105136  -0.8105136  -0.8105136\n",
      "  -0.8105136  -0.8105136  -0.8105136  -0.8105136  -0.8105136  -0.32156894\n",
      "   0.6007586   1.2119396   1.2452767   0.9785796   0.522972   -0.19933274\n",
      "  -0.8105136  -0.8105136  -0.8105136  -0.8105136  -0.8105136  -0.8105136\n",
      "  -0.8105136  -0.8105136  -0.8105136  -0.8105136 ]\n",
      " [-0.8105136  -0.8105136  -0.8105136  -0.8105136  -0.8105136  -0.8105136\n",
      "  -0.8105136  -0.8105136  -0.8105136  -0.3437937   1.3897376   1.9786937\n",
      "   2.0231433   1.9786937   1.956469    1.9342443   2.0231433   1.9898062\n",
      "   1.5675358   0.30072436 -0.8105136  -0.8105136  -0.8105136  -0.8105136\n",
      "  -0.8105136  -0.8105136  -0.8105136  -0.8105136 ]\n",
      " [-0.8105136  -0.8105136  -0.8105136  -0.8105136  -0.8105136  -0.8105136\n",
      "  -0.7882889  -0.8105136  -0.8105136   1.7786709   1.9898062   1.8231205\n",
      "   1.8453453   1.7897834   1.8231205   1.8008957   1.8231205   1.8231205\n",
      "   2.0120308   1.7119967  -0.8105136  -0.8105136  -0.8105136  -0.8105136\n",
      "  -0.7994012  -0.8105136  -0.8105136  -0.8105136 ]\n",
      " [-0.8105136  -0.8105136  -0.8105136  -0.8105136  -0.8105136  -0.7882889\n",
      "  -0.8105136  -0.8105136  -0.6327155   1.5230862   1.6897719   1.5786481\n",
      "   1.1341529   1.6008729   1.5897604   1.3341757   1.3675128   1.7008842\n",
      "   1.6453223   1.5119739  -0.25489464 -0.8105136  -0.8105136  -0.7882889\n",
      "  -0.8105136  -0.8105136  -0.8105136  -0.8105136 ]\n",
      " [-0.8105136  -0.8105136  -0.8105136  -0.8105136  -0.7882889  -0.8105136\n",
      "  -0.8105136   1.40085     1.7342215   1.7675586   1.7453338   1.9120195\n",
      "   1.456412    1.6230977   2.0009186   1.9120195   1.4897491   1.3452882\n",
      "   1.6675471   1.7564461   1.812008    1.8008957  -0.8105136  -0.8105136\n",
      "  -0.7771765  -0.8105136  -0.8105136  -0.8105136 ]\n",
      " [-0.8105136  -0.8105136  -0.8105136  -0.8105136  -0.7994012  -0.8105136\n",
      "   0.7118824   1.8008957   1.456412    1.5119739   1.4230747   1.5119739\n",
      "   1.7897834   1.3008386   1.7897834   1.6119852   1.5786481   1.8342328\n",
      "   1.8453453   1.456412    1.2897263   1.6786596   0.9007929  -0.8105136\n",
      "  -0.8105136  -0.8105136  -0.8105136  -0.8105136 ]\n",
      " [-0.8105136  -0.8105136  -0.8105136  -0.8105136  -0.8105136  -0.8105136\n",
      "   1.3452882   1.4230747   1.4119624   1.5119739   1.4341872   1.3341757\n",
      "   1.4675243   1.3452882   1.2230519   1.6119852   1.7564461   1.3786253\n",
      "   1.1008158   1.2008271   1.3341757   1.4675243   1.40085    -0.8105136\n",
      "  -0.8105136  -0.8105136  -0.8105136  -0.8105136 ]\n",
      " [-0.8105136  -0.8105136  -0.8105136  -0.8105136  -0.8105136  -0.7771765\n",
      "   1.545311    1.4452995   1.2786138   1.2897263   1.3675128   1.3897376\n",
      "   1.3897376   1.4230747   1.3675128   1.6008729   1.1786025   1.0452539\n",
      "   1.2230519   1.6008729   1.3786253   1.4341872   1.6230977  -0.4771422\n",
      "  -0.8105136  -0.8105136  -0.8105136  -0.8105136 ]\n",
      " [-0.8105136  -0.8105136  -0.8105136  -0.8105136  -0.8105136  -0.4326927\n",
      "   1.6897719   1.4119624   1.3452882   1.3008386   1.2786138   1.3230634\n",
      "   1.3675128   1.3230634   1.078591    1.4341872   1.3008386   1.4230747\n",
      "   1.3564005   1.4119624   1.4230747   1.5119739   1.7119967  -0.25489464\n",
      "  -0.8105136  -0.8105136  -0.8105136  -0.8105136 ]\n",
      " [-0.8105136  -0.8105136  -0.8105136  -0.8105136  -0.8105136  -0.05487181\n",
      "   1.6897719   1.5230862   1.5341985   1.3897376   1.3230634   1.3675128\n",
      "   1.456412    1.3675128   1.2008271   1.545311    1.3786253   1.3564005\n",
      "   1.3230634   1.4786366   1.63421     1.5230862   1.7342215   0.22293769\n",
      "  -0.8105136  -0.8105136  -0.8105136  -0.8105136 ]\n",
      " [-0.8105136  -0.8105136  -0.8105136  -0.8105136  -0.8105136   0.42296055\n",
      "   1.6675471   1.7119967   2.0009186   1.5119739   1.3675128   1.456412\n",
      "   1.5341985   1.4786366   1.2230519   1.5897604   1.4786366   1.5230862\n",
      "   1.4452995   1.5786481   1.9009072   1.6786596   1.7119967   0.8563434\n",
      "  -0.8105136  -0.8105136  -0.8105136  -0.8105136 ]\n",
      " [-0.8105136  -0.8105136  -0.8105136  -0.8105136  -0.8105136   0.7341072\n",
      "   1.6897719   1.6786596   2.0231433   1.4341872   1.4786366   1.545311\n",
      "   1.5119739   1.5341985   1.3008386   1.5564233   1.4341872   1.4897491\n",
      "   1.4786366   1.6564348   2.0231433   1.7453338   1.63421     1.3008386\n",
      "  -0.8105136  -0.8105136  -0.8105136  -0.8105136 ]\n",
      " [-0.8105136  -0.8105136  -0.8105136  -0.8105136  -0.8105136   1.1897148\n",
      "   1.7008842   1.6786596   2.0231433   1.40085     1.456412    1.4897491\n",
      "   1.5675358   1.5675358   1.3008386   1.5897604   1.4786366   1.4452995\n",
      "   1.4675243   1.6230977   1.8897947   1.6786596   1.5675358   1.7897834\n",
      "  -0.8105136  -0.8105136  -0.8105136  -0.8105136 ]\n",
      " [-0.8105136  -0.8105136  -0.8105136  -0.8105136  -0.8105136   1.6897719\n",
      "   1.6675471   1.723109    2.0120308   1.5119739   1.4786366   1.5008614\n",
      "   1.5564233   1.5230862   1.3119509   1.5786481   1.4897491   1.456412\n",
      "   1.5008614   1.5341985   1.956469    1.7008842   1.5675358   2.0231433\n",
      "  -0.3882432  -0.8105136  -0.8105136  -0.8105136 ]\n",
      " [-0.8105136  -0.8105136  -0.8105136  -0.8105136  -0.8105136   1.9675814\n",
      "   1.7675586   1.8564576   1.8453453   1.5341985   1.4452995   1.5119739\n",
      "   1.4675243   1.5341985   1.3786253   1.5786481   1.5008614   1.5008614\n",
      "   1.5675358   1.5564233   1.8453453   1.7564461   1.6230977   2.0231433\n",
      "   0.08958913 -0.8105136  -0.8105136  -0.8105136 ]\n",
      " [-0.8105136  -0.8105136  -0.8105136  -0.8105136  -0.8105136   1.9453566\n",
      "   1.812008    1.9342443   1.8564576   1.4452995   1.4119624   1.5008614\n",
      "   1.4786366   1.5675358   1.3341757   1.5564233   1.545311    1.5008614\n",
      "   1.545311    1.5341985   1.8897947   1.8786824   1.6897719   2.0120308\n",
      "  -0.07709657 -0.8105136  -0.8105136  -0.8105136 ]\n",
      " [-0.8105136  -0.8105136  -0.8105136  -0.8105136  -0.8105136   1.9342443\n",
      "   1.7453338   1.9898062   1.7008842   1.40085     1.5341985   1.4341872\n",
      "   1.5341985   1.5564233   1.2119396   1.5564233   1.545311    1.4786366\n",
      "   1.4341872   1.6230977   1.4897491   1.9342443   1.6564348   1.8231205\n",
      "   0.34517387 -0.8105136  -0.8105136  -0.8105136 ]\n",
      " [-0.8105136  -0.8105136  -0.8105136  -0.8105136  -0.6993898   1.9009072\n",
      "   1.6230977   1.9675814   1.4675243   1.40085     1.5119739   1.4341872\n",
      "   1.5119739   1.5341985   1.2897263   1.5675358   1.4786366   1.5230862\n",
      "   1.4119624   1.545311    0.9007929   1.8564576   1.5008614   1.6230977\n",
      "   0.7452196  -0.8105136  -0.8105136  -0.8105136 ]\n",
      " [-0.8105136  -0.8105136  -0.8105136  -0.8105136  -0.5771536   2.0231433\n",
      "   1.6564348   1.8342328   1.2341644   1.5230862   1.3230634   1.4786366\n",
      "   1.5119739   1.5230862   1.2897263   1.5564233   1.5341985   1.5119739\n",
      "   1.3230634   1.723109    0.9119053   1.7008842   1.8342328   1.8675699\n",
      "   1.0341414  -0.8105136  -0.8105136  -0.8105136 ]\n",
      " [-0.8105136  -0.8105136  -0.8105136  -0.8105136  -0.39935556  1.9120195\n",
      "   1.7008842   1.8675699   0.8563434   1.3786253   1.2897263   1.456412\n",
      "   1.5119739   1.5230862   1.2230519   1.5564233   1.5564233   1.4230747\n",
      "   1.2341644   1.5786481   0.8118939   1.5897604   1.812008    1.6897719\n",
      "   0.9007929  -0.8105136  -0.8105136  -0.8105136 ]\n",
      " [-0.8105136  -0.8105136  -0.8105136  -0.8105136  -0.16599561  1.8453453\n",
      "   1.7119967   2.0231433   0.9452424   1.3341757   1.3564005   1.456412\n",
      "   1.5119739   1.5564233   1.1897148   1.4897491   1.6008729   1.40085\n",
      "   1.3452882   1.5341985   0.9452424   1.6230977   1.812008    1.5897604\n",
      "   0.8674558  -0.8105136  -0.8105136  -0.8105136 ]\n",
      " [-0.8105136  -0.8105136  -0.8105136  -0.8105136  -0.05487181  1.7786709\n",
      "   1.7008842   1.8897947   0.7341072   1.4119624   1.3341757   1.4675243\n",
      "   1.5230862   1.5008614   1.1897148   1.4675243   1.545311    1.4452995\n",
      "   1.3675128   1.5897604   0.93413     1.1786025   2.0231433   1.5897604\n",
      "   0.9119053  -0.8105136  -0.8105136  -0.8105136 ]\n",
      " [-0.8105136  -0.8105136  -0.8105136  -0.8105136   0.08958913  1.6897719\n",
      "   1.6786596   1.5341985   0.7229948   1.6230977   1.2452767   1.4230747\n",
      "   1.5564233   1.4897491   1.3786253   1.7008842   1.545311    1.4119624\n",
      "   1.3008386   1.5786481   1.2230519   0.18960056  2.0231433   1.5341985\n",
      "   0.8230062  -0.8105136  -0.8105136  -0.8105136 ]\n",
      " [-0.8105136  -0.8105136  -0.8105136  -0.8105136   0.20071293  1.5230862\n",
      "   1.7453338   0.9452424   0.4562977   1.4675243   1.2675015   1.5008614\n",
      "   1.5119739   1.4786366   1.3341757   1.5230862   1.5341985   1.456412\n",
      "   1.3564005   1.456412    1.2008271  -0.5549289   2.0231433   1.5564233\n",
      "   0.9452424  -0.8105136  -0.8105136  -0.8105136 ]\n",
      " [-0.8105136  -0.8105136  -0.8105136  -0.8105136   0.15626341  1.4675243\n",
      "   1.7675586   0.4007358   1.0119168   2.0231433   1.5675358   1.6786596\n",
      "   1.6564348   1.5230862   1.3786253   1.5675358   1.6897719   1.6564348\n",
      "   1.5341985   1.63421     1.6008729  -0.8105136   1.7897834   1.5897604\n",
      "   1.0674787  -0.8105136  -0.8105136  -0.8105136 ]\n",
      " [-0.8105136  -0.8105136  -0.8105136  -0.8105136   0.21182531  1.5564233\n",
      "   1.7675586   0.8118939  -0.7549517   0.6785453   0.8674558   0.9896919\n",
      "   1.078591    1.2230519   1.2119396   1.0119168   1.0341414   1.16749\n",
      "   0.9896919   0.9230177   0.2784996  -0.8105136   1.8564576   1.6897719\n",
      "   1.5230862  -0.8105136  -0.8105136  -0.8105136 ]\n",
      " [-0.8105136  -0.8105136  -0.8105136  -0.8105136  -0.3326813   1.0119168\n",
      "   1.4786366   0.756332   -0.8105136  -0.8105136  -0.8105136  -0.8105136\n",
      "  -0.8105136  -0.8105136  -0.8105136  -0.8105136  -0.8105136  -0.8105136\n",
      "  -0.8105136  -0.8105136  -0.8105136  -0.8105136   0.6007586   0.5785339\n",
      "   0.03402723 -0.8105136  -0.8105136  -0.8105136 ]]\n"
     ]
    }
   ],
   "source": [
    "print(x_train_scaled.shape)\n",
    "print(x_train_scaled[0])"
   ]
  },
  {
   "cell_type": "code",
   "execution_count": 15,
   "metadata": {},
   "outputs": [
    {
     "name": "stdout",
     "output_type": "stream",
     "text": [
      "2.0231433 -0.8105136\n"
     ]
    }
   ],
   "source": [
    "print(np.max(x_train_scaled),np.min(x_train_scaled))"
   ]
  },
  {
   "cell_type": "code",
   "execution_count": 6,
   "metadata": {},
   "outputs": [],
   "source": [
    "x_train = x_train / 255.0\n",
    "\n",
    "x_test = x_test / 255.0\n",
    "\n",
    "x_valid = x_valid / 255.0"
   ]
  },
  {
   "cell_type": "code",
   "execution_count": 17,
   "metadata": {},
   "outputs": [],
   "source": [
    "# tf.keras.models.Sequential()\n",
    "\n",
    "model = keras.models.Sequential()\n",
    "model.add(keras.layers.Flatten(input_shape=[28,28]))\n",
    "model.add(keras.layers.Dense(300,activation = 'relu'))\n",
    "model.add(keras.layers.Dense(100,activation='relu'))\n",
    "model.add(keras.layers.Dense(10,activation='softmax'))\n",
    "\n",
    "#relu: y = max(0,x)\n",
    "#softmax: 将向量变成概率分布\n",
    "\n",
    "#这里用sparse的原因是y已经one hot过了，是个稀疏矩阵，如果只是一个index的话就不用sparse\n",
    "model.compile(loss='sparse_categorical_crossentropy', \n",
    "              optimizer = 'sgd',\n",
    "              metrics=['accuracy'])\n"
   ]
  },
  {
   "cell_type": "code",
   "execution_count": 24,
   "metadata": {
    "scrolled": false
   },
   "outputs": [
    {
     "name": "stdout",
     "output_type": "stream",
     "text": [
      "Train on 55000 samples, validate on 5000 samples\n",
      "Epoch 1/10\n",
      "55000/55000 [==============================] - 8s 145us/sample - loss: 0.3815 - accuracy: 0.8644 - val_loss: 0.3849 - val_accuracy: 0.8628\n",
      "Epoch 2/10\n",
      "55000/55000 [==============================] - 8s 145us/sample - loss: 0.3748 - accuracy: 0.8664 - val_loss: 0.3785 - val_accuracy: 0.8648\n",
      "Epoch 3/10\n",
      "55000/55000 [==============================] - 8s 140us/sample - loss: 0.3686 - accuracy: 0.8678 - val_loss: 0.3738 - val_accuracy: 0.8652\n",
      "Epoch 4/10\n",
      "55000/55000 [==============================] - 8s 141us/sample - loss: 0.3633 - accuracy: 0.8695 - val_loss: 0.3694 - val_accuracy: 0.8658\n",
      "Epoch 5/10\n",
      "55000/55000 [==============================] - 8s 139us/sample - loss: 0.3579 - accuracy: 0.8719 - val_loss: 0.3645 - val_accuracy: 0.8670\n",
      "Epoch 6/10\n",
      "55000/55000 [==============================] - 8s 143us/sample - loss: 0.3534 - accuracy: 0.8745 - val_loss: 0.3716 - val_accuracy: 0.8680\n",
      "Epoch 7/10\n",
      "55000/55000 [==============================] - 8s 139us/sample - loss: 0.3487 - accuracy: 0.8747 - val_loss: 0.3595 - val_accuracy: 0.8702\n",
      "Epoch 8/10\n",
      "55000/55000 [==============================] - 8s 141us/sample - loss: 0.3446 - accuracy: 0.8771 - val_loss: 0.3559 - val_accuracy: 0.8704\n",
      "Epoch 9/10\n",
      "55000/55000 [==============================] - 8s 139us/sample - loss: 0.3407 - accuracy: 0.8782 - val_loss: 0.3534 - val_accuracy: 0.8722\n",
      "Epoch 10/10\n",
      "55000/55000 [==============================] - 8s 142us/sample - loss: 0.3369 - accuracy: 0.8790 - val_loss: 0.3503 - val_accuracy: 0.8716\n"
     ]
    }
   ],
   "source": [
    "history = model.fit(x_train_scaled, y_train, epochs=10, validation_data=(x_valid_scaled,y_valid))"
   ]
  },
  {
   "cell_type": "code",
   "execution_count": null,
   "metadata": {},
   "outputs": [],
   "source": []
  },
  {
   "cell_type": "code",
   "execution_count": 19,
   "metadata": {},
   "outputs": [
    {
     "data": {
      "image/png": "[encoded data removed]",
      "text/plain": [
       "<Figure size 576x360 with 1 Axes>"
      ]
     },
     "metadata": {
      "needs_background": "light"
     },
     "output_type": "display_data"
    }
   ],
   "source": [
    "def plot_learning_curves(history):\n",
    "    pd.DataFrame(history.history).plot(figsize=(8,5))\n",
    "    plt.grid(True)\n",
    "    plt.gca().set_ylim(0,1)\n",
    "    plt.show()\n",
    "    \n",
    "plot_learning_curves(history)"
   ]
  },
  {
   "cell_type": "code",
   "execution_count": 25,
   "metadata": {},
   "outputs": [
    {
     "name": "stdout",
     "output_type": "stream",
     "text": [
      "10000/10000 [==============================] - 1s 102us/sample - loss: 0.3893 - accuracy: 0.8600\n"
     ]
    },
    {
     "data": {
      "text/plain": [
       "[0.38926970262527466, 0.86]"
      ]
     },
     "execution_count": 25,
     "metadata": {},
     "output_type": "execute_result"
    }
   ],
   "source": [
    "model.evaluate(x_test_scaled, y_test)"
   ]
  },
  {
   "cell_type": "code",
   "execution_count": null,
   "metadata": {},
   "outputs": [],
   "source": []
  }
 ],
 "metadata": {
  "kernelspec": {
   "display_name": "Python 3",
   "language": "python",
   "name": "python3"
  },
  "language_info": {
   "codemirror_mode": {
    "name": "ipython",
    "version": 3
   },
   "file_extension": ".py",
   "mimetype": "text/x-python",
   "name": "python",
   "nbconvert_exporter": "python",
   "pygments_lexer": "ipython3",
   "version": "3.6.8"
  }
 },
 "nbformat": 4,
 "nbformat_minor": 2
}
