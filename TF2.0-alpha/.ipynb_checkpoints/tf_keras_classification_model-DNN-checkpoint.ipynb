{
 "cells": [
  {
   "cell_type": "code",
   "execution_count": 1,
   "metadata": {},
   "outputs": [
    {
     "name": "stdout",
     "output_type": "stream",
     "text": [
      "sys.version_info(major=3, minor=6, micro=8, releaselevel='final', serial=0)\n",
      "matplotlib 3.1.0\n",
      "numpy 1.16.4\n",
      "pandas 0.24.2\n",
      "sklearn 0.21.2\n",
      "tensorflow 2.0.0-alpha0\n",
      "tensorflow.python.keras.api._v2.keras 2.2.4-tf\n"
     ]
    }
   ],
   "source": [
    "import matplotlib as mpl\n",
    "import matplotlib.pyplot as plt\n",
    "%matplotlib inline\n",
    "import numpy as np\n",
    "import sklearn\n",
    "import pandas as pd\n",
    "import os\n",
    "import sys\n",
    "import time\n",
    "import tensorflow as tf\n",
    "from tensorflow import keras\n",
    "\n",
    "print(sys.version_info)\n",
    "for module in mpl,np,pd,sklearn,tf,keras:\n",
    "    print(module.__name__, module.__version__)"
   ]
  },
  {
   "cell_type": "code",
   "execution_count": 2,
   "metadata": {},
   "outputs": [
    {
     "name": "stdout",
     "output_type": "stream",
     "text": [
      "(5000, 28, 28) (5000,)\n",
      "(55000, 28, 28) (55000,)\n",
      "(10000, 28, 28) (10000,)\n"
     ]
    }
   ],
   "source": [
    "fashion_mnist = keras.datasets.fashion_mnist\n",
    "(x_train_all,y_train_all),(x_test, y_test) = fashion_mnist.load_data()\n",
    "x_valid, x_train = x_train_all[:5000], x_train_all[5000:] #前五千张做验证集，后五万五千张做训练集\n",
    "y_valid, y_train = y_train_all[:5000], y_train_all[5000:]\n",
    "\n",
    "print(x_valid.shape, y_valid.shape)\n",
    "print(x_train.shape, y_train.shape)\n",
    "print(x_test.shape, y_test.shape)"
   ]
  },
  {
   "cell_type": "code",
   "execution_count": 3,
   "metadata": {},
   "outputs": [],
   "source": [
    "from sklearn.preprocessing import StandardScaler\n",
    "\n",
    "scaler = StandardScaler()\n",
    "\n",
    "x_train_scaled = scaler.fit_transform(\n",
    "    x_train.astype(np.float32).reshape(-1,1)).reshape(-1,28,28) #先变一列，再变55000列个28*28矩阵\n",
    "\n",
    "x_valid_scaled = scaler.transform(\n",
    "    x_valid.astype(np.float32).reshape(-1,1)).reshape(-1,28,28)\n",
    "x_test_scaled = scaler.transform(\n",
    "    x_test.astype(np.float32).reshape(-1,1)).reshape(-1,28,28)"
   ]
  },
  {
   "cell_type": "code",
   "execution_count": 4,
   "metadata": {},
   "outputs": [],
   "source": [
    "# tf.keras.models.Sequential()\n",
    "\n",
    "model = keras.models.Sequential()\n",
    "model.add(keras.layers.Flatten(input_shape=[28,28]))\n",
    "for _ in range(20):\n",
    "    model.add(keras.layers.Dense(100, activation='relu'))\n",
    "model.add(keras.layers.Dense(10, activation='softmax'))\n",
    "#relu: y = max(0,x)\n",
    "#softmax: 将向量变成概率分布\n",
    "\n",
    "#这里用sparse的原因是y已经one hot过了，是个稀疏矩阵，如果只是一个index的话就不用sparse\n",
    "model.compile(loss='sparse_categorical_crossentropy', \n",
    "              optimizer = 'sgd',\n",
    "              metrics=['accuracy'])\n"
   ]
  },
  {
   "cell_type": "code",
   "execution_count": 5,
   "metadata": {
    "scrolled": false
   },
   "outputs": [
    {
     "name": "stdout",
     "output_type": "stream",
     "text": [
      "Train on 55000 samples, validate on 5000 samples\n",
      "Epoch 1/10\n",
      "55000/55000 [==============================] - 15s 281us/sample - loss: 2.3018 - accuracy: 0.1395 - val_loss: 2.3008 - val_accuracy: 0.2390\n",
      "Epoch 2/10\n",
      "55000/55000 [==============================] - 14s 260us/sample - loss: 2.2994 - accuracy: 0.2283 - val_loss: 2.2974 - val_accuracy: 0.2770\n",
      "Epoch 3/10\n",
      "55000/55000 [==============================] - 14s 255us/sample - loss: 2.2944 - accuracy: 0.2614 - val_loss: 2.2897 - val_accuracy: 0.2280\n",
      "Epoch 4/10\n",
      "55000/55000 [==============================] - 14s 254us/sample - loss: 2.2836 - accuracy: 0.2123 - val_loss: 2.2733 - val_accuracy: 0.2210\n",
      "Epoch 5/10\n",
      "55000/55000 [==============================] - 14s 255us/sample - loss: 2.2571 - accuracy: 0.2108 - val_loss: 2.2275 - val_accuracy: 0.2204\n",
      "Epoch 6/10\n",
      "55000/55000 [==============================] - 14s 246us/sample - loss: 2.1386 - accuracy: 0.2055 - val_loss: 1.9867 - val_accuracy: 0.2412\n",
      "Epoch 7/10\n",
      "55000/55000 [==============================] - 14s 258us/sample - loss: 1.9293 - accuracy: 0.2492 - val_loss: 1.8493 - val_accuracy: 0.3024\n",
      "Epoch 8/10\n",
      "55000/55000 [==============================] - 14s 258us/sample - loss: 1.7670 - accuracy: 0.3173 - val_loss: 1.5873 - val_accuracy: 0.3762\n",
      "Epoch 9/10\n",
      "55000/55000 [==============================] - 14s 264us/sample - loss: 1.3876 - accuracy: 0.4353 - val_loss: 1.2304 - val_accuracy: 0.5080\n",
      "Epoch 10/10\n",
      "55000/55000 [==============================] - 14s 263us/sample - loss: 1.0738 - accuracy: 0.6001 - val_loss: 0.9185 - val_accuracy: 0.6672\n"
     ]
    }
   ],
   "source": [
    "#tensorboard earlystopping, modelcheckpoint\n",
    "\n",
    "logdir = 'dnn-callbacks'\n",
    "if not os.path.exists(logdir):\n",
    "    os.mkdir(logdir)\n",
    "output_model_file = os.path.join(logdir,\n",
    "                                'fashion_mnist_model.h5')\n",
    "\n",
    "callbacks = [\n",
    "    keras.callbacks.TensorBoard(logdir),\n",
    "    keras.callbacks.ModelCheckpoint(output_model_file,\n",
    "                                   save_best_only = True),\n",
    "    keras.callbacks.EarlyStopping(patience = 5, min_delta = 1e-3)\n",
    "]\n",
    "\n",
    "history = model.fit(x_train_scaled, y_train, epochs=10, \n",
    "                    validation_data=(x_valid_scaled,y_valid),\n",
    "                    callbacks = callbacks)"
   ]
  },
  {
   "cell_type": "code",
   "execution_count": null,
   "metadata": {},
   "outputs": [],
   "source": []
  },
  {
   "cell_type": "code",
   "execution_count": 6,
   "metadata": {},
   "outputs": [
    {
     "data": {
      "image/png": "[encoded data removed]",
      "text/plain": [
       "<Figure size 576x360 with 1 Axes>"
      ]
     },
     "metadata": {
      "needs_background": "light"
     },
     "output_type": "display_data"
    }
   ],
   "source": [
    "def plot_learning_curves(history):\n",
    "    pd.DataFrame(history.history).plot(figsize=(8,5))\n",
    "    plt.grid(True)\n",
    "    plt.gca().set_ylim(0,3)\n",
    "    plt.show()\n",
    "    \n",
    "plot_learning_curves(history)"
   ]
  },
  {
   "cell_type": "markdown",
   "metadata": {},
   "source": [
    "1.参数众多，训练不充分\n",
    "2.梯度消失， 一般发生在深度网络 -》链式法则—》复合函数求导"
   ]
  },
  {
   "cell_type": "code",
   "execution_count": 7,
   "metadata": {},
   "outputs": [
    {
     "name": "stdout",
     "output_type": "stream",
     "text": [
      "10000/10000 [==============================] - 1s 131us/sample - loss: 0.9433 - accuracy: 0.6699\n"
     ]
    },
    {
     "data": {
      "text/plain": [
       "[0.943264923286438, 0.6699]"
      ]
     },
     "execution_count": 7,
     "metadata": {},
     "output_type": "execute_result"
    }
   ],
   "source": [
    "model.evaluate(x_test_scaled, y_test)"
   ]
  },
  {
   "cell_type": "code",
   "execution_count": null,
   "metadata": {},
   "outputs": [],
   "source": []
  }
 ],
 "metadata": {
  "kernelspec": {
   "display_name": "Python 3",
   "language": "python",
   "name": "python3"
  },
  "language_info": {
   "codemirror_mode": {
    "name": "ipython",
    "version": 3
   },
   "file_extension": ".py",
   "mimetype": "text/x-python",
   "name": "python",
   "nbconvert_exporter": "python",
   "pygments_lexer": "ipython3",
   "version": "3.6.8"
  }
 },
 "nbformat": 4,
 "nbformat_minor": 2
}
