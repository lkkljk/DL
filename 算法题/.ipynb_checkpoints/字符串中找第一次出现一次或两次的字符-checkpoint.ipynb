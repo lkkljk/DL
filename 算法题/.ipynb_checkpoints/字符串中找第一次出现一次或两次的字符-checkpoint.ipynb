{
 "cells": [
  {
   "cell_type": "code",
   "execution_count": null,
   "metadata": {},
   "outputs": [],
   "source": [
    "\n",
    "#找第一个出现两次的字符\n",
    "def findtwice(arraylist):\n",
    "    if not arraylist:\n",
    "        return None\n",
    "    checklist = []\n",
    "    for i, ch in enumerate(arraylist):\n",
    "        for j in checklist:\n",
    "            if j == ch:\n",
    "                return ch\n",
    "        checklist.append(ch)\n",
    "    return None\n",
    "        \n",
    "#找第一个出现一次的字符        \n",
    "def findfirstone(arraylist):\n",
    "    index = 0\n",
    "    if not arraylist:\n",
    "        return None\n",
    "    else:\n",
    "        for x in arraylist:\n",
    "            if arraylist.count(x) == 1:\n",
    "                return x\n",
    "            index += 1\n",
    "            \n",
    "     "
   ]
  }
 ],
 "metadata": {
  "kernelspec": {
   "display_name": "Python 3",
   "language": "python",
   "name": "python3"
  },
  "language_info": {
   "codemirror_mode": {
    "name": "ipython",
    "version": 3
   },
   "file_extension": ".py",
   "mimetype": "text/x-python",
   "name": "python",
   "nbconvert_exporter": "python",
   "pygments_lexer": "ipython3",
   "version": "3.6.8"
  }
 },
 "nbformat": 4,
 "nbformat_minor": 2
}
