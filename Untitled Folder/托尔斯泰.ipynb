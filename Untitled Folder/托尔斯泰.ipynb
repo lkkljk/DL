{
 "cells": [
  {
   "cell_type": "code",
   "execution_count": 1,
   "metadata": {},
   "outputs": [],
   "source": [
    "import sinaweibopy3\n",
    "import webbrowser\n",
    "import json\n",
    "APP_KEY =' 3448083489'  \n",
    "APP_SECRET=' 8ad0d24a365ab85ecba0a11cbf23c8e9'\n",
    "REDIRECT_URL =' https://api.weibo.com/oauth2/default.html'"
   ]
  },
  {
   "cell_type": "code",
   "execution_count": null,
   "metadata": {},
   "outputs": [],
   "source": [
    "client = sinaweibopy3.APIClient(app_key=APP_KEY, app_secret=APP_SECRET, redirect_uri=REDIRECT_URL)\n",
    "url = client.get_authorize_url()\n",
    "webbrowser.open_new(url)\n",
    "result = client.request_access_token(input(\"please input code : \"))\n",
    "client.set_access_token(result.access_token, result.expires_in)"
   ]
  },
  {
   "cell_type": "code",
   "execution_count": null,
   "metadata": {},
   "outputs": [],
   "source": []
  }
 ],
 "metadata": {
  "kernelspec": {
   "display_name": "Python 3",
   "language": "python",
   "name": "python3"
  },
  "language_info": {
   "codemirror_mode": {
    "name": "ipython",
    "version": 3
   },
   "file_extension": ".py",
   "mimetype": "text/x-python",
   "name": "python",
   "nbconvert_exporter": "python",
   "pygments_lexer": "ipython3",
   "version": "3.6.8"
  }
 },
 "nbformat": 4,
 "nbformat_minor": 2
}
