{
 "cells": [
  {
   "cell_type": "code",
   "execution_count": 1,
   "metadata": {},
   "outputs": [],
   "source": [
    "import werobot"
   ]
  },
  {
   "cell_type": "code",
   "execution_count": 3,
   "metadata": {},
   "outputs": [
    {
     "name": "stderr",
     "output_type": "stream",
     "text": [
      "Bottle v0.12.17 server starting up (using AutoServer())...\n",
      "Listening on http://0.0.0.0:80/\n",
      "Hit Ctrl-C to quit.\n",
      "\n",
      "127.0.0.1 - - [13/Jul/2019 08:18:05] \"GET / HTTP/1.1\" 403 1982\n"
     ]
    }
   ],
   "source": [
    "robot = werobot.WeRoBot(token='bnmbnm')\n",
    "\n",
    "@robot.handler\n",
    "def hello(message):\n",
    "    return 'Hello World!'\n",
    "\n",
    "# 让服务器监听在 0.0.0.0:80\n",
    "robot.config['HOST'] = '0.0.0.0'\n",
    "robot.config['PORT'] = 80\n",
    "robot.run()"
   ]
  },
  {
   "cell_type": "code",
   "execution_count": null,
   "metadata": {},
   "outputs": [],
   "source": []
  },
  {
   "cell_type": "code",
   "execution_count": null,
   "metadata": {},
   "outputs": [],
   "source": []
  },
  {
   "cell_type": "code",
   "execution_count": 9,
   "metadata": {},
   "outputs": [
    {
     "ename": "AttributeError",
     "evalue": "'API' object has no attribute 'run'",
     "output_type": "error",
     "traceback": [
      "\u001b[0;31m---------------------------------------------------------------------------\u001b[0m",
      "\u001b[0;31mAttributeError\u001b[0m                            Traceback (most recent call last)",
      "\u001b[0;32m<ipython-input-9-d24ef2fe1dbc>\u001b[0m in \u001b[0;36m<module>\u001b[0;34m\u001b[0m\n\u001b[1;32m     25\u001b[0m \u001b[0mconnect\u001b[0m \u001b[0;34m=\u001b[0m \u001b[0mConnect\u001b[0m\u001b[0;34m(\u001b[0m\u001b[0;34m)\u001b[0m\u001b[0;34m\u001b[0m\u001b[0;34m\u001b[0m\u001b[0m\n\u001b[1;32m     26\u001b[0m \u001b[0mapp\u001b[0m\u001b[0;34m.\u001b[0m\u001b[0madd_route\u001b[0m\u001b[0;34m(\u001b[0m\u001b[0;34m'/connect'\u001b[0m\u001b[0;34m,\u001b[0m \u001b[0mconnect\u001b[0m\u001b[0;34m)\u001b[0m\u001b[0;34m\u001b[0m\u001b[0;34m\u001b[0m\u001b[0m\n\u001b[0;32m---> 27\u001b[0;31m \u001b[0mapp\u001b[0m\u001b[0;34m.\u001b[0m\u001b[0mrun\u001b[0m\u001b[0;34m(\u001b[0m\u001b[0;34m)\u001b[0m\u001b[0;34m\u001b[0m\u001b[0;34m\u001b[0m\u001b[0m\n\u001b[0m",
      "\u001b[0;31mAttributeError\u001b[0m: 'API' object has no attribute 'run'"
     ]
    }
   ],
   "source": [
    "import falcon\n",
    "from falcon import uri\n",
    "from wechatpy.utils import check_signature\n",
    "from wechatpy.exceptions import InvalidSignatureException\n",
    "\n",
    "\n",
    "class Connect(object):\n",
    "\n",
    "    def on_get(self, req, resp):\n",
    "        query_string = req.query_string\n",
    "        query_list = query_string.split('&')\n",
    "        b = {}\n",
    "        for i in query_list:\n",
    "            b[i.split('=')[0]] = i.split('=')[1]\n",
    "\n",
    "        try:\n",
    "            check_signature(token='bnmbnm', signature=b['signature'], timestamp=b['timestamp'], nonce=b['nonce'])\n",
    "            resp.body = (b['echostr'])\n",
    "        except InvalidSignatureException:\n",
    "            pass\n",
    "        resp.status = falcon.HTTP_200\n",
    "\n",
    "\n",
    "app = falcon.API()\n",
    "connect = Connect()\n",
    "app.add_route('/connect', connect)\n"
   ]
  },
  {
   "cell_type": "code",
   "execution_count": 7,
   "metadata": {},
   "outputs": [
    {
     "name": "stdout",
     "output_type": "stream",
     "text": [
      "Collecting wechatpy\n",
      "\u001b[?25l  Downloading https://files.pythonhosted.org/packages/78/a5/5564bd59f7b242212d09203f3e4216aab869eded83ec2c6fccd9db7b1625/wechatpy-1.8.3-py2.py3-none-any.whl (144kB)\n",
      "\u001b[K    100% |████████████████████████████████| 153kB 3.3MB/s ta 0:00:01\n",
      "\u001b[?25hRequirement already satisfied: python-dateutil>=2.5.2 in /anaconda3/lib/python3.6/site-packages (from wechatpy) (2.8.0)\n",
      "Requirement already satisfied: six>=1.8.0 in /anaconda3/lib/python3.6/site-packages (from wechatpy) (1.12.0)\n",
      "Collecting optionaldict>=0.1.0 (from wechatpy)\n",
      "  Downloading https://files.pythonhosted.org/packages/44/54/0058a74338588c13b5fa90302cf670959d3d898ed755b1c0a70786447d19/optionaldict-0.1.1-py2.py3-none-any.whl\n",
      "Requirement already satisfied: xmltodict>=0.11.0 in /anaconda3/lib/python3.6/site-packages (from wechatpy) (0.12.0)\n",
      "Requirement already satisfied: requests>=2.4.3 in /anaconda3/lib/python3.6/site-packages (from wechatpy) (2.21.0)\n",
      "Requirement already satisfied: chardet<3.1.0,>=3.0.2 in /anaconda3/lib/python3.6/site-packages (from requests>=2.4.3->wechatpy) (3.0.4)\n",
      "Requirement already satisfied: urllib3<1.25,>=1.21.1 in /anaconda3/lib/python3.6/site-packages (from requests>=2.4.3->wechatpy) (1.24.1)\n",
      "Requirement already satisfied: certifi>=2017.4.17 in /anaconda3/lib/python3.6/site-packages (from requests>=2.4.3->wechatpy) (2019.3.9)\n",
      "Requirement already satisfied: idna<2.9,>=2.5 in /anaconda3/lib/python3.6/site-packages (from requests>=2.4.3->wechatpy) (2.8)\n",
      "Installing collected packages: optionaldict, wechatpy\n",
      "Successfully installed optionaldict-0.1.1 wechatpy-1.8.3\n",
      "Note: you may need to restart the kernel to use updated packages.\n"
     ]
    }
   ],
   "source": []
  },
  {
   "cell_type": "code",
   "execution_count": null,
   "metadata": {},
   "outputs": [],
   "source": []
  }
 ],
 "metadata": {
  "kernelspec": {
   "display_name": "Python 3",
   "language": "python",
   "name": "python3"
  },
  "language_info": {
   "codemirror_mode": {
    "name": "ipython",
    "version": 3
   },
   "file_extension": ".py",
   "mimetype": "text/x-python",
   "name": "python",
   "nbconvert_exporter": "python",
   "pygments_lexer": "ipython3",
   "version": "3.6.8"
  },
  "toc": {
   "base_numbering": 1,
   "nav_menu": {},
   "number_sections": true,
   "sideBar": true,
   "skip_h1_title": false,
   "title_cell": "Table of Contents",
   "title_sidebar": "Contents",
   "toc_cell": false,
   "toc_position": {},
   "toc_section_display": true,
   "toc_window_display": false
  }
 },
 "nbformat": 4,
 "nbformat_minor": 2
}
