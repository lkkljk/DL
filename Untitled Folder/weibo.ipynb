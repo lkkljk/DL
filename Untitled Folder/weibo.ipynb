{
 "cells": [
  {
   "cell_type": "code",
   "execution_count": 7,
   "metadata": {},
   "outputs": [
    {
     "name": "stdout",
     "output_type": "stream",
     "text": [
      "please input code : ebd4eea5126ddaa97900dd9165984216\n",
      "{'access_token': '2.00hiX9HHpBo2lD61beaefdcf_H9w6B', 'remind_in': '157679999', 'expires_in': 1720693552, 'uid': '6523166983', 'isRealName': 'true'}\n",
      "{'statuses': [], 'hasvisible': False, 'previous_cursor': 0, 'next_cursor': 0, 'previous_cursor_str': '0', 'next_cursor_str': '0', 'total_number': 0, 'interval': 0}\n",
      "{'statuses': [], 'hasvisible': False, 'previous_cursor': 0, 'next_cursor': 0, 'previous_cursor_str': '0', 'next_cursor_str': '0', 'total_number': 0, 'interval': 0}\n",
      "{'uid': 6523166983}\n"
     ]
    }
   ],
   "source": [
    "import webbrowser\n",
    "import sinaweibopy3\n",
    "def main():\n",
    "    '''\n",
    "    if you want to use this api,you should follow steps follows to operate.\n",
    "    '''\n",
    "    try:\n",
    "        # step 1 : sign a app in weibo and then define const app key,app srcret,redirect_url\n",
    "        APP_KEY = '3448083489'\n",
    "        APP_SECRET = '8ad0d24a365ab85ecba0a11cbf23c8e9'\n",
    "        REDIRECT_URL = 'http://api.weibo.com/oauth2/default.html'\n",
    "        # step 2 : get authorize url and code\n",
    "        client = sinaweibopy3.APIClient(app_key=APP_KEY, app_secret=APP_SECRET, redirect_uri=REDIRECT_URL)\n",
    "        url = client.get_authorize_url()\n",
    "        # print(url)\n",
    "        webbrowser.open_new(url)\n",
    "        # step 3 : get Access Token\n",
    "        # Copy the above address to the browser to run, \n",
    "        #enter the account and password to authorize, the new URL contains code\n",
    "        result = client.request_access_token(\n",
    "            input(\"please input code : \"))  # Enter the CODE obtained in the authorized address\n",
    "        print(result)\n",
    "        # At this point, the access_token and expires_in should be saved,\n",
    "        # because there is a validity period.A\n",
    "        # If you need to send the microblog multiple times in a short time,\n",
    "        # you can use it repeatedly without having to acquire it every time.\n",
    "        client.set_access_token(result.access_token, result.expires_in)\n",
    "\n",
    "        # step 4 : using api by access_token\n",
    "        print(client.public_timeline())  # get the latest public Weibo\n",
    "        # =============================================================================\n",
    "        #         statuses = client.public_timeline()['statuses']\n",
    "        #         length = len(statuses)\n",
    "        #         for i in range(0,length):\n",
    "        #             print(\"昵称：\"+statuses[i]['user']['screen_name'])\n",
    "        #             print(\"简介：\"+statuses[i]['user']['description'])\n",
    "        #             print(\"位置：\"+statuses[i]['user']['location'])\n",
    "        # =============================================================================\n",
    "        '''\n",
    "        in this step,the api name have to turn '/' in to '__'\n",
    "        for example,statuses/public_timeline(this is a standard api name) have to turn into statuses__public_timeline\n",
    "        '''\n",
    "        # Or use this method\n",
    "        print(client.get.statuses__public_timeline())\n",
    "\n",
    "        # Obtain the UID of the authorized user\n",
    "        print(client.get.account__get_uid())\n",
    "\n",
    "    except ValueError:\n",
    "        print('pyOauth2Error')\n",
    "\n",
    "if __name__ == '__main__':\n",
    "    main()"
   ]
  },
  {
   "cell_type": "code",
   "execution_count": 2,
   "metadata": {},
   "outputs": [
    {
     "name": "stdout",
     "output_type": "stream",
     "text": [
      "Requirement already satisfied: sinaweibopy3 in /anaconda3/lib/python3.6/site-packages (1.3)\n",
      "Note: you may need to restart the kernel to use updated packages.\n"
     ]
    }
   ],
   "source": []
  },
  {
   "cell_type": "code",
   "execution_count": null,
   "metadata": {},
   "outputs": [],
   "source": []
  }
 ],
 "metadata": {
  "kernelspec": {
   "display_name": "Python 3",
   "language": "python",
   "name": "python3"
  },
  "language_info": {
   "codemirror_mode": {
    "name": "ipython",
    "version": 3
   },
   "file_extension": ".py",
   "mimetype": "text/x-python",
   "name": "python",
   "nbconvert_exporter": "python",
   "pygments_lexer": "ipython3",
   "version": "3.6.8"
  },
  "toc": {
   "base_numbering": 1,
   "nav_menu": {},
   "number_sections": true,
   "sideBar": true,
   "skip_h1_title": false,
   "title_cell": "Table of Contents",
   "title_sidebar": "Contents",
   "toc_cell": false,
   "toc_position": {},
   "toc_section_display": true,
   "toc_window_display": false
  }
 },
 "nbformat": 4,
 "nbformat_minor": 2
}
