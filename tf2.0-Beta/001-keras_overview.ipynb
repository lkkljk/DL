{
 "cells": [
  {
   "cell_type": "code",
   "execution_count": 1,
   "metadata": {},
   "outputs": [
    {
     "name": "stdout",
     "output_type": "stream",
     "text": [
      "2.0.0-beta0\n",
      "2.2.4-tf\n"
     ]
    }
   ],
   "source": [
    "import tensorflow as tf\n",
    "from tensorflow.keras import layers\n",
    "print(tf.__version__)\n",
    "print(tf.keras.__version__)"
   ]
  },
  {
   "cell_type": "markdown",
   "metadata": {},
   "source": [
    "模型堆叠"
   ]
  },
  {
   "cell_type": "code",
   "execution_count": 2,
   "metadata": {},
   "outputs": [],
   "source": [
    "model = tf.keras.Sequential()\n",
    "model.add(layers.Dense(32, activation='relu'))\n",
    "model.add(layers.Dense(32, activation='relu'))\n",
    "model.add(layers.Dense(10, activation='softmax'))"
   ]
  },
  {
   "cell_type": "code",
   "execution_count": 7,
   "metadata": {},
   "outputs": [
    {
     "data": {
      "text/plain": [
       "<tensorflow.python.keras.layers.core.Dense at 0x1c00f4b7cc0>"
      ]
     },
     "execution_count": 7,
     "metadata": {},
     "output_type": "execute_result"
    }
   ],
   "source": [
    "# 网络层内写法\n",
    "\n",
    "layers.Dense(32, activation='sigmoid')\n",
    "layers.Dense(32, activation=tf.sigmoid)\n",
    "\n",
    "layers.Dense(32, kernel_initializer='orthogonal')\n",
    "layers.Dense(32, kernel_initializer=tf.keras.initializers.glorot_normal)\n",
    "# 注意如果用内置函数指定的话，intializers是复数\n",
    "\n",
    "layers.Dense(32, kernel_regularizer=tf.keras.regularizers.l2(0.01))\n",
    "layers.Dense(32, kernel_regularizer=tf.keras.regularizers.l1(0.01))"
   ]
  },
  {
   "cell_type": "markdown",
   "metadata": {},
   "source": [
    "训练和评估"
   ]
  },
  {
   "cell_type": "code",
   "execution_count": 8,
   "metadata": {},
   "outputs": [],
   "source": [
    "model =tf.keras.Sequential()\n",
    "model.add(layers.Dense(32, activation='relu'))\n",
    "model.add(layers.Dense(32, activation='relu'))\n",
    "model.add(layers.Dense(10, activation='softmax'))\n",
    "model.compile(optimizer = tf.keras.optimizers.Adam(0.001),\n",
    "            loss = tf.keras.losses.categorical_crossentropy,\n",
    "             metrics=[tf.metrics.categorical_accuracy])"
   ]
  },
  {
   "cell_type": "code",
   "execution_count": 9,
   "metadata": {},
   "outputs": [
    {
     "name": "stderr",
     "output_type": "stream",
     "text": [
      "WARNING: Logging before flag parsing goes to stderr.\n",
      "W0625 12:18:56.898438  8768 deprecation.py:323] From C:\\Users\\ZSZ\\Anaconda3\\envs\\tf2.0-beta\\lib\\site-packages\\tensorflow\\python\\ops\\math_grad.py:1250: add_dispatch_support.<locals>.wrapper (from tensorflow.python.ops.array_ops) is deprecated and will be removed in a future version.\n",
      "Instructions for updating:\n",
      "Use tf.where in 2.0, which has the same broadcast rule as np.where\n"
     ]
    },
    {
     "name": "stdout",
     "output_type": "stream",
     "text": [
      "Train on 1000 samples, validate on 200 samples\n",
      "Epoch 1/10\n",
      "1000/1000 [==============================] - 4s 4ms/sample - loss: 11.5758 - categorical_accuracy: 0.0990 - val_loss: 11.5831 - val_categorical_accuracy: 0.1250\n",
      "Epoch 2/10\n",
      "1000/1000 [==============================] - 0s 64us/sample - loss: 11.5452 - categorical_accuracy: 0.1090 - val_loss: 11.5679 - val_categorical_accuracy: 0.1200\n",
      "Epoch 3/10\n",
      "1000/1000 [==============================] - 0s 46us/sample - loss: 11.5365 - categorical_accuracy: 0.0950 - val_loss: 11.5605 - val_categorical_accuracy: 0.1150\n",
      "Epoch 4/10\n",
      "1000/1000 [==============================] - 0s 51us/sample - loss: 11.5312 - categorical_accuracy: 0.0870 - val_loss: 11.5576 - val_categorical_accuracy: 0.1350\n",
      "Epoch 5/10\n",
      "1000/1000 [==============================] - 0s 46us/sample - loss: 11.5280 - categorical_accuracy: 0.0890 - val_loss: 11.5556 - val_categorical_accuracy: 0.1300\n",
      "Epoch 6/10\n",
      "1000/1000 [==============================] - 0s 46us/sample - loss: 11.5249 - categorical_accuracy: 0.0880 - val_loss: 11.5526 - val_categorical_accuracy: 0.1300\n",
      "Epoch 7/10\n",
      "1000/1000 [==============================] - 0s 47us/sample - loss: 11.5231 - categorical_accuracy: 0.0960 - val_loss: 11.5511 - val_categorical_accuracy: 0.1450\n",
      "Epoch 8/10\n",
      "1000/1000 [==============================] - 0s 46us/sample - loss: 11.5210 - categorical_accuracy: 0.0990 - val_loss: 11.5493 - val_categorical_accuracy: 0.1400\n",
      "Epoch 9/10\n",
      "1000/1000 [==============================] - 0s 45us/sample - loss: 11.5195 - categorical_accuracy: 0.1040 - val_loss: 11.5500 - val_categorical_accuracy: 0.1300\n",
      "Epoch 10/10\n",
      "1000/1000 [==============================] - 0s 49us/sample - loss: 11.5178 - categorical_accuracy: 0.1110 - val_loss: 11.5495 - val_categorical_accuracy: 0.1200\n"
     ]
    },
    {
     "data": {
      "text/plain": [
       "<tensorflow.python.keras.callbacks.History at 0x1c00f60ae48>"
      ]
     },
     "execution_count": 9,
     "metadata": {},
     "output_type": "execute_result"
    }
   ],
   "source": [
    "import numpy as np\n",
    "\n",
    "train_x = np.random.random((1000, 72))\n",
    "train_y = np.random.random((1000, 10))\n",
    "\n",
    "val_x = np.random.random((200, 72))\n",
    "val_y = np.random.random((200, 10))\n",
    "\n",
    "model.fit(train_x, train_y, epochs = 10, batch_size = 100,\n",
    "         validation_data = (val_x, val_y))"
   ]
  },
  {
   "cell_type": "code",
   "execution_count": 10,
   "metadata": {},
   "outputs": [],
   "source": [
    "# 用tf.data输入数据\n",
    "\n",
    "dataset = tf.data.Dataset.from_tensor_slices((train_x, train_y))\n",
    "dataset = dataset.batch(32)\n",
    "dataset = dataset.repeat()\n",
    "\n",
    "val_dataset = tf.data.Dataset.from_tensor_slices((val_x, val_y))\n",
    "val_dataset = val_dataset.batch(32)\n",
    "val_dataset = val_dataset.repeat()"
   ]
  },
  {
   "cell_type": "code",
   "execution_count": 12,
   "metadata": {},
   "outputs": [
    {
     "name": "stderr",
     "output_type": "stream",
     "text": [
      "W0625 12:23:50.999273  8768 training_utils.py:1436] Expected a shuffled dataset but input dataset `x` is not shuffled. Please invoke `shuffle()` on input dataset.\n"
     ]
    },
    {
     "name": "stdout",
     "output_type": "stream",
     "text": [
      "Epoch 1/10\n",
      "20/20 [==============================] - 0s 6ms/step - loss: 11.5215 - categorical_accuracy: 0.1688 - val_loss: 11.4934 - val_categorical_accuracy: 0.1146\n",
      "Epoch 2/10\n",
      "20/20 [==============================] - 0s 6ms/step - loss: 11.4923 - categorical_accuracy: 0.1364 - val_loss: 11.4887 - val_categorical_accuracy: 0.1354\n",
      "Epoch 3/10\n",
      "20/20 [==============================] - 0s 6ms/step - loss: 11.4762 - categorical_accuracy: 0.1422 - val_loss: 11.4928 - val_categorical_accuracy: 0.0729\n",
      "Epoch 4/10\n",
      "20/20 [==============================] - 0s 5ms/step - loss: 11.4550 - categorical_accuracy: 0.1802 - val_loss: 11.4967 - val_categorical_accuracy: 0.1042\n",
      "Epoch 5/10\n",
      "20/20 [==============================] - 0s 5ms/step - loss: 11.4626 - categorical_accuracy: 0.1445 - val_loss: 11.4927 - val_categorical_accuracy: 0.1250\n",
      "Epoch 6/10\n",
      "20/20 [==============================] - 0s 6ms/step - loss: 11.4816 - categorical_accuracy: 0.1578 - val_loss: 11.4949 - val_categorical_accuracy: 0.0833\n",
      "Epoch 7/10\n",
      "20/20 [==============================] - 0s 5ms/step - loss: 11.4723 - categorical_accuracy: 0.1867 - val_loss: 11.5000 - val_categorical_accuracy: 0.1250\n",
      "Epoch 8/10\n",
      "20/20 [==============================] - 0s 6ms/step - loss: 11.4037 - categorical_accuracy: 0.1412 - val_loss: 11.4972 - val_categorical_accuracy: 0.1250\n",
      "Epoch 9/10\n",
      "20/20 [==============================] - 0s 6ms/step - loss: 11.4963 - categorical_accuracy: 0.1750 - val_loss: 11.5024 - val_categorical_accuracy: 0.1042\n",
      "Epoch 10/10\n",
      "20/20 [==============================] - 0s 6ms/step - loss: 11.4660 - categorical_accuracy: 0.1656 - val_loss: 11.5020 - val_categorical_accuracy: 0.1146\n"
     ]
    },
    {
     "data": {
      "text/plain": [
       "<tensorflow.python.keras.callbacks.History at 0x1c079b335c0>"
      ]
     },
     "execution_count": 12,
     "metadata": {},
     "output_type": "execute_result"
    }
   ],
   "source": [
    "model.fit(dataset, epochs=10, steps_per_epoch=20, shuffle = True,\n",
    "         validation_data = val_dataset, validation_steps=3)"
   ]
  },
  {
   "cell_type": "code",
   "execution_count": 13,
   "metadata": {},
   "outputs": [
    {
     "name": "stdout",
     "output_type": "stream",
     "text": [
      "1000/1000 [==============================] - 0s 137us/sample - loss: 11.5662 - categorical_accuracy: 0.1130\n",
      "30/30 [==============================] - 0s 3ms/step - loss: 11.5817 - categorical_accuracy: 0.1104\n"
     ]
    },
    {
     "data": {
      "text/plain": [
       "[11.581687037150065, 0.110416666]"
      ]
     },
     "execution_count": 13,
     "metadata": {},
     "output_type": "execute_result"
    }
   ],
   "source": [
    "# 评估与预测\n",
    "\n",
    "test_x = np.random.random((1000, 72))\n",
    "test_y = np.random.random((1000, 10))\n",
    "\n",
    "model.evaluate(test_x, test_y, batch_size=32)\n",
    "test_data = tf.data.Dataset.from_tensor_slices((test_x, test_y))\n",
    "test_data = test_data.batch(32).repeat()\n",
    "model.evaluate(test_data, steps=30)"
   ]
  },
  {
   "cell_type": "code",
   "execution_count": 16,
   "metadata": {},
   "outputs": [
    {
     "name": "stdout",
     "output_type": "stream",
     "text": [
      "[[0.098343   0.10552397 0.12761746 ... 0.1213773  0.09635858 0.10230818]\n",
      " [0.10097872 0.11000811 0.08558819 ... 0.10391717 0.09740291 0.1035723 ]\n",
      " [0.10654136 0.0949679  0.11583142 ... 0.10366797 0.09467392 0.09472222]\n",
      " ...\n",
      " [0.10214821 0.10102384 0.09580076 ... 0.11671109 0.10111518 0.09210631]\n",
      " [0.10688464 0.10007742 0.0945962  ... 0.10281097 0.09613011 0.10199302]\n",
      " [0.11736409 0.09114841 0.11543581 ... 0.07312004 0.09009486 0.10564063]]\n"
     ]
    }
   ],
   "source": [
    "result = model.predict(test_x, batch_size=32)\n",
    "print(result)"
   ]
  },
  {
   "cell_type": "code",
   "execution_count": 20,
   "metadata": {},
   "outputs": [
    {
     "name": "stdout",
     "output_type": "stream",
     "text": [
      "Train on 1000 samples\n",
      "Epoch 1/5\n",
      "1000/1000 [==============================] - 0s 299us/sample - loss: 11.5997 - accuracy: 0.1070\n",
      "Epoch 2/5\n",
      "1000/1000 [==============================] - 0s 131us/sample - loss: 11.5315 - accuracy: 0.0990\n",
      "Epoch 3/5\n",
      "1000/1000 [==============================] - 0s 126us/sample - loss: 11.5250 - accuracy: 0.0980\n",
      "Epoch 4/5\n",
      "1000/1000 [==============================] - 0s 121us/sample - loss: 11.5238 - accuracy: 0.1040\n",
      "Epoch 5/5\n",
      "1000/1000 [==============================] - 0s 128us/sample - loss: 11.5225 - accuracy: 0.1060\n"
     ]
    },
    {
     "data": {
      "text/plain": [
       "<tensorflow.python.keras.callbacks.History at 0x1c0782e8940>"
      ]
     },
     "execution_count": 20,
     "metadata": {},
     "output_type": "execute_result"
    }
   ],
   "source": [
    "# 函数式api\n",
    "\n",
    "#Sequential()只能简单地堆叠模型， 而函数式api可以构建复杂模型，例如多输入或多输出等等\n",
    "\n",
    "input_x = tf.keras.Input(shape=(72, ))\n",
    "hidden1 = layers.Dense(32, activation='relu')(input_x)\n",
    "hidden2 = layers.Dense(16, activation='relu')(hidden1)\n",
    "pred = layers.Dense(10, activation='softmax')(hidden2)\n",
    "\n",
    "\n",
    "#定义模型输入和输出，中间层会被自动计算进去，因为他么么互相关联\n",
    "model = tf.keras.Model(inputs = input_x, outputs=pred)\n",
    "model.compile(optimizer=tf.keras.optimizers.Adam(0.001),\n",
    "             loss = tf.keras.losses.categorical_crossentropy,\n",
    "             metrics=['accuracy'])\n",
    "model.fit(train_x, train_y, batch_size=32, epochs=5)"
   ]
  },
  {
   "cell_type": "code",
   "execution_count": 21,
   "metadata": {},
   "outputs": [
    {
     "name": "stdout",
     "output_type": "stream",
     "text": [
      "Train on 1000 samples\n",
      "Epoch 1/5\n",
      "1000/1000 [==============================] - 1s 511us/sample - loss: 11.6047 - accuracy: 0.0970\n",
      "Epoch 2/5\n",
      "1000/1000 [==============================] - 0s 250us/sample - loss: 11.5298 - accuracy: 0.0960\n",
      "Epoch 3/5\n",
      "1000/1000 [==============================] - 0s 224us/sample - loss: 11.5237 - accuracy: 0.1070\n",
      "Epoch 4/5\n",
      "1000/1000 [==============================] - 0s 242us/sample - loss: 11.5205 - accuracy: 0.1110\n",
      "Epoch 5/5\n",
      "1000/1000 [==============================] - 0s 227us/sample - loss: 11.5174 - accuracy: 0.1110\n"
     ]
    },
    {
     "data": {
      "text/plain": [
       "<tensorflow.python.keras.callbacks.History at 0x1c0d11d5358>"
      ]
     },
     "execution_count": 21,
     "metadata": {},
     "output_type": "execute_result"
    }
   ],
   "source": [
    "#  模型子类化  类似pytorch\n",
    "\n",
    "class myModel(tf.keras.Model):\n",
    "    def __init__(self, num_classes=10):\n",
    "        super(myModel, self).__init__(name='my_model')\n",
    "        self.num_classes = num_classes\n",
    "        self.layer1  = layers.Dense(32, activation='relu')\n",
    "        self.layer2 = layers.Dense(num_classes, activation='softmax')\n",
    "        \n",
    "    def call(self, inputs):\n",
    "        h1 = self.layer1(inputs)\n",
    "        out = self.layer2(h1)\n",
    "        return out\n",
    "    def compute_output_shape(self, input_shape):\n",
    "        shape = tf.TensorShape(input_shape).as_list()\n",
    "        shape[-1]=self.num_classes\n",
    "        return tf.TensorShape(shape)\n",
    "    \n",
    "model = myModel(num_classes=10)\n",
    "model.compile(optimizer=tf.keras.optimizers.RMSprop(0.001),\n",
    "             loss=tf.keras.losses.categorical_crossentropy,\n",
    "             metrics = ['accuracy'])\n",
    "model.fit(train_x, train_y, batch_size=16, epochs=5)"
   ]
  },
  {
   "cell_type": "code",
   "execution_count": 25,
   "metadata": {},
   "outputs": [
    {
     "name": "stdout",
     "output_type": "stream",
     "text": [
      "Train on 1000 samples, validate on 200 samples\n",
      "Epoch 1/5\n"
     ]
    },
    {
     "name": "stderr",
     "output_type": "stream",
     "text": [
      "W0625 12:56:39.348121  8768 callbacks.py:241] Method (on_train_batch_end) is slow compared to the batch update (0.351896). Check your callbacks.\n"
     ]
    },
    {
     "name": "stdout",
     "output_type": "stream",
     "text": [
      "\r",
      "  16/1000 [..............................] - ETA: 22s - loss: 11.6758 - accuracy: 0.0625"
     ]
    },
    {
     "name": "stderr",
     "output_type": "stream",
     "text": [
      "W0625 12:56:39.681230  8768 callbacks.py:241] Method (on_train_batch_end) is slow compared to the batch update (0.313089). Check your callbacks.\n"
     ]
    },
    {
     "name": "stdout",
     "output_type": "stream",
     "text": [
      "\b\b\b\b\b\b\b\b\b\b\b\b\b\b\b\b\b\b\b\b\b\b\b\b\b\b\b\b\b\b\b\b\b\b\b\b\b\b\b\b\b\b\b\b\b\b\b\b\b\b\b\b\b\b\b\b\b\b\b\b\b\b\b\b\b\b\b\b\b\b\b\b\b\b\b\b\b\b\b\b\b\b\b\b\b\b\b\b\r",
      "  32/1000 [..............................] - ETA: 20s - loss: 11.3598 - accuracy: 0.0625"
     ]
    },
    {
     "name": "stderr",
     "output_type": "stream",
     "text": [
      "W0625 12:56:39.688212  8768 callbacks.py:241] Method (on_train_batch_end) is slow compared to the batch update (0.274282). Check your callbacks.\n",
      "W0625 12:56:39.695194  8768 callbacks.py:241] Method (on_train_batch_end) is slow compared to the batch update (0.137141). Check your callbacks.\n"
     ]
    },
    {
     "name": "stdout",
     "output_type": "stream",
     "text": [
      "1000/1000 [==============================] - 1s 1ms/sample - loss: 11.5157 - accuracy: 0.1190 - val_loss: 11.5518 - val_accuracy: 0.1000\n",
      "Epoch 2/5\n",
      "1000/1000 [==============================] - 0s 346us/sample - loss: 11.5131 - accuracy: 0.1190 - val_loss: 11.5506 - val_accuracy: 0.0950\n",
      "Epoch 3/5\n",
      "1000/1000 [==============================] - 0s 380us/sample - loss: 11.5108 - accuracy: 0.1230 - val_loss: 11.5521 - val_accuracy: 0.1300\n",
      "Epoch 4/5\n",
      "1000/1000 [==============================] - 0s 380us/sample - loss: 11.5079 - accuracy: 0.1260 - val_loss: 11.5519 - val_accuracy: 0.1200\n"
     ]
    },
    {
     "data": {
      "text/plain": [
       "<tensorflow.python.keras.callbacks.History at 0x1c0d3c05cf8>"
      ]
     },
     "execution_count": 25,
     "metadata": {},
     "output_type": "execute_result"
    }
   ],
   "source": [
    "# 回调\n",
    "import os\n",
    "logdir = 'callbacks'\n",
    "if not os.path.exists(logdir):\n",
    "    os.mkdir(logdir)\n",
    "output_model_file = os.path.join(logdir,\n",
    "                                'fashion_mnist_model.h5')\n",
    "\n",
    "callbacks = [\n",
    "    tf.keras.callbacks.EarlyStopping(patience=2, monitor='val_loss'),\n",
    "    tf.keras.callbacks.TensorBoard(log_dir='logdir')\n",
    "]\n",
    "model.fit(train_x, train_y, batch_size=16, epochs=5,\n",
    "         callbacks=callbacks, validation_data=(val_x,val_y))"
   ]
  },
  {
   "cell_type": "code",
   "execution_count": null,
   "metadata": {},
   "outputs": [],
   "source": []
  }
 ],
 "metadata": {
  "kernelspec": {
   "display_name": "Python 3",
   "language": "python",
   "name": "python3"
  },
  "language_info": {
   "codemirror_mode": {
    "name": "ipython",
    "version": 3
   },
   "file_extension": ".py",
   "mimetype": "text/x-python",
   "name": "python",
   "nbconvert_exporter": "python",
   "pygments_lexer": "ipython3",
   "version": "3.6.8"
  }
 },
 "nbformat": 4,
 "nbformat_minor": 2
}
