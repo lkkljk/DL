{
 "cells": [
  {
   "cell_type": "code",
   "execution_count": 2,
   "metadata": {},
   "outputs": [],
   "source": [
    "import tensorflow as tf\n",
    "from tensorflow.examples.tutorials.mnist import input_data"
   ]
  },
  {
   "cell_type": "code",
   "execution_count": 4,
   "metadata": {},
   "outputs": [
    {
     "name": "stdout",
     "output_type": "stream",
     "text": [
      "Extracting MNIST\\train-images-idx3-ubyte.gz\n",
      "Extracting MNIST\\train-labels-idx1-ubyte.gz\n",
      "Extracting MNIST\\t10k-images-idx3-ubyte.gz\n",
      "Extracting MNIST\\t10k-labels-idx1-ubyte.gz\n",
      "Iteration: 0Accuracy:0.8346\n",
      "Iteration: 1Accuracy:0.8711\n",
      "Iteration: 2Accuracy:0.8813\n",
      "Iteration: 3Accuracy:0.8877\n",
      "Iteration: 4Accuracy:0.8938\n",
      "Iteration: 5Accuracy:0.8979\n",
      "Iteration: 6Accuracy:0.9003\n",
      "Iteration: 7Accuracy:0.9018\n",
      "Iteration: 8Accuracy:0.904\n",
      "Iteration: 9Accuracy:0.9047\n",
      "Iteration: 10Accuracy:0.9062\n",
      "Iteration: 11Accuracy:0.9073\n",
      "Iteration: 12Accuracy:0.908\n",
      "Iteration: 13Accuracy:0.9088\n",
      "Iteration: 14Accuracy:0.9089\n",
      "Iteration: 15Accuracy:0.9105\n",
      "Iteration: 16Accuracy:0.9119\n",
      "Iteration: 17Accuracy:0.9127\n",
      "Iteration: 18Accuracy:0.9127\n",
      "Iteration: 19Accuracy:0.9134\n",
      "Iteration: 20Accuracy:0.9137\n"
     ]
    }
   ],
   "source": [
    "#载入数据集\n",
    "mnist = input_data.read_data_sets('MNIST', one_hot=True)\n",
    "\n",
    "#定义批次的大小\n",
    "batch_size = 100\n",
    "#计算一共有多少个批次\n",
    "n_batch = mnist.train.num_examples // batch_size\n",
    "\n",
    "#定义占位符\n",
    "x = tf.placeholder(tf.float32,[None,784])\n",
    "y = tf.placeholder(tf.float32,[None,10])\n",
    "\n",
    "#创建网络\n",
    "W = tf.Variable(tf.zeros([784,10]))\n",
    "b = tf.Variable(tf.zeros([10]))\n",
    "prediction = tf.nn.softmax(tf.matmul(x,W)+b)\n",
    "\n",
    "#Cost Function\n",
    "loss = tf.reduce_mean(tf.square(y-prediction))\n",
    "#梯度下降\n",
    "train_step = tf.train.GradientDescentOptimizer(0.2).minimize(loss)\n",
    "#初始化\n",
    "init = tf.global_variables_initializer()\n",
    "#预测结果存到布尔型列表中\n",
    "correct_prediction = tf.equal(tf.argmax(y,1), tf.argmax(prediction,1))  #argmax：arguments of the maxima,最大值自变量点集, tf.equal 判断是否相等， True/False\n",
    "\n",
    "#求准确率\n",
    "accuracy = tf.reduce_mean(tf.cast(correct_prediction, tf.float32))  #把布尔型转换成浮点型, True = 1.0, False = 0, reduce_mean求平均值\n",
    "# 用平均值表示准确率\n",
    "\n",
    "with tf.Session() as sess:\n",
    "    sess.run(init)\n",
    "    for epoch in range(21):\n",
    "        for batch in range(n_batch):\n",
    "            batch_xs, batch_ys = mnist.train.next_batch(batch_size) #从数据集中抽取图像存在_xs, label存在_ys\n",
    "            sess.run(train_step, feed_dict={x:batch_xs, y:batch_ys})\n",
    "            \n",
    "        acc = sess.run(accuracy, feed_dict={x:mnist.test.images, y:mnist.test.labels})\n",
    "        print('Iteration: '+ str(epoch)+' Accuracy:'+ str(acc))"
   ]
  },
  {
   "cell_type": "markdown",
   "metadata": {},
   "source": [
    "后续：如何将准确率提升至95%\n",
    "\n",
    "1. batch size修改\n",
    "2. 增加layer\n",
    "3. 不同的初始值（权重值和偏置值）\n",
    "4. 不同的cost function\n",
    "5. 不同的学习率\n",
    "6. 不同的优化方式（梯度下降法）\n",
    "7. 训练次数的调整"
   ]
  }
 ],
 "metadata": {
  "kernelspec": {
   "display_name": "Python 3",
   "language": "python",
   "name": "python3"
  },
  "language_info": {
   "codemirror_mode": {
    "name": "ipython",
    "version": 3
   },
   "file_extension": ".py",
   "mimetype": "text/x-python",
   "name": "python",
   "nbconvert_exporter": "python",
   "pygments_lexer": "ipython3",
   "version": "3.7.3"
  }
 },
 "nbformat": 4,
 "nbformat_minor": 2
}
