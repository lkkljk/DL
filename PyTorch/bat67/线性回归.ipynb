{
 "cells": [
  {
   "cell_type": "code",
   "execution_count": 5,
   "metadata": {},
   "outputs": [],
   "source": [
    "import numpy as np\n",
    "import torch\n",
    "import torch.nn as nn\n",
    "import torch.optim as optim\n",
    "import torch.nn.init as init"
   ]
  },
  {
   "cell_type": "code",
   "execution_count": 15,
   "metadata": {},
   "outputs": [
    {
     "name": "stdout",
     "output_type": "stream",
     "text": [
      "Requirement already up-to-date: visdom in /anaconda3/envs/Pytorch/lib/python3.6/site-packages (0.1.8.8)\n",
      "Requirement already satisfied, skipping upgrade: pyzmq in /anaconda3/envs/Pytorch/lib/python3.6/site-packages (from visdom) (18.0.0)\n",
      "Requirement already satisfied, skipping upgrade: six in /anaconda3/envs/Pytorch/lib/python3.6/site-packages (from visdom) (1.12.0)\n",
      "Requirement already satisfied, skipping upgrade: pillow in /anaconda3/envs/Pytorch/lib/python3.6/site-packages (from visdom) (6.1.0)\n",
      "Requirement already satisfied, skipping upgrade: numpy>=1.8 in /anaconda3/envs/Pytorch/lib/python3.6/site-packages (from visdom) (1.16.4)\n",
      "Requirement already satisfied, skipping upgrade: requests in /anaconda3/envs/Pytorch/lib/python3.6/site-packages (from visdom) (2.22.0)\n",
      "Requirement already satisfied, skipping upgrade: scipy in /anaconda3/envs/Pytorch/lib/python3.6/site-packages (from visdom) (1.3.0)\n",
      "Requirement already satisfied, skipping upgrade: tornado in /anaconda3/envs/Pytorch/lib/python3.6/site-packages (from visdom) (6.0.2)\n",
      "Requirement already satisfied, skipping upgrade: websocket-client in /anaconda3/envs/Pytorch/lib/python3.6/site-packages (from visdom) (0.56.0)\n",
      "Requirement already satisfied, skipping upgrade: torchfile in /anaconda3/envs/Pytorch/lib/python3.6/site-packages (from visdom) (0.1.0)\n",
      "Requirement already satisfied, skipping upgrade: urllib3!=1.25.0,!=1.25.1,<1.26,>=1.21.1 in /anaconda3/envs/Pytorch/lib/python3.6/site-packages (from requests->visdom) (1.25.3)\n",
      "Requirement already satisfied, skipping upgrade: idna<2.9,>=2.5 in /anaconda3/envs/Pytorch/lib/python3.6/site-packages (from requests->visdom) (2.8)\n",
      "Requirement already satisfied, skipping upgrade: chardet<3.1.0,>=3.0.2 in /anaconda3/envs/Pytorch/lib/python3.6/site-packages (from requests->visdom) (3.0.4)\n",
      "Requirement already satisfied, skipping upgrade: certifi>=2017.4.17 in /anaconda3/envs/Pytorch/lib/python3.6/site-packages (from requests->visdom) (2019.6.16)\n",
      "Note: you may need to restart the kernel to use updated packages.\n"
     ]
    }
   ],
   "source": [
    "pip install --upgrade visdom"
   ]
  },
  {
   "cell_type": "code",
   "execution_count": null,
   "metadata": {},
   "outputs": [],
   "source": []
  },
  {
   "cell_type": "code",
   "execution_count": null,
   "metadata": {},
   "outputs": [],
   "source": []
  },
  {
   "cell_type": "code",
   "execution_count": 7,
   "metadata": {},
   "outputs": [],
   "source": [
    "num_data = 1000 \n",
    "num_epoch = 1000"
   ]
  },
  {
   "cell_type": "code",
   "execution_count": 8,
   "metadata": {},
   "outputs": [
    {
     "name": "stderr",
     "output_type": "stream",
     "text": [
      "/anaconda3/envs/Pytorch/lib/python3.6/site-packages/ipykernel_launcher.py:1: UserWarning: nn.init.normal is now deprecated in favor of nn.init.normal_.\n",
      "  \"\"\"Entry point for launching an IPython kernel.\n",
      "/anaconda3/envs/Pytorch/lib/python3.6/site-packages/ipykernel_launcher.py:2: UserWarning: nn.init.uniform is now deprecated in favor of nn.init.uniform_.\n",
      "  \n"
     ]
    }
   ],
   "source": [
    "noise = init.normal(torch.FloatTensor(num_data,1),std=0.2)\n",
    "x = init.uniform(torch.Tensor(num_data,1),-10,10)\n",
    "y = 2*x+3\n",
    "y_noise = 2*(x+noise)+3"
   ]
  },
  {
   "cell_type": "code",
   "execution_count": null,
   "metadata": {},
   "outputs": [],
   "source": []
  }
 ],
 "metadata": {
  "kernelspec": {
   "display_name": "Python 3",
   "language": "python",
   "name": "python3"
  },
  "language_info": {
   "codemirror_mode": {
    "name": "ipython",
    "version": 3
   },
   "file_extension": ".py",
   "mimetype": "text/x-python",
   "name": "python",
   "nbconvert_exporter": "python",
   "pygments_lexer": "ipython3",
   "version": "3.6.8"
  }
 },
 "nbformat": 4,
 "nbformat_minor": 2
}
